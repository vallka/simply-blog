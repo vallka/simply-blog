{
 "cells": [
  {
   "cell_type": "code",
   "execution_count": 1,
   "metadata": {},
   "outputs": [],
   "source": [
    "from datetime import datetime, timedelta\n",
    "import re\n",
    "import os\n",
    "import base64\n",
    "from dateutil import parser\n",
    "from dateutil.tz import gettz\n",
    "from io import BytesIO\n",
    "from iptcinfo3 import IPTCInfo\n",
    "\n",
    "from imagekitio import ImageKit\n",
    "import requests\n",
    "from exif import Image\n"
   ]
  },
  {
   "cell_type": "code",
   "execution_count": 2,
   "metadata": {},
   "outputs": [],
   "source": [
    "import os\n",
    "os.environ[\"DJANGO_ALLOW_ASYNC_UNSAFE\"] = \"true\""
   ]
  },
  {
   "cell_type": "code",
   "execution_count": 3,
   "metadata": {},
   "outputs": [],
   "source": [
    "import django\n",
    "django.setup()\n",
    "from fotoweb.models import Image as FImage"
   ]
  },
  {
   "cell_type": "code",
   "execution_count": 8,
   "metadata": {},
   "outputs": [],
   "source": [
    "from fotoweb.models import Album"
   ]
  },
  {
   "cell_type": "code",
   "execution_count": 4,
   "metadata": {},
   "outputs": [],
   "source": [
    "imagekit = ImageKit(\n",
    "    private_key=os.environ['IMAGEKIT_PRIVATE_KEY'],\n",
    "    public_key=os.environ['IMAGEKIT_PUBLIC_KEY'],\n",
    "    url_endpoint=os.environ['IMAGEKIT_URL_ENDPOINT'],\n",
    ")\n"
   ]
  },
  {
   "cell_type": "code",
   "execution_count": 6,
   "metadata": {},
   "outputs": [],
   "source": [
    "from django.db import connection\n",
    "connection.connect()"
   ]
  },
  {
   "cell_type": "code",
   "execution_count": 7,
   "metadata": {},
   "outputs": [
    {
     "name": "stderr",
     "output_type": "stream",
     "text": [
      "d:\\a\\simply-blog\\.venv\\lib\\site-packages\\django\\db\\models\\fields\\__init__.py:1595: RuntimeWarning: DateTimeField Image.created_dt received a naive datetime (2021-01-01 00:00:00) while time zone support is active.\n",
      "  warnings.warn(\n",
      "d:\\a\\simply-blog\\.venv\\lib\\site-packages\\django\\db\\models\\fields\\__init__.py:1595: RuntimeWarning: DateTimeField Image.created_dt received a naive datetime (2022-01-01 00:00:00) while time zone support is active.\n",
      "  warnings.warn(\n"
     ]
    },
    {
     "data": {
      "text/plain": [
       "779"
      ]
     },
     "execution_count": 7,
     "metadata": {},
     "output_type": "execute_result"
    }
   ],
   "source": [
    "#ii = FImage.objects.filter(path__contains='Ben_Nevis')\n",
    "#ii = FImage.objects.filter(path__contains='/zurich/')\n",
    "ii = FImage.objects.filter(created_dt__gt='2021-01-01',created_dt__lt='2022-01-01')\n",
    "len(ii)"
   ]
  },
  {
   "cell_type": "code",
   "execution_count": 76,
   "metadata": {},
   "outputs": [
    {
     "data": {
      "text/plain": [
       "datetime.datetime(2015, 5, 4, 15, 28, 48, tzinfo=datetime.timezone.utc)"
      ]
     },
     "execution_count": 76,
     "metadata": {},
     "output_type": "execute_result"
    }
   ],
   "source": [
    "ii = FImage.objects.get(url='https://ik.imagekit.io/jcu9wdm9ilp/C1/foto/Lost_Collections/Falls_of_Bruar_and_around_the_wood_2015_/JPEG-2048_web/IMGP9701.jpg')\n",
    "ii.created_dt"
   ]
  },
  {
   "cell_type": "markdown",
   "metadata": {},
   "source": []
  },
  {
   "cell_type": "code",
   "execution_count": null,
   "metadata": {},
   "outputs": [],
   "source": [
    "imgs=[]\n",
    "for i in ii:\n",
    "    print(i.name)\n",
    "    res = imagekit.list_files({'name':i.name})\n",
    "    url=res['response'][0]['url']+'/tr:f-jpg,md-true'\n",
    "    img=requests.get(url)\n",
    "    image = Image(BytesIO(img.content))\n",
    "    dt=image.get('datetime_original')\n",
    "    if dt:\n",
    "        dt=parser.parse(dt.replace(':','-',2)+'Z',tzinfos={'GMT':gettz('UTC')})\n",
    "        print(dt)\n",
    "        i=FImage.objects.get(name=i.name)\n",
    "        i.created_dt=dt\n",
    "        i.save()\n",
    "        imgs.append([i.name,dt])\n",
    "    \n",
    "    \n",
    "    \n",
    "    "
   ]
  },
  {
   "cell_type": "code",
   "execution_count": 85,
   "metadata": {},
   "outputs": [
    {
     "data": {
      "text/plain": [
       "2"
      ]
     },
     "execution_count": 85,
     "metadata": {},
     "output_type": "execute_result"
    }
   ],
   "source": [
    "albums = Album.objects.filter(taken_dt__isnull=True)\n",
    "len(albums)"
   ]
  },
  {
   "cell_type": "code",
   "execution_count": null,
   "metadata": {},
   "outputs": [],
   "source": [
    "for album in albums:\n",
    "    dt_str = re.sub('^.*/','',album.cover)\n",
    "    dt_match = re.search(r'\\d\\d-\\d\\d-\\d\\d',dt_str)\n",
    "    if dt_match:\n",
    "        dt = '20' + dt_match.group(0)\n",
    "        dt = parser.parse(dt)\n",
    "        if not album.taken_dt:\n",
    "            print('saving')            \n",
    "            album.taken_dt = dt\n",
    "            album.save()\n",
    "    else:\n",
    "        img=requests.get(album.cover)\n",
    "        img\n",
    "        dt = None    \n",
    "    print(album.id,album.title,album.taken_dt,dt_str,dt)\n"
   ]
  },
  {
   "cell_type": "code",
   "execution_count": 84,
   "metadata": {},
   "outputs": [
    {
     "name": "stdout",
     "output_type": "stream",
     "text": [
      "152 Lost_Collections/Gran_Canaria None  https://ik.imagekit.io/jcu9wdm9ilp/C1/foto/Lost_Collections/Gran_Canaria/JPEG-2048_web/IMGP7311.jpg\n",
      "153 Lost_Collections/Isle_of_Bute_Sailing None  https://ik.imagekit.io/jcu9wdm9ilp/C1/foto/Lost_Collections/Isle_of_Bute_Sailing/JPEG-2048_web/IMGP8001.jpg\n",
      "1182:IMGP8001.jpg\n",
      "2022-02-07 17:08:55.446332+00:00\n",
      "154 Lost_Collections/Tenerife None  https://ik.imagekit.io/jcu9wdm9ilp/C1/foto/Lost_Collections/Tenerife/JPEG-2048_web/IMGP9073.jpg\n",
      "1240:IMGP9073.jpg\n",
      "2017-09-30 09:29:23+00:00\n",
      "155 Lost_Collections/BG_in_St_Andrews None  https://ik.imagekit.io/jcu9wdm9ilp/C1/foto/Lost_Collections/BG_in_St_Andrews/JPEG-2048_web/IMGP2692.jpg\n",
      "1364:IMGP2692.jpg\n",
      "2015-10-07 19:54:20+00:00\n",
      "156 Lost_Collections/arran-kintyre None  https://ik.imagekit.io/jcu9wdm9ilp/C1/foto/Lost_Collections/arran-kintyre/JPEG-2048_web/IMGP5249.jpg\n",
      "1411:IMGP5249.jpg\n",
      "2014-06-07 17:41:53+00:00\n",
      "157 Lost_Collections/basel None  https://ik.imagekit.io/jcu9wdm9ilp/C1/foto/Lost_Collections/basel/JPEG-2048_web/IMGP6380.jpg\n",
      "1452:IMGP6380.jpg\n",
      "2014-10-02 14:03:31+00:00\n",
      "158 Lost_Collections/battle-of-prestonpans-1745 None  https://ik.imagekit.io/jcu9wdm9ilp/C1/foto/Lost_Collections/battle-of-prestonpans-1745/JPEG-2048_web/P1130062.jpg\n",
      "1472:P1130062.jpg\n",
      "2010-09-25 14:15:00+00:00\n",
      "164 StillFrames None  https://ik.imagekit.io/jcu9wdm9ilp/C1/foto/StillFrames/JPEG-2048-web/Untitled_1.1.1.jpg\n",
      "1648:Untitled_1.1.1.jpg\n",
      "2022-02-27 19:34:39.714426+00:00\n",
      "167 Lost_Collections/Gran_Canaria_2018 None  https://ik.imagekit.io/jcu9wdm9ilp/C1/foto/Lost_Collections/Gran_Canaria_2018/JPEG-2048_web/IMGP0004.jpg\n",
      "1720:IMGP0004.jpg\n",
      "2018-01-27 15:33:29+00:00\n",
      "168 Lost_Collections/Tay_Forest_Park_-_Kenmore None  https://ik.imagekit.io/jcu9wdm9ilp/C1/foto/Lost_Collections/Tay_Forest_Park_-_Kenmore/JPEG-2048_web/IMGP9084.jpg\n",
      "1789:IMGP9084.jpg\n",
      "2015-04-04 15:54:50+00:00\n",
      "169 Lost_Collections/blackness-castle-wester-shore-wood None  https://ik.imagekit.io/jcu9wdm9ilp/C1/foto/Lost_Collections/blackness-castle-wester-shore-wood/JPEG-2048_web/IMGP9203.jpg\n",
      "1814:IMGP9203.jpg\n",
      "2015-04-05 15:15:36+00:00\n",
      "170 Lost_Collections/bruno None  https://ik.imagekit.io/jcu9wdm9ilp/C1/foto/Lost_Collections/bruno/JPEG-2048_web/20120413_225158.jpg\n",
      "1844:20120413_225158.jpg\n",
      "2012-04-13 22:51:58+00:00\n",
      "171 Lost_Collections/bruno-walk None  https://ik.imagekit.io/jcu9wdm9ilp/C1/foto/Lost_Collections/bruno-walk/JPEG-2048_web/IMGP0109_1.jpg\n",
      "1899:IMGP0109_1.jpg\n",
      "2012-01-01 12:34:07+00:00\n",
      "172 Lost_Collections/christmas-2010-switzerland-leukerbad None  https://ik.imagekit.io/jcu9wdm9ilp/C1/foto/Lost_Collections/christmas-2010-switzerland-leukerbad/JPEG-2048_web/P1130378.jpg\n",
      "1923:P1130378.jpg\n",
      "2010-12-26 09:11:18+00:00\n",
      "173 Lost_Collections/craigvinean-forest-lomond-hills-loch-leven-glendevon None  https://ik.imagekit.io/jcu9wdm9ilp/C1/foto/Lost_Collections/craigvinean-forest-lomond-hills-loch-leven-glendevon/JPEG-2048_web/IMGP7539.jpg\n",
      "1994:IMGP7539.jpg\n",
      "2014-12-15 13:48:29+00:00\n",
      "174 Lost_Collections/cycling-in-craik-forest None  https://ik.imagekit.io/jcu9wdm9ilp/C1/foto/Lost_Collections/cycling-in-craik-forest/JPEG-2048_web/imag0174.jpg\n",
      "2037:imag0174.jpg\n",
      "2012-03-24 14:40:20+00:00\n",
      "175 Lost_Collections/dima-2012 None  https://ik.imagekit.io/jcu9wdm9ilp/C1/foto/Lost_Collections/dima-2012/JPEG-2048_web/20120521_125906.jpg\n",
      "2053:20120521_125906.jpg\n",
      "2012-05-21 12:59:06+00:00\n",
      "176 Lost_Collections/dima-lesha-galya-mama None  https://ik.imagekit.io/jcu9wdm9ilp/C1/foto/Lost_Collections/dima-lesha-galya-mama/JPEG-2048_web/IMGP2573_1.jpg\n",
      "2146:IMGP2573_1.jpg\n",
      "2013-06-08 12:44:04+00:00\n",
      "177 Lost_Collections/dima-start-2013 None  https://ik.imagekit.io/jcu9wdm9ilp/C1/foto/Lost_Collections/dima-start-2013/JPEG-2048_web/IMGP1763.jpg\n",
      "2220:IMGP1763.jpg\n",
      "2013-05-19 09:28:21+00:00\n",
      "178 Lost_Collections/dk-august-12-scotland None  https://ik.imagekit.io/jcu9wdm9ilp/C1/foto/Lost_Collections/dk-august-12-scotland/JPEG-2048_web/p1160237.jpg\n",
      "2242:p1160237.jpg\n",
      "2012-08-17 16:32:48+00:00\n",
      "179 Lost_Collections/dolomites-03-2011 None  https://ik.imagekit.io/jcu9wdm9ilp/C1/foto/Lost_Collections/dolomites-03-2011/JPEG-2048_web/P1130665.jpg\n",
      "2283:P1130665.jpg\n",
      "2011-03-02 11:06:11+00:00\n",
      "180 Lost_Collections/doroga-s-severo-zapada None  https://ik.imagekit.io/jcu9wdm9ilp/C1/foto/Lost_Collections/doroga-s-severo-zapada/JPEG-2048_web/IMGP1786.jpg\n",
      "2360:IMGP1786.jpg\n",
      "2013-05-19 12:09:34+00:00\n",
      "181 Lost_Collections/easter-2012-feshie None  https://ik.imagekit.io/jcu9wdm9ilp/C1/foto/Lost_Collections/easter-2012-feshie/JPEG-2048_web/p1150546.jpg\n",
      "2396:p1150546.jpg\n",
      "2012-04-07 13:27:19+00:00\n",
      "182 Lost_Collections/festival-12 None  https://ik.imagekit.io/jcu9wdm9ilp/C1/foto/Lost_Collections/festival-12/JPEG-2048_web/P1160082.jpg\n",
      "2417:P1160082.jpg\n",
      "2012-07-21 15:00:08+00:00\n",
      "183 Lost_Collections/festival_-kak_obychno- None  https://ik.imagekit.io/jcu9wdm9ilp/C1/foto/Lost_Collections/festival_-kak_obychno-/JPEG-2048_web/IMGP3162.jpg\n",
      "2435:IMGP3162.jpg\n",
      "2013-07-20 13:10:00+00:00\n",
      "184 Lost_Collections/fotomodel-bruno None  https://ik.imagekit.io/jcu9wdm9ilp/C1/foto/Lost_Collections/fotomodel-bruno/JPEG-2048_web/IMGP9007.jpg\n",
      "2476:IMGP9007.jpg\n",
      "2015-03-28 18:20:46+00:00\n",
      "185 Lost_Collections/gillies-hill-lewis-hill-north-third-reservoir None  https://ik.imagekit.io/jcu9wdm9ilp/C1/foto/Lost_Collections/gillies-hill-lewis-hill-north-third-reservoir/JPEG-2048_web/IMGP5066.jpg\n",
      "2491:IMGP5066.jpg\n",
      "2014-05-10 15:03:35+00:00\n",
      "186 Lost_Collections/greece-autumn-regatta-10 None  https://ik.imagekit.io/jcu9wdm9ilp/C1/foto/Lost_Collections/greece-autumn-regatta-10/JPEG-2048_web/P1130125.jpg\n",
      "2533:P1130125.jpg\n",
      "2010-10-12 07:07:49+00:00\n",
      "187 Lost_Collections/hogmanay_2013-14 None  https://ik.imagekit.io/jcu9wdm9ilp/C1/foto/Lost_Collections/hogmanay_2013-14/JPEG-2048_web/IMGP4260.jpg\n",
      "2574:IMGP4260.jpg\n",
      "2013-12-30 19:03:23+00:00\n",
      "188 Lost_Collections/ivan-kupala None  https://ik.imagekit.io/jcu9wdm9ilp/C1/foto/Lost_Collections/ivan-kupala/JPEG-2048_web/IMGP2993.jpg\n",
      "2610:IMGP2993.jpg\n",
      "2013-06-22 11:32:49+00:00\n",
      "189 Lost_Collections/january_sailing_on_firth_of_forth None  https://ik.imagekit.io/jcu9wdm9ilp/C1/foto/Lost_Collections/january_sailing_on_firth_of_forth/JPEG-2048_web/IMGP4417.jpg\n",
      "2645:IMGP4417.jpg\n",
      "2014-01-19 13:14:22+00:00\n",
      "190 Lost_Collections/kingsbarns-to-st-andrews-fife-coast-path None  https://ik.imagekit.io/jcu9wdm9ilp/C1/foto/Lost_Collections/kingsbarns-to-st-andrews-fife-coast-path/JPEG-2048_web/IMGP7159.jpg\n",
      "2710:IMGP7159.jpg\n",
      "2014-10-26 13:55:24+00:00\n",
      "191 Lost_Collections/l4x4r-bathgate-10-12 None  https://ik.imagekit.io/jcu9wdm9ilp/C1/foto/Lost_Collections/l4x4r-bathgate-10-12/JPEG-2048_web/P1160400.jpg\n",
      "2795:P1160400.jpg\n",
      "2012-10-27 11:58:46+00:00\n",
      "192 Lost_Collections/laax-davos None  https://ik.imagekit.io/jcu9wdm9ilp/C1/foto/Lost_Collections/laax-davos/JPEG-2048_web/IMGP4783.jpg\n",
      "2815:IMGP4783.jpg\n",
      "2014-03-09 12:38:28+00:00\n",
      "193 Lost_Collections/les-saisies-2012 None  https://ik.imagekit.io/jcu9wdm9ilp/C1/foto/Lost_Collections/les-saisies-2012/JPEG-2048_web/IMAG0169.jpg\n",
      "2861:IMAG0169.jpg\n",
      "2012-02-05 13:26:37+00:00\n",
      "194 Lost_Collections/loch-earn-dk-sort-of-08-2011 None  https://ik.imagekit.io/jcu9wdm9ilp/C1/foto/Lost_Collections/loch-earn-dk-sort-of-08-2011/JPEG-2048_web/P1140601.jpg\n",
      "2947:P1140601.jpg\n",
      "2011-08-27 16:46:36+00:00\n",
      "195 Lost_Collections/loch-kennard-loch-scoly None  https://ik.imagekit.io/jcu9wdm9ilp/C1/foto/Lost_Collections/loch-kennard-loch-scoly/JPEG-2048_web/IMGP2819.jpg\n",
      "2999:IMGP2819.jpg\n",
      "2013-06-15 18:23:24+00:00\n",
      "196 Lost_Collections/loch-turret-auchnafree-hill None  https://ik.imagekit.io/jcu9wdm9ilp/C1/foto/Lost_Collections/loch-turret-auchnafree-hill/JPEG-2048_web/IMGP7728.jpg\n",
      "3026:IMGP7728.jpg\n",
      "2015-02-08 14:02:10+00:00\n",
      "197 Lost_Collections/lothian-4x4-response-bathgate-offroad None  https://ik.imagekit.io/jcu9wdm9ilp/C1/foto/Lost_Collections/lothian-4x4-response-bathgate-offroad/JPEG-2048_web/offroad02.jpg\n",
      "3039:offroad02.jpg\n",
      "2012-08-05 10:57:49+00:00\n",
      "198 Lost_Collections/lothian-4x4-response-bathgate-offroad/video None  https://ik.imagekit.io/jcu9wdm9ilp/C1/foto/Lost_Collections/more-winter-walks/JPEG-2048_web/IMGP4677.jpg\n",
      "3069:IMGP4677.jpg\n",
      "2014-02-15 14:43:21+00:00\n",
      "199 Lost_Collections/more-winter-walks None  https://ik.imagekit.io/jcu9wdm9ilp/C1/foto/Lost_Collections/more-winter-walks/JPEG-2048_web/IMGP4677.jpg\n",
      "3069:IMGP4677.jpg\n",
      "2014-02-15 14:43:21+00:00\n",
      "200 Lost_Collections/na_plyazha_-_bruno_uchitsya_plavat None  https://ik.imagekit.io/jcu9wdm9ilp/C1/foto/Lost_Collections/na_plyazha_-_bruno_uchitsya_plavat/JPEG-2048_web/IMGP3093.jpg\n",
      "3108:IMGP3093.jpg\n",
      "2013-07-07 13:30:05+00:00\n",
      "201 Lost_Collections/nemnozhko-muzyki None  https://ik.imagekit.io/jcu9wdm9ilp/C1/foto/Lost_Collections/nemnozhko-muzyki/JPEG-2048_web/IMGP0795.jpg\n",
      "3128:IMGP0795.jpg\n",
      "2013-02-02 20:52:52+00:00\n",
      "202 Lost_Collections/olga-bruno None  https://ik.imagekit.io/jcu9wdm9ilp/C1/foto/Lost_Collections/olga-bruno/JPEG-2048_web/p1160357.jpg\n",
      "3138:p1160357.jpg\n",
      "2012-09-23 12:29:46+00:00\n",
      "203 Lost_Collections/ollka-in-scotland-2011 None  https://ik.imagekit.io/jcu9wdm9ilp/C1/foto/Lost_Collections/ollka-in-scotland-2011/JPEG-2048_web/P1140758.jpg\n",
      "3149:P1140758.jpg\n",
      "2011-09-04 13:31:29+00:00\n",
      "204 Lost_Collections/podmoskove-i-moskva-osen-2014 None  https://ik.imagekit.io/jcu9wdm9ilp/C1/foto/Lost_Collections/podmoskove-i-moskva-osen-2014/JPEG-2048_web/IMGP6466.jpg\n",
      "3164:IMGP6466.jpg\n",
      "2014-10-04 11:29:39+00:00\n",
      "205 Lost_Collections/progulka-v-yanvarskom-lesu None  https://ik.imagekit.io/jcu9wdm9ilp/C1/foto/Lost_Collections/progulka-v-yanvarskom-lesu/JPEG-2048_web/IMGP0544.jpg\n",
      "3267:IMGP0544.jpg\n",
      "2013-01-06 12:59:42+00:00\n",
      "206 Lost_Collections/s-dimoi-po-aile-i-zhure None  https://ik.imagekit.io/jcu9wdm9ilp/C1/foto/Lost_Collections/s-dimoi-po-aile-i-zhure/JPEG-2048_web/IMGP2183.jpg\n",
      "3286:IMGP2183.jpg\n",
      "2013-05-31 23:12:42+00:00\n",
      "207 Lost_Collections/s-dimoi-pod-malaigom None  https://ik.imagekit.io/jcu9wdm9ilp/C1/foto/Lost_Collections/s-dimoi-pod-malaigom/JPEG-2048_web/IMGP1887.jpg\n",
      "3383:IMGP1887.jpg\n",
      "2013-05-25 12:52:21+00:00\n",
      "208 Lost_Collections/sasha-s-wedding None  https://ik.imagekit.io/jcu9wdm9ilp/C1/foto/Lost_Collections/sasha-s-wedding/JPEG-2048_web/p1150961.jpg\n",
      "3462:p1150961.jpg\n",
      "2012-07-13 10:00:50+00:00\n",
      "209 Lost_Collections/show-december-10 None  https://ik.imagekit.io/jcu9wdm9ilp/C1/foto/Lost_Collections/show-december-10/JPEG-2048_web/P1130305.jpg\n",
      "3481:P1130305.jpg\n",
      "2010-12-04 11:33:47+00:00\n",
      "210 Lost_Collections/summer-2011-with-dima-highlands-orkney-arran None  https://ik.imagekit.io/jcu9wdm9ilp/C1/foto/Lost_Collections/summer-2011-with-dima-highlands-orkney-arran/JPEG-2048_web/P1140031.jpg\n",
      "3502:P1140031.jpg\n",
      "2011-06-19 18:02:18+00:00\n",
      "211 Lost_Collections/summer-2014-in-scotland None  https://ik.imagekit.io/jcu9wdm9ilp/C1/foto/Lost_Collections/summer-2014-in-scotland/JPEG-2048_web/IMGP5438.jpg\n",
      "3602:IMGP5438.jpg\n",
      "2014-06-28 20:52:33+00:00\n",
      "212 Lost_Collections/summer_goes_on None  https://ik.imagekit.io/jcu9wdm9ilp/C1/foto/Lost_Collections/summer_goes_on/JPEG-2048_web/IMGP3148.jpg\n",
      "3672:IMGP3148.jpg\n",
      "2013-07-13 10:42:43+00:00\n",
      "213 Lost_Collections/swiss-path-around-lake-urn-and-lucerne None  https://ik.imagekit.io/jcu9wdm9ilp/C1/foto/Lost_Collections/swiss-path-around-lake-urn-and-lucerne/JPEG-2048_web/IMGP6722.jpg\n",
      "3719:IMGP6722.jpg\n",
      "2014-10-11 10:50:15+00:00\n",
      "214 Lost_Collections/two-sunny-days-in-switzerland None  https://ik.imagekit.io/jcu9wdm9ilp/C1/foto/Lost_Collections/two-sunny-days-in-switzerland/JPEG-2048_web/IMGP7863.jpg\n",
      "3864:IMGP7863.jpg\n",
      "2015-03-07 11:27:07+00:00\n",
      "215 Lost_Collections/u_zamerzshego_pruda None  https://ik.imagekit.io/jcu9wdm9ilp/C1/foto/Lost_Collections/u_zamerzshego_pruda/JPEG-2048_web/IMGP4179.jpg\n",
      "3921:IMGP4179.jpg\n",
      "2013-11-23 14:14:00+00:00\n",
      "216 Lost_Collections/union-canal-gogar-moor-bridge-to-lin-s-mill-aqueduct None  https://ik.imagekit.io/jcu9wdm9ilp/C1/foto/Lost_Collections/union-canal-gogar-moor-bridge-to-lin-s-mill-aqueduct/JPEG-2048_web/IMGP7688.jpg\n",
      "3937:IMGP7688.jpg\n",
      "2015-02-07 15:36:16+00:00\n",
      "217 Lost_Collections/unsorted-summer-12 None  https://ik.imagekit.io/jcu9wdm9ilp/C1/foto/Lost_Collections/unsorted-summer-12/JPEG-2048_web/IMAG0217.jpg\n",
      "3957:IMAG0217.jpg\n",
      "2012-07-07 15:35:41+00:00\n",
      "218 Lost_Collections/v_sentyabre_s_mamoi None  https://ik.imagekit.io/jcu9wdm9ilp/C1/foto/Lost_Collections/v_sentyabre_s_mamoi/JPEG-2048_web/IMGP3846.jpg\n",
      "3978:IMGP3846.jpg\n",
      "2013-09-14 14:08:58+00:00\n",
      "219 Lost_Collections/winter_walks None  https://ik.imagekit.io/jcu9wdm9ilp/C1/foto/Lost_Collections/winter_walks/JPEG-2048_web/IMGP4211.jpg\n",
      "4031:IMGP4211.jpg\n",
      "2013-12-29 14:19:20+00:00\n",
      "220 Lost_Collections/xmas-in-scotland-24-27-december None  https://ik.imagekit.io/jcu9wdm9ilp/C1/foto/Lost_Collections/xmas-in-scotland-24-27-december/JPEG-2048_web/IMGP0313.jpg\n",
      "4060:IMGP0313.jpg\n",
      "2012-12-25 11:00:50+00:00\n",
      "221 Lost_Collections/xmas-in-scotland-24-27-december/video None  https://ik.imagekit.io/jcu9wdm9ilp/C1/foto/Lost_Collections/yanvar-2/JPEG-2048_web/IMGP0634.jpg\n",
      "4124:IMGP0634.jpg\n",
      "2013-01-19 09:33:12+00:00\n",
      "222 Lost_Collections/yanvar-2 None  https://ik.imagekit.io/jcu9wdm9ilp/C1/foto/Lost_Collections/yanvar-2/JPEG-2048_web/IMGP0634.jpg\n",
      "4124:IMGP0634.jpg\n",
      "2013-01-19 09:33:12+00:00\n",
      "223 Lost_Collections/zell-am-see-january-2012 None  https://ik.imagekit.io/jcu9wdm9ilp/C1/foto/Lost_Collections/zell-am-see-january-2012/JPEG-2048_web/DSCF1568.jpg\n",
      "4172:DSCF1568.jpg\n",
      "2012-01-07 08:46:39+00:00\n",
      "224 Lost_Collections/zurich None  https://ik.imagekit.io/jcu9wdm9ilp/C1/foto/Lost_Collections/zurich/JPEG-2048_web/IMGP1421.jpg\n",
      "4208:IMGP1421.jpg\n",
      "2013-03-12 08:52:59+00:00\n",
      "320  None  \n"
     ]
    }
   ],
   "source": [
    "for album in albums:\n",
    "    print(album.id,album.title,album.taken_dt,dt_str,album.cover)\n",
    "    imgs = FImage.objects.filter(url=album.cover)\n",
    "    if imgs:\n",
    "        img = imgs[0]\n",
    "        print(img)\n",
    "        print(img.created_dt)\n",
    "        album.taken_dt=img.created_dt\n",
    "        album.save()\n"
   ]
  },
  {
   "cell_type": "code",
   "execution_count": 56,
   "metadata": {},
   "outputs": [
    {
     "data": {
      "text/plain": [
       "<re.Match object; span=(0, 5), match='13-01'>"
      ]
     },
     "execution_count": 56,
     "metadata": {},
     "output_type": "execute_result"
    }
   ],
   "source": [
    "dt_str='13-01-06-IMGP0538.jpg'\n",
    "dt_match = re.search(r'\\d\\d-\\d\\d',dt_str)\n",
    "dt_match\n"
   ]
  },
  {
   "cell_type": "code",
   "execution_count": null,
   "metadata": {},
   "outputs": [],
   "source": []
  },
  {
   "cell_type": "code",
   "execution_count": null,
   "metadata": {},
   "outputs": [],
   "source": [
    "from django.db import connection\n",
    "connection.connect()\n",
    "i=FImage.objects.get(name=imgs[0][0])\n",
    "i"
   ]
  },
  {
   "cell_type": "code",
   "execution_count": null,
   "metadata": {},
   "outputs": [],
   "source": [
    "i.created_dt =  imgs[0][1]\n",
    "i.save()"
   ]
  },
  {
   "cell_type": "code",
   "execution_count": null,
   "metadata": {},
   "outputs": [],
   "source": [
    "parser.parse('2015:06:14 19:47:28'.replace(':','-',2),)"
   ]
  },
  {
   "cell_type": "code",
   "execution_count": null,
   "metadata": {},
   "outputs": [],
   "source": [
    "datetime.now()"
   ]
  },
  {
   "cell_type": "code",
   "execution_count": null,
   "metadata": {},
   "outputs": [],
   "source": [
    "imagekit = ImageKit(\n",
    "    private_key=os.environ['IMAGEKIT_PRIVATE_KEY'],\n",
    "    public_key=os.environ['IMAGEKIT_PUBLIC_KEY'],\n",
    "    url_endpoint=os.environ['IMAGEKIT_URL_ENDPOINT'],\n",
    ")\n"
   ]
  },
  {
   "cell_type": "code",
   "execution_count": null,
   "metadata": {},
   "outputs": [],
   "source": [
    "from django.db import connection\n",
    "connection.connect()"
   ]
  },
  {
   "cell_type": "code",
   "execution_count": null,
   "metadata": {},
   "outputs": [],
   "source": [
    "#fn='IMGP1532.jpg'\n",
    "fn='22-01-21-DSC05150-1.jpg'\n",
    "res = imagekit.list_files({'name':fn})\n",
    "ben_nevis_2015\n",
    "res"
   ]
  },
  {
   "cell_type": "code",
   "execution_count": null,
   "metadata": {},
   "outputs": [],
   "source": [
    "url=res['response'][0]['url']+'/tr:f-jpg,md-true'\n",
    "url"
   ]
  },
  {
   "cell_type": "code",
   "execution_count": 72,
   "metadata": {},
   "outputs": [
    {
     "data": {
      "text/plain": [
       "<Response [200]>"
      ]
     },
     "execution_count": 72,
     "metadata": {},
     "output_type": "execute_result"
    }
   ],
   "source": [
    "#url='https://ik.imagekit.io/jcu9wdm9ilp/C1/foto/Lost_Collections/zurich/JPEG-2048_web/tr:f-jpg,md-true/IMGP1532.jpg'\n",
    "url='https://ik.imagekit.io/jcu9wdm9ilp/C1/foto/Lost_Collections/Falls_of_Bruar_and_around_the_wood_2015_/JPEG-2048_web/IMGP9701.jpg'\n",
    "img=requests.get(url)\n",
    "img"
   ]
  },
  {
   "cell_type": "code",
   "execution_count": 73,
   "metadata": {},
   "outputs": [
    {
     "name": "stderr",
     "output_type": "stream",
     "text": [
      "Marker scan hit start of image data\n",
      "No IPTC data found in <_io.BytesIO object at 0x00000205B70F73B0>\n"
     ]
    },
    {
     "data": {
      "text/plain": [
       "<iptcinfo3.IPTCInfo at 0x205b6d7d1f0>"
      ]
     },
     "execution_count": 73,
     "metadata": {},
     "output_type": "execute_result"
    }
   ],
   "source": [
    "iptc = IPTCInfo(BytesIO(img.content),inp_charset='utf_8',out_charset='utf_8') \n",
    "iptc"
   ]
  },
  {
   "cell_type": "code",
   "execution_count": null,
   "metadata": {},
   "outputs": [],
   "source": [
    "iptc['time created']"
   ]
  },
  {
   "cell_type": "code",
   "execution_count": null,
   "metadata": {},
   "outputs": [],
   "source": [
    "iptc['date created']"
   ]
  },
  {
   "cell_type": "code",
   "execution_count": null,
   "metadata": {},
   "outputs": [],
   "source": [
    "ii=Image.open(r'v:\\C1\\foto\\Barnes Castle\\fotoweb-JPEG-2048-web\\22-01-21-DSC05150-1.jpg')\n"
   ]
  },
  {
   "cell_type": "code",
   "execution_count": null,
   "metadata": {},
   "outputs": [],
   "source": [
    "iptc.__dict__"
   ]
  },
  {
   "cell_type": "code",
   "execution_count": 65,
   "metadata": {},
   "outputs": [],
   "source": [
    "from exif import Image"
   ]
  },
  {
   "cell_type": "code",
   "execution_count": 70,
   "metadata": {},
   "outputs": [],
   "source": [
    "image = Image(BytesIO(img.content))"
   ]
  },
  {
   "cell_type": "code",
   "execution_count": null,
   "metadata": {},
   "outputs": [],
   "source": [
    "with open(r'https://ik.imagekit.io/jcu9wdm9ilp/C1/foto/Barnes_Castle/fotoweb-JPEG-2048-web/22-01-21-DSC05150-1.jpg', \"rb\") as palm_1_file:\n",
    "    image = Image(palm_1_file)"
   ]
  },
  {
   "cell_type": "code",
   "execution_count": null,
   "metadata": {},
   "outputs": [],
   "source": [
    "with open(r'v:\\C1\\foto\\Barnes Castle\\fotoweb-JPEG-2048-web\\22-01-21-DSC05150-1.jpg', \"rb\") as palm_1_file:\n",
    "    image = Image(palm_1_file)"
   ]
  },
  {
   "cell_type": "code",
   "execution_count": 71,
   "metadata": {},
   "outputs": [
    {
     "ename": "KeyError",
     "evalue": "'APP1'",
     "output_type": "error",
     "traceback": [
      "\u001b[1;31m---------------------------------------------------------------------------\u001b[0m",
      "\u001b[1;31mKeyError\u001b[0m                                  Traceback (most recent call last)",
      "Cell \u001b[1;32mIn [71], line 1\u001b[0m\n\u001b[1;32m----> 1\u001b[0m \u001b[43mimage\u001b[49m\u001b[38;5;241;43m.\u001b[39;49m\u001b[43mget\u001b[49m\u001b[43m(\u001b[49m\u001b[38;5;124;43m'\u001b[39;49m\u001b[38;5;124;43mdatetime_original\u001b[39;49m\u001b[38;5;124;43m'\u001b[39;49m\u001b[43m)\u001b[49m\n",
      "File \u001b[1;32md:\\a\\simply-blog\\.venv\\lib\\site-packages\\exif\\_image.py:171\u001b[0m, in \u001b[0;36mImage.get\u001b[1;34m(self, attribute, default)\u001b[0m\n\u001b[0;32m    159\u001b[0m \u001b[38;5;250m\u001b[39m\u001b[38;5;124;03m\"\"\"Return the value of the specified tag.\u001b[39;00m\n\u001b[0;32m    160\u001b[0m \n\u001b[0;32m    161\u001b[0m \u001b[38;5;124;03mIf the attribute is not available or set, return the value specified by the ``default``\u001b[39;00m\n\u001b[1;32m   (...)\u001b[0m\n\u001b[0;32m    168\u001b[0m \n\u001b[0;32m    169\u001b[0m \u001b[38;5;124;03m\"\"\"\u001b[39;00m\n\u001b[0;32m    170\u001b[0m \u001b[38;5;28;01mtry\u001b[39;00m:\n\u001b[1;32m--> 171\u001b[0m     retval \u001b[38;5;241m=\u001b[39m \u001b[38;5;28;43mgetattr\u001b[39;49m\u001b[43m(\u001b[49m\u001b[38;5;28;43mself\u001b[39;49m\u001b[43m,\u001b[49m\u001b[43m \u001b[49m\u001b[43mattribute\u001b[49m\u001b[43m)\u001b[49m\n\u001b[0;32m    172\u001b[0m \u001b[38;5;28;01mexcept\u001b[39;00m (\u001b[38;5;167;01mAttributeError\u001b[39;00m, \u001b[38;5;167;01mNotImplementedError\u001b[39;00m):\n\u001b[0;32m    173\u001b[0m     retval \u001b[38;5;241m=\u001b[39m default\n",
      "File \u001b[1;32md:\\a\\simply-blog\\.venv\\lib\\site-packages\\exif\\_image.py:104\u001b[0m, in \u001b[0;36mImage.__getattr__\u001b[1;34m(self, item)\u001b[0m\n\u001b[0;32m    103\u001b[0m \u001b[38;5;28;01mdef\u001b[39;00m \u001b[38;5;21m__getattr__\u001b[39m(\u001b[38;5;28mself\u001b[39m, item):\n\u001b[1;32m--> 104\u001b[0m     \u001b[38;5;28;01mreturn\u001b[39;00m \u001b[38;5;28mgetattr\u001b[39m(\u001b[38;5;28;43mself\u001b[39;49m\u001b[38;5;241;43m.\u001b[39;49m\u001b[43m_segments\u001b[49m\u001b[43m[\u001b[49m\u001b[38;5;124;43m\"\u001b[39;49m\u001b[38;5;124;43mAPP1\u001b[39;49m\u001b[38;5;124;43m\"\u001b[39;49m\u001b[43m]\u001b[49m, item)\n",
      "\u001b[1;31mKeyError\u001b[0m: 'APP1'"
     ]
    }
   ],
   "source": [
    "image.get('datetime_original')"
   ]
  },
  {
   "cell_type": "code",
   "execution_count": null,
   "metadata": {},
   "outputs": [],
   "source": [
    "image.list_all()"
   ]
  },
  {
   "cell_type": "code",
   "execution_count": null,
   "metadata": {},
   "outputs": [],
   "source": [
    "image.datetime_original"
   ]
  },
  {
   "cell_type": "code",
   "execution_count": null,
   "metadata": {},
   "outputs": [],
   "source": [
    "parser.parse(image.datetime_original)"
   ]
  },
  {
   "cell_type": "code",
   "execution_count": null,
   "metadata": {},
   "outputs": [],
   "source": [
    "for t in image.list_all():\n",
    "    print(t,image.get(t))"
   ]
  },
  {
   "cell_type": "code",
   "execution_count": null,
   "metadata": {},
   "outputs": [],
   "source": [
    "iptc = IPTCInfo(r'v:\\C1\\foto\\Barnes Castle\\fotoweb-JPEG-2048-web\\22-01-21-DSC05150-1.jpg',inp_charset='utf_8',out_charset='utf_8') "
   ]
  },
  {
   "cell_type": "code",
   "execution_count": null,
   "metadata": {},
   "outputs": [],
   "source": [
    "pil=ii\n",
    "pil"
   ]
  },
  {
   "cell_type": "code",
   "execution_count": null,
   "metadata": {},
   "outputs": [],
   "source": [
    "from PIL import Image\n",
    "from PIL.ExifTags import TAGS\n",
    "import io"
   ]
  },
  {
   "cell_type": "code",
   "execution_count": null,
   "metadata": {},
   "outputs": [],
   "source": [
    "pil=Image.open(io.BytesIO(img.content))"
   ]
  },
  {
   "cell_type": "code",
   "execution_count": null,
   "metadata": {},
   "outputs": [],
   "source": [
    "exifdata=pil.getexif()\n",
    "exifdata"
   ]
  },
  {
   "cell_type": "code",
   "execution_count": null,
   "metadata": {},
   "outputs": [],
   "source": [
    "exifdata.__dict__"
   ]
  },
  {
   "cell_type": "code",
   "execution_count": null,
   "metadata": {},
   "outputs": [],
   "source": [
    "for tag_id in exifdata:\n",
    "    # get the tag name, instead of human unreadable tag id\n",
    "    tag = TAGS.get(tag_id, tag_id)\n",
    "    data = exifdata.get(tag_id)\n",
    "    # decode bytes \n",
    "    if isinstance(data, bytes):\n",
    "        data = data.decode()\n",
    "    print(f\"{tag:25}: {data}\")"
   ]
  },
  {
   "cell_type": "code",
   "execution_count": null,
   "metadata": {},
   "outputs": [],
   "source": [
    "TAGS"
   ]
  }
 ],
 "metadata": {
  "interpreter": {
   "hash": "7711aa674517c2bcd74d34f4320db300a876d480a4758643a473a21c7037dd90"
  },
  "kernelspec": {
   "display_name": "Python 3.8.5 ('.venv': pipenv)",
   "language": "python",
   "name": "python3"
  },
  "language_info": {
   "codemirror_mode": {
    "name": "ipython",
    "version": 3
   },
   "file_extension": ".py",
   "mimetype": "text/x-python",
   "name": "python",
   "nbconvert_exporter": "python",
   "pygments_lexer": "ipython3",
   "version": "3.8.5"
  },
  "orig_nbformat": 4
 },
 "nbformat": 4,
 "nbformat_minor": 2
}
