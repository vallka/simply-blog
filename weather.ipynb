{
 "cells": [
  {
   "cell_type": "code",
   "execution_count": null,
   "metadata": {},
   "outputs": [],
   "source": [
    "import requests\n",
    "import json"
   ]
  },
  {
   "cell_type": "code",
   "execution_count": 1,
   "metadata": {},
   "outputs": [],
   "source": [
    "import datetime"
   ]
  },
  {
   "cell_type": "code",
   "execution_count": 6,
   "metadata": {},
   "outputs": [
    {
     "data": {
      "text/plain": [
       "'240317114125'"
      ]
     },
     "execution_count": 6,
     "metadata": {},
     "output_type": "execute_result"
    }
   ],
   "source": [
    "datetime.datetime.now().strftime('%y%m%d%H%M%S')"
   ]
  },
  {
   "cell_type": "code",
   "execution_count": null,
   "metadata": {},
   "outputs": [],
   "source": [
    "key='2de0d43b2590b8e562ffefd9434b8e8f'\n",
    "key"
   ]
  },
  {
   "cell_type": "code",
   "execution_count": null,
   "metadata": {},
   "outputs": [],
   "source": [
    "cities = [\n",
    "    'Edinburgh',\n",
    "    'Glasgow',\n",
    "    'Aberdeen',\n",
    "    'Dundee',\n",
    "    'Inverness',\n",
    "    'Stirling',\n",
    "    'Thurso',\n",
    "    'Dumfries',\n",
    "    'Perth',\n",
    "    'Lerwick',\n",
    "    'Stranraer',\n",
    "    'Portree',\n",
    "    'Callander',\n",
    "    'Fort William',\n",
    "    'Ayr',\n",
    "    'Fort Augustus',\n",
    "    'Dunkeld',\n",
    "    'Aviemore',\n",
    "    'Fraserburgh',\n",
    "    'Hawick',\n",
    "    'Wick',\n",
    "    'Ullapool',\n",
    "]"
   ]
  },
  {
   "cell_type": "code",
   "execution_count": null,
   "metadata": {},
   "outputs": [],
   "source": [
    "r=requests.get('https://api.openweathermap.org/geo/1.0/direct?q=edinburgh&limit=1&appid=2de0d43b2590b8e562ffefd9434b8e8f')\n",
    "r"
   ]
  },
  {
   "cell_type": "code",
   "execution_count": null,
   "metadata": {},
   "outputs": [],
   "source": [
    "cities"
   ]
  },
  {
   "cell_type": "code",
   "execution_count": null,
   "metadata": {},
   "outputs": [],
   "source": [
    "for c in cities:\n",
    "    r = requests.get(\n",
    "        f'https://api.openweathermap.org/geo/1.0/direct?q={c},GB&limit=1&appid={key}')\n",
    "    data = json.loads(r.text)\n",
    "    print(c, data[0]['lat'] , data[0]['lon'])"
   ]
  },
  {
   "cell_type": "code",
   "execution_count": null,
   "metadata": {},
   "outputs": [],
   "source": [
    "places = [\n",
    "    ['Edinburgh', 55.9533456, -3.1883749],\n",
    "    ['Glasgow', 55.8609825, -4.2488787],\n",
    "    ['Aberdeen', 57.1482429, -2.0928095],\n",
    "    ['Dundee', 56.4605938, -2.97019],\n",
    "    ['Inverness', 57.4790124, -4.225739],\n",
    "    ['Stirling', 56.1181242, -3.9360012],\n",
    "    ['Thurso', 58.5953788, -3.522476],\n",
    "    ['Dumfries', 55.069836, -3.6092292],\n",
    "    ['Perth', 56.3957679, -3.4335463],\n",
    "    ['Lerwick', 60.1531357, -1.1427296],\n",
    "    ['Stranraer', 54.9044332, -5.026204],\n",
    "    ['Portree', 57.4130532, -6.194446],\n",
    "    ['Callander', 56.2436941, -4.2148033],\n",
    "    ['Fort William', 56.8178285, -5.110974],\n",
    "    ['Ayr', 55.4628044, -4.6302502],\n",
    "    ['Fort Augustus', 57.1443325, -4.681487],\n",
    "    ['Dunkeld', 56.5655711, -3.5862546],\n",
    "    ['Aviemore', 57.1937528, -3.8287496],\n",
    "    ['Fraserburgh', 57.6935974, -2.0051497],\n",
    "    ['Hawick', 55.422564, -2.7866951],\n",
    "    ['Wick', 58.4425516, -3.0915827],\n",
    "    ['Ullapool', 57.8978237, -5.1586647],\n",
    "]"
   ]
  },
  {
   "cell_type": "code",
   "execution_count": null,
   "metadata": {},
   "outputs": [],
   "source": [
    "f'https://api.openweathermap.org/data/2.5/onecall?{places[0][1]}&lon={places[0][2]}exclude=hourly,alert,current,minutely&units=metric&appid={key}'"
   ]
  },
  {
   "cell_type": "code",
   "execution_count": null,
   "metadata": {},
   "outputs": [],
   "source": [
    "r=requests.get(f'https://api.openweathermap.org/data/2.5/onecall?lat={places[0][1]}&lon={places[0][2]}&exclude=hourly,alert,current,minutely&units=metric&appid={key}')\n",
    "r.text"
   ]
  },
  {
   "cell_type": "code",
   "execution_count": null,
   "metadata": {},
   "outputs": [],
   "source": [
    "forecast = {}\n",
    "for p in places:\n",
    "    r=requests.get(f'https://api.openweathermap.org/data/2.5/onecall?lat={p[1]}&lon={p[2]}&exclude=hourly,alert,current,minutely&units=metric&appid={key}')\n",
    "    data = json.loads(r.text)\n",
    "    print(p[0], data)\n",
    "    forecast[p[0]] = {}\n",
    "    forecast[p[0]]['daily'] = data['daily']\n"
   ]
  },
  {
   "cell_type": "code",
   "execution_count": null,
   "metadata": {},
   "outputs": [],
   "source": [
    "data = json.loads(r.text)"
   ]
  },
  {
   "cell_type": "code",
   "execution_count": null,
   "metadata": {},
   "outputs": [],
   "source": [
    "from datetime import datetime"
   ]
  },
  {
   "cell_type": "code",
   "execution_count": null,
   "metadata": {},
   "outputs": [],
   "source": [
    "datetime.fromtimestamp(data['daily'][1]['dt']).strftime(\"%d/%m\")"
   ]
  },
  {
   "cell_type": "code",
   "execution_count": null,
   "metadata": {},
   "outputs": [],
   "source": [
    "round(data['daily'][0]['temp']['day'])"
   ]
  },
  {
   "cell_type": "code",
   "execution_count": null,
   "metadata": {},
   "outputs": [],
   "source": [
    "data['daily'][0]['pressure']"
   ]
  },
  {
   "cell_type": "code",
   "execution_count": null,
   "metadata": {},
   "outputs": [],
   "source": [
    "round(data['daily'][0]['wind_speed'])"
   ]
  },
  {
   "cell_type": "code",
   "execution_count": null,
   "metadata": {},
   "outputs": [],
   "source": [
    "data['daily'][0]['clouds']"
   ]
  },
  {
   "cell_type": "code",
   "execution_count": null,
   "metadata": {},
   "outputs": [],
   "source": [
    "data['daily'][0]['pop']"
   ]
  },
  {
   "cell_type": "code",
   "execution_count": null,
   "metadata": {},
   "outputs": [],
   "source": [
    "for f in forecast:\n",
    "    for d in data['daily']:\n",
    "        print(datetime.fromtimestamp(d['dt']).strftime(\"%d/%m\"), round(d['temp']['day']), d['pressure'], round(d['wind_speed']), d['clouds'], d['pop'],d.get('rain',0))"
   ]
  },
  {
   "cell_type": "code",
   "execution_count": null,
   "metadata": {},
   "outputs": [],
   "source": [
    "for f,daily in forecast.items():\n",
    "    print (f)\n",
    "    for d in daily['daily']:\n",
    "        print(datetime.fromtimestamp(d['dt']).strftime(\"%d/%m\"), round(d['temp']['day']), d['pressure'], \n",
    "            round(d['wind_speed']), \n",
    "            d['clouds'], \n",
    "            d.get('rain',0))"
   ]
  },
  {
   "cell_type": "code",
   "execution_count": null,
   "metadata": {},
   "outputs": [],
   "source": [
    "forecast['Glasgow']['daily']"
   ]
  }
 ],
 "metadata": {
  "kernelspec": {
   "display_name": "Python 3.8.5 ('.venv': pipenv)",
   "language": "python",
   "name": "python3"
  },
  "language_info": {
   "codemirror_mode": {
    "name": "ipython",
    "version": 3
   },
   "file_extension": ".py",
   "mimetype": "text/x-python",
   "name": "python",
   "nbconvert_exporter": "python",
   "pygments_lexer": "ipython3",
   "version": "3.8.5"
  },
  "orig_nbformat": 4,
  "vscode": {
   "interpreter": {
    "hash": "10da27bddd3377f40093df844bafe61c564a0568439e5eb1f993e4e158715d8c"
   }
  }
 },
 "nbformat": 4,
 "nbformat_minor": 2
}
