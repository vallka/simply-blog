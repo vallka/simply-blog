{
 "cells": [
  {
   "cell_type": "code",
   "execution_count": 1,
   "metadata": {},
   "outputs": [],
   "source": [
    "import requests\n",
    "import json\n",
    "import csv"
   ]
  },
  {
   "cell_type": "code",
   "execution_count": 2,
   "metadata": {},
   "outputs": [],
   "source": [
    "import datetime"
   ]
  },
  {
   "cell_type": "code",
   "execution_count": 3,
   "metadata": {},
   "outputs": [
    {
     "data": {
      "text/plain": [
       "'240528211223'"
      ]
     },
     "execution_count": 3,
     "metadata": {},
     "output_type": "execute_result"
    }
   ],
   "source": [
    "datetime.datetime.now().strftime('%y%m%d%H%M%S')"
   ]
  },
  {
   "cell_type": "code",
   "execution_count": 6,
   "metadata": {},
   "outputs": [
    {
     "name": "stdout",
     "output_type": "stream",
     "text": [
      "['Aberdeen', 'Airdrie', 'Alloa', 'Arbroath', 'Aviemore', 'Ayr', 'Barrhead', 'Bathgate', 'Bellshill', 'Benbecula', 'Bishopbriggs', 'Blantyre', 'Bowmore', 'Broadford', 'Broxburn', 'Campbeltown', 'Castlebay', 'Clydebank', 'Coatbridge', 'Cowdenbeath', 'Cumbernauld', 'Dingwall', 'Dornoch', 'Dumfries', 'Dundee', 'Dunkeld', 'Dunfermline', 'Dunoon', 'East Kilbride', 'Edinburgh', 'Elgin', 'Erskine', 'Falkirk', 'Fort Augustus', 'Fort William', 'Fortrose', 'Fraserburgh', 'Gairloch', 'Glasgow', 'Glenrothes', 'Grangemouth', 'Grantown-on-Spey', 'Greenock', 'Hamilton', 'Hawick', 'Helensburgh', 'Inverness', 'Irvine', 'Johnstone', 'Kilmarnock', 'Kilwinning', 'Kirkcaldy', 'Kirkintilloch', 'Kirkwall', 'Kyle of Lochalsh', 'Largs', 'Larkhall', 'Lerwick', 'Livingston', 'Lochboisdale', 'Lochgilphead', 'Lochmaddy', 'Mallaig', 'Motherwell', 'Musselburgh', 'Nairn', 'Newton Mearns', 'Oban', 'Paisley', 'Penicuik', 'Perth', 'Peterhead', 'Port Ellen', 'Port Glasgow', 'Portree', 'Renfrew', 'Rothesay', 'Stranraer', 'St Andrews', 'Stirling', 'Stornoway', 'Stromness', 'Tain', 'Tarbert', 'Thurso', 'Tobermory', 'Uig', 'Ullapool', 'Viewpark', 'Wick', 'Wishaw']\n"
     ]
    }
   ],
   "source": [
    "with open('weather/ScottishTowns.csv', 'r') as file:\n",
    "    cities = []\n",
    "    reader = csv.reader(file)\n",
    "\n",
    "    for row in reader:\n",
    "        cities.append(row[0])\n",
    "\n",
    "print (cities)"
   ]
  },
  {
   "cell_type": "code",
   "execution_count": 8,
   "metadata": {},
   "outputs": [
    {
     "data": {
      "text/plain": [
       "'2de0d43b2590b8e562ffefd9434b8e8f'"
      ]
     },
     "execution_count": 8,
     "metadata": {},
     "output_type": "execute_result"
    }
   ],
   "source": [
    "key='2de0d43b2590b8e562ffefd9434b8e8f'\n",
    "key"
   ]
  },
  {
   "cell_type": "code",
   "execution_count": 35,
   "metadata": {},
   "outputs": [],
   "source": [
    "cities = [\n",
    "    'Edinburgh',\n",
    "    'Glasgow',\n",
    "    'Aberdeen',\n",
    "    'Dundee',\n",
    "    'Inverness',\n",
    "    'Stirling',\n",
    "    'Thurso',\n",
    "    'Dumfries',\n",
    "    'Perth',\n",
    "    'Lerwick',\n",
    "    'Stranraer',\n",
    "    'Portree',\n",
    "    'Callander',\n",
    "    'Fort William',\n",
    "    'Ayr',\n",
    "    'Fort Augustus',\n",
    "    'Dunkeld',\n",
    "    'Aviemore',\n",
    "    'Fraserburgh',\n",
    "    'Hawick',\n",
    "    'Wick',\n",
    "    'Ullapool',\n",
    "    'Oban',\n",
    "    'Rothesay',\n",
    "    'Largs',\n",
    "    'Helensburgh'\n",
    "\n",
    "Sure! Here is a list of 50 major cities and towns in Scotland:\n",
    "\n",
    "Edinburgh\n",
    "Glasgow\n",
    "Aberdeen\n",
    "Dundee\n",
    "Inverness\n",
    "Stirling\n",
    "Perth\n",
    "Paisley\n",
    "East Kilbride\n",
    "Livingston\n",
    "Cumbernauld\n",
    "Hamilton\n",
    "Kirkcaldy\n",
    "Dunfermline\n",
    "Ayr\n",
    "Kilmarnock\n",
    "Greenock\n",
    "Coatbridge\n",
    "Glenrothes\n",
    "Airdrie\n",
    "Falkirk\n",
    "Irvine\n",
    "Dumfries\n",
    "Motherwell\n",
    "Clydebank\n",
    "Bishopbriggs\n",
    "Musselburgh\n",
    "Arbroath\n",
    "Elgin\n",
    "Renfrew\n",
    "Bathgate\n",
    "Kirkintilloch\n",
    "Peterhead\n",
    "Barrhead\n",
    "Grangemouth\n",
    "Blantyre\n",
    "St Andrews\n",
    "Kilwinning\n",
    "Johnstone\n",
    "Viewpark\n",
    "Penicuik\n",
    "Erskine\n",
    "Larkhall\n",
    "Broxburn\n",
    "Cowdenbeath\n",
    "Alloa\n",
    "Port Glasgow\n",
    "Newton Mearns\n",
    "Bellshill\n",
    "Wishaw\n",
    "Fort William\n",
    "Oban\n",
    "Wick\n",
    "Thurso\n",
    "Lerwick\n",
    "Kirkwall\n",
    "Stornoway\n",
    "Ullapool\n",
    "Portree\n",
    "Nairn\n",
    "Aviemore\n",
    "Grantown-on-Spey\n",
    "Dornoch\n",
    "Dingwall\n",
    "Tain\n",
    "Fortrose\n",
    "Gairloch\n",
    "Kyle of Lochalsh\n",
    "Mallaig\n",
    "Tobermory\n",
    "Campbeltown\n",
    "Rothesay\n",
    "Dunoon\n",
    "Lochgilphead\n",
    "Tarbert\n",
    "Port Ellen\n",
    "Bowmore\n",
    "Stromness\n",
    "Kirkwall\n",
    "Lerwick\n",
    "Portree\n",
    "Ullapool\n",
    "Stornoway\n",
    "Lochmaddy\n",
    "Benbecula\n",
    "Castlebay\n",
    "Lochboisdale\n",
    "Portree\n",
    "Uig\n",
    "Broadford\n",
    "\n",
    "\n",
    "]"
   ]
  },
  {
   "cell_type": "code",
   "execution_count": 4,
   "metadata": {},
   "outputs": [
    {
     "data": {
      "text/plain": [
       "<Response [200]>"
      ]
     },
     "execution_count": 4,
     "metadata": {},
     "output_type": "execute_result"
    }
   ],
   "source": [
    "r=requests.get('https://api.openweathermap.org/geo/1.0/direct?q=edinburgh&limit=1&appid=2de0d43b2590b8e562ffefd9434b8e8f')\n",
    "r"
   ]
  },
  {
   "cell_type": "code",
   "execution_count": 10,
   "metadata": {},
   "outputs": [
    {
     "data": {
      "text/plain": [
       "'{\"latitude\":55.96,\"longitude\":-3.2,\"generationtime_ms\":0.2570152282714844,\"utc_offset_seconds\":3600,\"timezone\":\"Europe/London\",\"timezone_abbreviation\":\"BST\",\"elevation\":74.0,\"daily_units\":{\"time\":\"iso8601\",\"temperature_2m_max\":\"°C\",\"precipitation_sum\":\"mm\",\"weather_code\":\"wmo code\",\"wind_speed_10m_max\":\"m/s\"},\"daily\":{\"time\":[\"2024-05-28\",\"2024-05-29\",\"2024-05-30\",\"2024-05-31\",\"2024-06-01\",\"2024-06-02\",\"2024-06-03\",\"2024-06-04\",\"2024-06-05\",\"2024-06-06\",\"2024-06-07\",\"2024-06-08\",\"2024-06-09\",\"2024-06-10\"],\"temperature_2m_max\":[15.3,17.8,17.5,17.9,18.1,15.6,16.4,12.9,13.0,12.7,13.5,9.9,11.5,10.0],\"precipitation_sum\":[6.00,1.90,4.30,0.00,0.00,0.00,0.00,0.60,0.60,1.80,0.00,1.20,2.40,23.40],\"weather_code\":[80,80,80,3,3,3,3,3,51,51,3,51,53,61],\"wind_speed_10m_max\":[3.90,4.43,3.91,4.49,3.86,7.32,6.89,4.69,5.76,4.03,2.72,3.80,4.98,8.54]}}'"
      ]
     },
     "execution_count": 10,
     "metadata": {},
     "output_type": "execute_result"
    }
   ],
   "source": [
    "r=requests.get('https://api.open-meteo.com/v1/forecast?latitude=55.9521&longitude=-3.1965&daily=temperature_2m_max,precipitation_sum,weather_code,wind_speed_10m_max&wind_speed_unit=ms&timezone=Europe%2FLondon&forecast_days=14')\n",
    "r.text"
   ]
  },
  {
   "cell_type": "code",
   "execution_count": null,
   "metadata": {},
   "outputs": [],
   "source": [
    "cities"
   ]
  },
  {
   "cell_type": "code",
   "execution_count": 10,
   "metadata": {},
   "outputs": [
    {
     "name": "stdout",
     "output_type": "stream",
     "text": [
      "[['Aberdeen', 57.1482429, -2.0928095], ['Airdrie', 55.8657845, -3.9795866], ['Alloa', 56.1156137, -3.7922423], ['Arbroath', 56.5586729, -2.5815669], ['Aviemore', 57.1937528, -3.8287496], ['Ayr', 55.4628044, -4.6302502], ['Barrhead', 55.8011027, -4.3899826], ['Bathgate', 55.9009224, -3.6414828], ['Bellshill', 55.8189311, -4.0225794], ['Benbecula', 57.4463861, -7.337765904826108], ['Bishopbriggs', 55.9044088, -4.226358], ['Blantyre', 55.7935224, -4.0923109], ['Bowmore', 55.7568996, -6.2883825], ['Broadford', 57.2410146, -5.9061803], ['Broxburn', 55.9343917, -3.4693866], ['Campbeltown', 55.4241858, -5.6051005], ['Castlebay', 56.9551221, -7.4859693], ['Clydebank', 55.902607, -4.4039569], ['Coatbridge', 55.8622848, -4.0273166], ['Cowdenbeath', 56.1110634, -3.3438843], ['Cumbernauld', 55.9477764, -3.9882568], ['Dingwall', 57.5954797, -4.4284337], ['Dornoch', 57.8796955, -4.0278869], ['Dumfries', 55.069836, -3.6092292], ['Dundee', 56.4605938, -2.97019], ['Dunkeld', 56.5655711, -3.5862546], ['Dunfermline', 56.0713724, -3.4616183], ['Dunoon', 55.9470831, -4.924916], ['East Kilbride', 55.7601174, -4.1796401], ['Edinburgh', 55.9533456, -3.1883749], ['Elgin', 57.6487891, -3.3148459], ['Erskine', 55.9042117, -4.4492326], ['Falkirk', 55.9991959, -3.784376], ['Fort Augustus', 57.1443325, -4.681487], ['Fort William', 56.8178285, -5.110974], ['Fortrose', 57.5817836, -4.1305039], ['Fraserburgh', 57.6935974, -2.0051497], ['Gairloch', 57.7280125, -5.6903434], ['Glasgow', 55.8609825, -4.2488787], ['Glenrothes', 56.1961905, -3.1716324], ['Grangemouth', 56.0189027, -3.7230303], ['Grantown-on-Spey', 57.3295089, -3.6104018], ['Greenock', 55.9473423, -4.7564721], ['Hamilton', 55.7759095, -4.033442], ['Hawick', 55.422564, -2.7866951], ['Helensburgh', 56.0033464, -4.7342935], ['Inverness', 57.4790124, -4.225739], ['Irvine', 55.6143121, -4.6655591], ['Johnstone', 55.836517, -4.5122831], ['Kilmarnock', 55.6100589, -4.4964652], ['Kilwinning', 55.6540048, -4.6992011], ['Kirkcaldy', 56.1110218, -3.1582296], ['Kirkintilloch', 55.9383914, -4.1549049], ['Kirkwall', 58.9816049, -2.960369], ['Kyle of Lochalsh', 57.2814192, -5.7150685], ['Largs', 55.7948829, -4.8695014], ['Larkhall', 55.7401064, -3.9746052], ['Lerwick', 60.1531357, -1.1427296], ['Livingston', 55.8831932, -3.5149461], ['Lochboisdale', 57.1539402, -7.3071535], ['Lochgilphead', 56.0375069, -5.433147], ['Lochmaddy', 57.5996251, -7.1608574], ['Mallaig', 57.0061325, -5.8294488], ['Motherwell', 55.7901843, -3.9920902], ['Musselburgh', 55.9421202, -3.0538516], ['Nairn', 57.5850133, -3.8681503], ['Newton Mearns', 55.7726726, -4.3342366], ['Oban', 56.415695, -5.4734688], ['Paisley', 55.8455828, -4.4239646], ['Penicuik', 55.827236, -3.2218145], ['Perth', 56.3957679, -3.4335463], ['Peterhead', 57.5052909, -1.7813194], ['Port Ellen', 55.6293903, -6.1880114], ['Port Glasgow', 55.9342865, -4.689854], ['Portree', 57.4130532, -6.194446], ['Renfrew', 55.8775733, -4.3888761], ['Rothesay', 55.8373085, -5.0522439], ['Stranraer', 54.9044332, -5.026204], ['St Andrews', 56.3403902, -2.7955844], ['Stirling', 56.1181242, -3.9360012], ['Stornoway', 58.20842, -6.3881077], ['Stromness', 58.9614356, -3.2993767], ['Tain', 57.8119372, -4.0550663], ['Tarbert', 57.898022, -6.7991555], ['Thurso', 58.5947443, -3.520577], ['Tobermory', 56.6227872, -6.0682243], ['Uig', 57.5909549, -6.3721931], ['Ullapool', 57.8978237, -5.1586647], ['Viewpark', 55.8260244, -4.0606131], ['Wick', 58.4425516, -3.0915827], ['Wishaw', 55.7743458, -3.9184134]]\n"
     ]
    }
   ],
   "source": [
    "cities_w_coords = []\n",
    "for c in cities:\n",
    "    r = requests.get(\n",
    "        f'https://api.openweathermap.org/geo/1.0/direct?q={c},GB&limit=1&appid={key}')\n",
    "    data = json.loads(r.text)\n",
    "\n",
    "    cities_w_coords.append([c, data[0]['lat'] , data[0]['lon']])\n",
    "\n",
    "\n",
    "print(cities_w_coords)"
   ]
  },
  {
   "cell_type": "code",
   "execution_count": 11,
   "metadata": {},
   "outputs": [],
   "source": [
    "with open('weather/ScottishTowns.csv', 'w', newline='') as file:\n",
    "    # Create a CSV writer object\n",
    "    writer = csv.writer(file)\n",
    "\n",
    "    # Write the data to the CSV file\n",
    "    writer.writerows(cities_w_coords)"
   ]
  },
  {
   "cell_type": "code",
   "execution_count": 37,
   "metadata": {},
   "outputs": [],
   "source": [
    "places = [\n",
    "    ['Edinburgh', 55.9533456, -3.1883749],\n",
    "    ['Glasgow', 55.8609825, -4.2488787],\n",
    "    ['Aberdeen', 57.1482429, -2.0928095],\n",
    "    ['Dundee', 56.4605938, -2.97019],\n",
    "    ['Inverness', 57.4790124, -4.225739],\n",
    "    ['Stirling', 56.1181242, -3.9360012],\n",
    "    ['Thurso', 58.5953788, -3.522476],\n",
    "    ['Dumfries', 55.069836, -3.6092292],\n",
    "    ['Perth', 56.3957679, -3.4335463],\n",
    "    ['Lerwick', 60.1531357, -1.1427296],\n",
    "    ['Stranraer', 54.9044332, -5.026204],\n",
    "    ['Portree', 57.4130532, -6.194446],\n",
    "    ['Callander', 56.2436941, -4.2148033],\n",
    "    ['Fort William', 56.8178285, -5.110974],\n",
    "    ['Ayr', 55.4628044, -4.6302502],\n",
    "    ['Fort Augustus', 57.1443325, -4.681487],\n",
    "    ['Dunkeld', 56.5655711, -3.5862546],\n",
    "    ['Aviemore', 57.1937528, -3.8287496],\n",
    "    ['Fraserburgh', 57.6935974, -2.0051497],\n",
    "    ['Hawick', 55.422564, -2.7866951],\n",
    "    ['Wick', 58.4425516, -3.0915827],\n",
    "    ['Ullapool', 57.8978237, -5.1586647],\n",
    "    ['Oban', 56.415695, -5.4734688],\n",
    "    ['Rothesay', 55.8373085, -5.0522439],\n",
    "    ['Largs', 55.7948829, -4.8695014],\n",
    "    ['Helensburgh', 56.0033464, -4.7342935],\n",
    "]"
   ]
  },
  {
   "cell_type": "code",
   "execution_count": null,
   "metadata": {},
   "outputs": [],
   "source": [
    "f'https://api.openweathermap.org/data/2.5/onecall?{places[0][1]}&lon={places[0][2]}exclude=hourly,alert,current,minutely&units=metric&appid={key}'"
   ]
  },
  {
   "cell_type": "code",
   "execution_count": 9,
   "metadata": {},
   "outputs": [
    {
     "data": {
      "text/plain": [
       "'{\"cod\":401, \"message\": \"Invalid API key. Please see https://openweathermap.org/faq#error401 for more info.\"}'"
      ]
     },
     "execution_count": 9,
     "metadata": {},
     "output_type": "execute_result"
    }
   ],
   "source": [
    "r=requests.get(f'https://api.openweathermap.org/data/2.5/onecall?lat={places[0][1]}&lon={places[0][2]}&exclude=hourly,alert,current,minutely&units=metric&appid={key}')\n",
    "r.text"
   ]
  },
  {
   "cell_type": "code",
   "execution_count": 22,
   "metadata": {},
   "outputs": [
    {
     "name": "stdout",
     "output_type": "stream",
     "text": [
      "Aberdeen {'latitude': 57.14, 'longitude': -2.1000001, 'generationtime_ms': 0.2510547637939453, 'utc_offset_seconds': 3600, 'timezone': 'Europe/London', 'timezone_abbreviation': 'BST', 'elevation': 24.0, 'daily_units': {'time': 'iso8601', 'temperature_2m_max': '°C', 'precipitation_sum': 'mm', 'weather_code': 'wmo code', 'wind_speed_10m_max': 'm/s'}, 'daily': {'time': ['2024-05-29', '2024-05-30', '2024-05-31', '2024-06-01', '2024-06-02', '2024-06-03', '2024-06-04', '2024-06-05', '2024-06-06', '2024-06-07', '2024-06-08', '2024-06-09', '2024-06-10', '2024-06-11'], 'temperature_2m_max': [14.1, 15.6, 16.7, 16.0, 17.9, 15.0, 13.1, 12.1, 12.4, 11.2, 12.7, 13.1, 12.5, 11.9], 'precipitation_sum': [0.7, 0.0, 0.0, 0.0, 0.0, 0.0, 2.4, 0.1, 1.6, 1.3, 0.0, 0.0, 0.0, 0.0], 'weather_code': [80, 3, 3, 3, 3, 3, 80, 61, 61, 53, 45, 3, 3, 3], 'wind_speed_10m_max': [4.16, 7.86, 4.93, 3.75, 2.93, 6.48, 7.75, 5.61, 8.47, 11.0, 7.28, 6.12, 4.12, 4.53]}}\n",
      "Airdrie {'latitude': 55.875, 'longitude': -4.0, 'generationtime_ms': 0.12302398681640625, 'utc_offset_seconds': 3600, 'timezone': 'Europe/London', 'timezone_abbreviation': 'BST', 'elevation': 128.0, 'daily_units': {'time': 'iso8601', 'temperature_2m_max': '°C', 'precipitation_sum': 'mm', 'weather_code': 'wmo code', 'wind_speed_10m_max': 'm/s'}, 'daily': {'time': ['2024-05-29', '2024-05-30', '2024-05-31', '2024-06-01', '2024-06-02', '2024-06-03', '2024-06-04', '2024-06-05', '2024-06-06', '2024-06-07', '2024-06-08', '2024-06-09', '2024-06-10', '2024-06-11'], 'temperature_2m_max': [16.4, 16.9, 17.8, 18.1, 15.1, 14.3, 13.3, 11.0, 13.4, 13.5, 16.3, 18.4, 18.0, 20.9], 'precipitation_sum': [2.7, 3.2, 0.0, 0.0, 0.0, 0.0, 0.6, 3.2, 1.9, 0.0, 0.0, 0.0, 0.0, 0.0], 'weather_code': [80, 61, 3, 3, 3, 3, 3, 61, 61, 3, 45, 3, 3, 3], 'wind_speed_10m_max': [5.35, 5.0, 3.53, 4.74, 6.11, 7.22, 7.05, 4.22, 5.73, 4.74, 4.47, 3.69, 2.83, 2.79]}}\n",
      "Alloa {'latitude': 56.125, 'longitude': -3.8125, 'generationtime_ms': 0.2219676971435547, 'utc_offset_seconds': 3600, 'timezone': 'Europe/London', 'timezone_abbreviation': 'BST', 'elevation': 22.0, 'daily_units': {'time': 'iso8601', 'temperature_2m_max': '°C', 'precipitation_sum': 'mm', 'weather_code': 'wmo code', 'wind_speed_10m_max': 'm/s'}, 'daily': {'time': ['2024-05-29', '2024-05-30', '2024-05-31', '2024-06-01', '2024-06-02', '2024-06-03', '2024-06-04', '2024-06-05', '2024-06-06', '2024-06-07', '2024-06-08', '2024-06-09', '2024-06-10', '2024-06-11'], 'temperature_2m_max': [16.8, 17.6, 18.6, 18.9, 15.5, 14.8, 14.2, 12.5, 12.8, 12.7, 16.0, 18.4, 15.1, 19.7], 'precipitation_sum': [4.5, 1.7, 0.0, 0.0, 0.0, 0.0, 0.6, 1.0, 1.4, 0.0, 0.0, 0.0, 0.0, 0.0], 'weather_code': [80, 61, 3, 3, 3, 3, 3, 61, 61, 3, 3, 3, 3, 3], 'wind_speed_10m_max': [4.61, 6.28, 4.3, 4.1, 6.21, 8.91, 9.01, 5.31, 7.27, 6.64, 4.21, 4.02, 3.8, 3.16]}}\n",
      "Arbroath {'latitude': 56.56, 'longitude': -2.58, 'generationtime_ms': 0.3299713134765625, 'utc_offset_seconds': 3600, 'timezone': 'Europe/London', 'timezone_abbreviation': 'BST', 'elevation': 8.0, 'daily_units': {'time': 'iso8601', 'temperature_2m_max': '°C', 'precipitation_sum': 'mm', 'weather_code': 'wmo code', 'wind_speed_10m_max': 'm/s'}, 'daily': {'time': ['2024-05-29', '2024-05-30', '2024-05-31', '2024-06-01', '2024-06-02', '2024-06-03', '2024-06-04', '2024-06-05', '2024-06-06', '2024-06-07', '2024-06-08', '2024-06-09', '2024-06-10', '2024-06-11'], 'temperature_2m_max': [14.6, 17.2, 16.5, 14.1, 17.7, 15.5, 14.4, 13.5, 12.8, 12.5, 12.6, 13.9, 11.9, 13.0], 'precipitation_sum': [4.8, 0.0, 0.0, 0.0, 0.0, 0.0, 0.0, 0.3, 1.2, 0.0, 0.0, 0.0, 0.0, 0.0], 'weather_code': [80, 3, 3, 45, 3, 3, 3, 61, 61, 3, 3, 3, 3, 3], 'wind_speed_10m_max': [4.39, 7.6, 3.8, 3.62, 6.82, 7.86, 9.18, 5.39, 9.17, 8.99, 6.26, 5.28, 3.18, 4.05]}}\n",
      "Aviemore {'latitude': 57.2, 'longitude': -3.8200002, 'generationtime_ms': 0.1729726791381836, 'utc_offset_seconds': 3600, 'timezone': 'Europe/London', 'timezone_abbreviation': 'BST', 'elevation': 216.0, 'daily_units': {'time': 'iso8601', 'temperature_2m_max': '°C', 'precipitation_sum': 'mm', 'weather_code': 'wmo code', 'wind_speed_10m_max': 'm/s'}, 'daily': {'time': ['2024-05-29', '2024-05-30', '2024-05-31', '2024-06-01', '2024-06-02', '2024-06-03', '2024-06-04', '2024-06-05', '2024-06-06', '2024-06-07', '2024-06-08', '2024-06-09', '2024-06-10', '2024-06-11'], 'temperature_2m_max': [15.3, 14.8, 16.9, 17.4, 15.4, 12.9, 11.4, 12.0, 10.9, 10.5, 14.6, 13.7, 16.8, 18.5], 'precipitation_sum': [1.7, 0.0, 0.0, 0.0, 0.0, 0.3, 9.9, 1.0, 1.5, 0.8, 0.0, 0.0, 0.0, 0.0], 'weather_code': [80, 3, 3, 3, 3, 61, 80, 61, 61, 51, 3, 3, 3, 3], 'wind_speed_10m_max': [3.3, 5.7, 4.31, 2.88, 6.16, 9.21, 9.58, 4.9, 6.65, 5.95, 4.92, 3.85, 3.49, 2.6]}}\n",
      "Ayr {'latitude': 55.4375, 'longitude': -4.625, 'generationtime_ms': 0.12600421905517578, 'utc_offset_seconds': 3600, 'timezone': 'Europe/London', 'timezone_abbreviation': 'BST', 'elevation': 11.0, 'daily_units': {'time': 'iso8601', 'temperature_2m_max': '°C', 'precipitation_sum': 'mm', 'weather_code': 'wmo code', 'wind_speed_10m_max': 'm/s'}, 'daily': {'time': ['2024-05-29', '2024-05-30', '2024-05-31', '2024-06-01', '2024-06-02', '2024-06-03', '2024-06-04', '2024-06-05', '2024-06-06', '2024-06-07', '2024-06-08', '2024-06-09', '2024-06-10', '2024-06-11'], 'temperature_2m_max': [15.3, 15.8, 15.8, 15.9, 14.9, 14.4, 13.2, 11.5, 14.0, 12.4, 13.5, 15.6, 15.6, 15.6], 'precipitation_sum': [2.0, 2.3, 0.0, 0.0, 0.0, 0.0, 1.5, 3.6, 1.8, 0.0, 0.0, 0.0, 0.0, 0.0], 'weather_code': [80, 80, 3, 3, 3, 3, 80, 61, 61, 3, 3, 2, 0, 3], 'wind_speed_10m_max': [6.71, 7.3, 5.32, 4.94, 6.65, 7.72, 9.28, 4.62, 8.89, 9.27, 7.22, 2.31, 3.69, 2.92]}}\n",
      "Barrhead {'latitude': 55.8125, 'longitude': -4.375, 'generationtime_ms': 0.1989603042602539, 'utc_offset_seconds': 3600, 'timezone': 'Europe/London', 'timezone_abbreviation': 'BST', 'elevation': 50.0, 'daily_units': {'time': 'iso8601', 'temperature_2m_max': '°C', 'precipitation_sum': 'mm', 'weather_code': 'wmo code', 'wind_speed_10m_max': 'm/s'}, 'daily': {'time': ['2024-05-29', '2024-05-30', '2024-05-31', '2024-06-01', '2024-06-02', '2024-06-03', '2024-06-04', '2024-06-05', '2024-06-06', '2024-06-07', '2024-06-08', '2024-06-09', '2024-06-10', '2024-06-11'], 'temperature_2m_max': [16.5, 17.0, 17.8, 17.9, 15.5, 14.6, 13.2, 10.8, 14.2, 14.2, 16.7, 18.3, 20.2, 20.8], 'precipitation_sum': [1.5, 1.0, 0.0, 0.0, 0.0, 0.0, 0.6, 2.7, 1.8, 0.0, 0.0, 0.0, 0.0, 0.0], 'weather_code': [61, 61, 3, 3, 3, 3, 3, 61, 61, 3, 3, 1, 3, 3], 'wind_speed_10m_max': [5.81, 4.79, 4.17, 5.03, 6.05, 7.74, 8.3, 5.04, 5.33, 5.66, 4.59, 4.31, 2.16, 3.54]}}\n",
      "Bathgate {'latitude': 55.875, 'longitude': -3.625, 'generationtime_ms': 0.1289844512939453, 'utc_offset_seconds': 3600, 'timezone': 'Europe/London', 'timezone_abbreviation': 'BST', 'elevation': 147.0, 'daily_units': {'time': 'iso8601', 'temperature_2m_max': '°C', 'precipitation_sum': 'mm', 'weather_code': 'wmo code', 'wind_speed_10m_max': 'm/s'}, 'daily': {'time': ['2024-05-29', '2024-05-30', '2024-05-31', '2024-06-01', '2024-06-02', '2024-06-03', '2024-06-04', '2024-06-05', '2024-06-06', '2024-06-07', '2024-06-08', '2024-06-09', '2024-06-10', '2024-06-11'], 'temperature_2m_max': [16.2, 16.4, 17.7, 17.8, 15.4, 14.1, 13.0, 10.5, 12.3, 12.2, 15.8, 18.5, 14.5, 19.5], 'precipitation_sum': [6.7, 7.1, 0.0, 0.0, 0.0, 0.0, 0.6, 3.9, 2.1, 0.0, 0.0, 0.0, 0.0, 0.0], 'weather_code': [80, 63, 3, 3, 3, 3, 80, 61, 61, 3, 3, 3, 3, 3], 'wind_speed_10m_max': [5.46, 5.91, 3.48, 4.9, 7.59, 8.61, 8.68, 5.01, 6.66, 5.62, 3.76, 2.4, 4.3, 4.34]}}\n",
      "Bellshill {'latitude': 55.8125, 'longitude': -4.0, 'generationtime_ms': 0.20897388458251953, 'utc_offset_seconds': 3600, 'timezone': 'Europe/London', 'timezone_abbreviation': 'BST', 'elevation': 76.0, 'daily_units': {'time': 'iso8601', 'temperature_2m_max': '°C', 'precipitation_sum': 'mm', 'weather_code': 'wmo code', 'wind_speed_10m_max': 'm/s'}, 'daily': {'time': ['2024-05-29', '2024-05-30', '2024-05-31', '2024-06-01', '2024-06-02', '2024-06-03', '2024-06-04', '2024-06-05', '2024-06-06', '2024-06-07', '2024-06-08', '2024-06-09', '2024-06-10', '2024-06-11'], 'temperature_2m_max': [16.6, 17.0, 18.0, 18.2, 15.5, 14.6, 13.6, 11.3, 13.7, 13.8, 16.6, 18.8, 18.4, 21.3], 'precipitation_sum': [2.6, 3.8, 0.0, 0.0, 0.0, 0.0, 0.6, 3.2, 1.9, 0.0, 0.0, 0.0, 0.0, 0.0], 'weather_code': [80, 61, 3, 3, 3, 3, 3, 61, 61, 3, 3, 3, 3, 3], 'wind_speed_10m_max': [5.28, 4.48, 3.71, 4.41, 5.46, 7.22, 7.05, 4.22, 5.73, 4.74, 4.47, 3.69, 2.83, 2.79]}}\n",
      "Benbecula {'latitude': 57.4375, 'longitude': -7.3125, 'generationtime_ms': 0.15294551849365234, 'utc_offset_seconds': 3600, 'timezone': 'Europe/London', 'timezone_abbreviation': 'BST', 'elevation': 19.0, 'daily_units': {'time': 'iso8601', 'temperature_2m_max': '°C', 'precipitation_sum': 'mm', 'weather_code': 'wmo code', 'wind_speed_10m_max': 'm/s'}, 'daily': {'time': ['2024-05-29', '2024-05-30', '2024-05-31', '2024-06-01', '2024-06-02', '2024-06-03', '2024-06-04', '2024-06-05', '2024-06-06', '2024-06-07', '2024-06-08', '2024-06-09', '2024-06-10', '2024-06-11'], 'temperature_2m_max': [14.0, 13.7, 13.4, 13.5, 13.4, 12.9, 11.7, 11.4, 11.1, 10.3, 11.4, 11.9, 11.4, 13.5], 'precipitation_sum': [0.2, 0.0, 0.0, 0.0, 2.4, 1.5, 1.8, 0.0, 0.4, 0.2, 0.0, 0.0, 0.0, 0.0], 'weather_code': [3, 3, 3, 3, 61, 80, 80, 3, 51, 51, 3, 3, 0, 3], 'wind_speed_10m_max': [5.44, 6.84, 4.58, 5.0, 7.18, 9.67, 8.22, 4.79, 13.69, 13.54, 6.14, 5.87, 7.24, 7.16]}}\n",
      "Bishopbriggs {'latitude': 55.875, 'longitude': -4.25, 'generationtime_ms': 0.20194053649902344, 'utc_offset_seconds': 3600, 'timezone': 'Europe/London', 'timezone_abbreviation': 'BST', 'elevation': 62.0, 'daily_units': {'time': 'iso8601', 'temperature_2m_max': '°C', 'precipitation_sum': 'mm', 'weather_code': 'wmo code', 'wind_speed_10m_max': 'm/s'}, 'daily': {'time': ['2024-05-29', '2024-05-30', '2024-05-31', '2024-06-01', '2024-06-02', '2024-06-03', '2024-06-04', '2024-06-05', '2024-06-06', '2024-06-07', '2024-06-08', '2024-06-09', '2024-06-10', '2024-06-11'], 'temperature_2m_max': [16.9, 17.2, 18.4, 18.4, 15.7, 15.0, 14.1, 11.8, 14.2, 13.9, 16.8, 19.6, 18.3, 20.8], 'precipitation_sum': [1.8, 1.4, 0.0, 0.0, 0.0, 0.0, 0.3, 2.3, 1.9, 0.0, 0.0, 0.0, 0.0, 0.0], 'weather_code': [80, 61, 3, 3, 3, 3, 3, 61, 61, 3, 3, 2, 3, 3], 'wind_speed_10m_max': [5.47, 4.27, 3.67, 4.63, 5.42, 6.64, 6.5, 4.05, 5.16, 5.48, 4.22, 3.09, 3.22, 3.5]}}\n",
      "Blantyre {'latitude': 55.8125, 'longitude': -4.0625, 'generationtime_ms': 0.2009868621826172, 'utc_offset_seconds': 3600, 'timezone': 'Europe/London', 'timezone_abbreviation': 'BST', 'elevation': 64.0, 'daily_units': {'time': 'iso8601', 'temperature_2m_max': '°C', 'precipitation_sum': 'mm', 'weather_code': 'wmo code', 'wind_speed_10m_max': 'm/s'}, 'daily': {'time': ['2024-05-29', '2024-05-30', '2024-05-31', '2024-06-01', '2024-06-02', '2024-06-03', '2024-06-04', '2024-06-05', '2024-06-06', '2024-06-07', '2024-06-08', '2024-06-09', '2024-06-10', '2024-06-11'], 'temperature_2m_max': [16.9, 17.3, 18.3, 18.5, 15.8, 15.0, 13.8, 11.1, 13.9, 14.2, 17.0, 19.1, 19.0, 21.9], 'precipitation_sum': [2.4, 3.6, 0.0, 0.0, 0.0, 0.0, 0.6, 3.2, 1.9, 0.0, 0.0, 0.0, 0.0, 0.0], 'weather_code': [80, 80, 3, 3, 3, 3, 80, 61, 61, 3, 3, 2, 3, 3], 'wind_speed_10m_max': [5.63, 4.48, 3.83, 4.56, 5.82, 6.94, 6.69, 4.17, 5.5, 5.11, 4.37, 3.75, 2.64, 3.3]}}\n",
      "Bowmore {'latitude': 55.75, 'longitude': -6.3125, 'generationtime_ms': 0.16295909881591797, 'utc_offset_seconds': 3600, 'timezone': 'Europe/London', 'timezone_abbreviation': 'BST', 'elevation': 4.0, 'daily_units': {'time': 'iso8601', 'temperature_2m_max': '°C', 'precipitation_sum': 'mm', 'weather_code': 'wmo code', 'wind_speed_10m_max': 'm/s'}, 'daily': {'time': ['2024-05-29', '2024-05-30', '2024-05-31', '2024-06-01', '2024-06-02', '2024-06-03', '2024-06-04', '2024-06-05', '2024-06-06', '2024-06-07', '2024-06-08', '2024-06-09', '2024-06-10', '2024-06-11'], 'temperature_2m_max': [13.4, 13.6, 13.5, 13.9, 13.8, 13.8, 12.9, 10.9, 12.1, 10.9, 12.2, 13.3, 15.1, 15.0], 'precipitation_sum': [0.4, 0.0, 0.0, 0.0, 0.0, 0.0, 1.5, 3.9, 1.5, 0.0, 0.0, 0.0, 0.0, 0.0], 'weather_code': [3, 3, 3, 3, 3, 3, 80, 61, 61, 3, 3, 2, 1, 3], 'wind_speed_10m_max': [7.15, 9.57, 6.3, 5.39, 6.17, 8.31, 8.68, 4.43, 8.83, 9.46, 5.84, 5.87, 3.69, 4.06]}}\n",
      "Broadford {'latitude': 57.25, 'longitude': -5.875, 'generationtime_ms': 0.21600723266601562, 'utc_offset_seconds': 3600, 'timezone': 'Europe/London', 'timezone_abbreviation': 'BST', 'elevation': 4.0, 'daily_units': {'time': 'iso8601', 'temperature_2m_max': '°C', 'precipitation_sum': 'mm', 'weather_code': 'wmo code', 'wind_speed_10m_max': 'm/s'}, 'daily': {'time': ['2024-05-29', '2024-05-30', '2024-05-31', '2024-06-01', '2024-06-02', '2024-06-03', '2024-06-04', '2024-06-05', '2024-06-06', '2024-06-07', '2024-06-08', '2024-06-09', '2024-06-10', '2024-06-11'], 'temperature_2m_max': [14.0, 14.1, 14.7, 15.2, 14.0, 12.1, 12.3, 11.8, 11.7, 10.9, 11.7, 14.1, 14.2, 14.3], 'precipitation_sum': [3.8, 3.6, 0.0, 0.0, 1.5, 0.4, 7.4, 0.0, 1.3, 0.2, 0.0, 0.0, 0.0, 0.0], 'weather_code': [80, 61, 3, 3, 61, 80, 80, 3, 51, 51, 3, 3, 0, 3], 'wind_speed_10m_max': [5.11, 7.91, 3.98, 4.05, 4.83, 9.46, 9.72, 5.14, 8.66, 7.5, 4.51, 3.21, 4.06, 3.0]}}\n",
      "Broxburn {'latitude': 55.94, 'longitude': -3.46, 'generationtime_ms': 0.22792816162109375, 'utc_offset_seconds': 3600, 'timezone': 'Europe/London', 'timezone_abbreviation': 'BST', 'elevation': 70.0, 'daily_units': {'time': 'iso8601', 'temperature_2m_max': '°C', 'precipitation_sum': 'mm', 'weather_code': 'wmo code', 'wind_speed_10m_max': 'm/s'}, 'daily': {'time': ['2024-05-29', '2024-05-30', '2024-05-31', '2024-06-01', '2024-06-02', '2024-06-03', '2024-06-04', '2024-06-05', '2024-06-06', '2024-06-07', '2024-06-08', '2024-06-09', '2024-06-10', '2024-06-11'], 'temperature_2m_max': [17.8, 18.0, 18.5, 18.7, 16.3, 15.1, 14.2, 12.2, 12.9, 12.3, 16.0, 18.4, 14.6, 19.1], 'precipitation_sum': [0.5, 1.2, 0.0, 0.0, 0.0, 0.0, 0.0, 1.6, 1.4, 0.0, 0.0, 0.0, 0.0, 0.0], 'weather_code': [80, 61, 3, 45, 3, 3, 3, 61, 61, 3, 3, 3, 3, 3], 'wind_speed_10m_max': [5.02, 5.6, 3.39, 4.79, 7.3, 7.93, 7.74, 4.9, 7.32, 6.12, 3.35, 2.77, 4.33, 5.17]}}\n",
      "Campbeltown {'latitude': 55.4375, 'longitude': -5.6875, 'generationtime_ms': 0.2319812774658203, 'utc_offset_seconds': 3600, 'timezone': 'Europe/London', 'timezone_abbreviation': 'BST', 'elevation': 5.0, 'daily_units': {'time': 'iso8601', 'temperature_2m_max': '°C', 'precipitation_sum': 'mm', 'weather_code': 'wmo code', 'wind_speed_10m_max': 'm/s'}, 'daily': {'time': ['2024-05-29', '2024-05-30', '2024-05-31', '2024-06-01', '2024-06-02', '2024-06-03', '2024-06-04', '2024-06-05', '2024-06-06', '2024-06-07', '2024-06-08', '2024-06-09', '2024-06-10', '2024-06-11'], 'temperature_2m_max': [13.5, 14.3, 14.1, 14.0, 13.8, 13.6, 12.4, 10.7, 13.2, 12.1, 13.1, 14.2, 16.8, 18.2], 'precipitation_sum': [0.9, 0.0, 0.0, 0.0, 0.0, 0.0, 2.1, 5.4, 2.1, 0.0, 0.0, 0.0, 0.0, 0.0], 'weather_code': [51, 3, 3, 3, 3, 3, 61, 61, 61, 3, 3, 2, 0, 3], 'wind_speed_10m_max': [8.05, 9.4, 7.31, 6.66, 7.04, 7.96, 9.24, 5.19, 9.18, 9.05, 6.48, 4.61, 2.8, 2.79]}}\n",
      "Castlebay {'latitude': 56.9375, 'longitude': -7.5, 'generationtime_ms': 0.1920461654663086, 'utc_offset_seconds': 3600, 'timezone': 'Europe/London', 'timezone_abbreviation': 'BST', 'elevation': 27.0, 'daily_units': {'time': 'iso8601', 'temperature_2m_max': '°C', 'precipitation_sum': 'mm', 'weather_code': 'wmo code', 'wind_speed_10m_max': 'm/s'}, 'daily': {'time': ['2024-05-29', '2024-05-30', '2024-05-31', '2024-06-01', '2024-06-02', '2024-06-03', '2024-06-04', '2024-06-05', '2024-06-06', '2024-06-07', '2024-06-08', '2024-06-09', '2024-06-10', '2024-06-11'], 'temperature_2m_max': [13.0, 13.0, 12.8, 12.9, 13.3, 12.6, 11.8, 10.9, 11.5, 10.5, 11.3, 11.8, 11.5, 13.8], 'precipitation_sum': [1.9, 0.0, 0.0, 0.0, 0.3, 0.3, 2.7, 0.0, 0.0, 0.0, 0.0, 0.0, 0.0, 0.0], 'weather_code': [61, 3, 3, 3, 61, 3, 80, 3, 3, 3, 3, 3, 0, 3], 'wind_speed_10m_max': [6.62, 8.25, 4.96, 5.12, 8.61, 10.14, 10.15, 6.35, 13.34, 14.2, 6.05, 5.38, 7.27, 2.91]}}\n",
      "Clydebank {'latitude': 55.875, 'longitude': -4.375, 'generationtime_ms': 0.12695789337158203, 'utc_offset_seconds': 3600, 'timezone': 'Europe/London', 'timezone_abbreviation': 'BST', 'elevation': 11.0, 'daily_units': {'time': 'iso8601', 'temperature_2m_max': '°C', 'precipitation_sum': 'mm', 'weather_code': 'wmo code', 'wind_speed_10m_max': 'm/s'}, 'daily': {'time': ['2024-05-29', '2024-05-30', '2024-05-31', '2024-06-01', '2024-06-02', '2024-06-03', '2024-06-04', '2024-06-05', '2024-06-06', '2024-06-07', '2024-06-08', '2024-06-09', '2024-06-10', '2024-06-11'], 'temperature_2m_max': [17.1, 17.5, 18.4, 18.4, 15.9, 15.3, 14.4, 12.1, 14.5, 14.5, 17.3, 20.0, 19.0, 21.0], 'precipitation_sum': [0.7, 0.3, 0.0, 0.0, 0.0, 0.0, 0.3, 2.3, 1.6, 0.0, 0.0, 0.0, 0.0, 0.0], 'weather_code': [61, 61, 3, 3, 3, 3, 3, 61, 61, 3, 3, 1, 3, 3], 'wind_speed_10m_max': [5.82, 4.22, 4.05, 5.0, 5.46, 6.64, 6.5, 4.05, 4.88, 5.62, 4.49, 3.22, 2.61, 3.45]}}\n",
      "Coatbridge {'latitude': 55.875, 'longitude': -4.0, 'generationtime_ms': 0.11599063873291016, 'utc_offset_seconds': 3600, 'timezone': 'Europe/London', 'timezone_abbreviation': 'BST', 'elevation': 86.0, 'daily_units': {'time': 'iso8601', 'temperature_2m_max': '°C', 'precipitation_sum': 'mm', 'weather_code': 'wmo code', 'wind_speed_10m_max': 'm/s'}, 'daily': {'time': ['2024-05-29', '2024-05-30', '2024-05-31', '2024-06-01', '2024-06-02', '2024-06-03', '2024-06-04', '2024-06-05', '2024-06-06', '2024-06-07', '2024-06-08', '2024-06-09', '2024-06-10', '2024-06-11'], 'temperature_2m_max': [16.6, 17.1, 18.1, 18.4, 15.4, 14.6, 13.6, 11.2, 13.7, 13.8, 16.6, 18.7, 18.3, 21.2], 'precipitation_sum': [2.7, 3.2, 0.0, 0.0, 0.0, 0.0, 0.6, 3.2, 1.9, 0.0, 0.0, 0.0, 0.0, 0.0], 'weather_code': [80, 61, 3, 3, 3, 3, 3, 61, 61, 3, 45, 3, 3, 3], 'wind_speed_10m_max': [5.35, 5.0, 3.53, 4.74, 6.11, 7.22, 7.05, 4.22, 5.73, 4.74, 4.47, 3.69, 2.83, 2.79]}}\n",
      "Cowdenbeath {'latitude': 56.12, 'longitude': -3.3400002, 'generationtime_ms': 0.16498565673828125, 'utc_offset_seconds': 3600, 'timezone': 'Europe/London', 'timezone_abbreviation': 'BST', 'elevation': 129.0, 'daily_units': {'time': 'iso8601', 'temperature_2m_max': '°C', 'precipitation_sum': 'mm', 'weather_code': 'wmo code', 'wind_speed_10m_max': 'm/s'}, 'daily': {'time': ['2024-05-29', '2024-05-30', '2024-05-31', '2024-06-01', '2024-06-02', '2024-06-03', '2024-06-04', '2024-06-05', '2024-06-06', '2024-06-07', '2024-06-08', '2024-06-09', '2024-06-10', '2024-06-11'], 'temperature_2m_max': [16.9, 17.5, 18.0, 18.6, 15.6, 14.1, 13.8, 11.9, 12.6, 12.4, 15.6, 18.3, 14.1, 18.2], 'precipitation_sum': [2.6, 0.6, 0.0, 0.0, 0.0, 0.0, 0.6, 1.0, 1.7, 0.0, 0.0, 0.0, 0.0, 0.0], 'weather_code': [80, 61, 3, 3, 3, 3, 3, 61, 61, 3, 2, 3, 3, 3], 'wind_speed_10m_max': [4.1, 7.1, 3.51, 4.0, 6.79, 9.04, 9.35, 5.95, 7.39, 6.08, 3.31, 4.31, 3.83, 3.85]}}\n",
      "Cumbernauld {'latitude': 55.9375, 'longitude': -4.0, 'generationtime_ms': 0.2009868621826172, 'utc_offset_seconds': 3600, 'timezone': 'Europe/London', 'timezone_abbreviation': 'BST', 'elevation': 146.0, 'daily_units': {'time': 'iso8601', 'temperature_2m_max': '°C', 'precipitation_sum': 'mm', 'weather_code': 'wmo code', 'wind_speed_10m_max': 'm/s'}, 'daily': {'time': ['2024-05-29', '2024-05-30', '2024-05-31', '2024-06-01', '2024-06-02', '2024-06-03', '2024-06-04', '2024-06-05', '2024-06-06', '2024-06-07', '2024-06-08', '2024-06-09', '2024-06-10', '2024-06-11'], 'temperature_2m_max': [16.2, 16.7, 17.8, 17.8, 14.9, 14.1, 13.2, 11.2, 13.6, 13.5, 16.4, 19.3, 17.2, 21.1], 'precipitation_sum': [3.2, 2.9, 0.0, 0.0, 0.0, 0.0, 0.3, 2.0, 1.9, 0.0, 0.0, 0.0, 0.0, 0.0], 'weather_code': [80, 80, 3, 3, 3, 3, 3, 61, 61, 3, 3, 3, 3, 3], 'wind_speed_10m_max': [5.12, 5.3, 3.47, 4.9, 6.58, 8.44, 8.52, 4.7, 5.3, 4.74, 3.85, 2.55, 3.39, 2.16]}}\n",
      "Dingwall {'latitude': 57.625, 'longitude': -4.375, 'generationtime_ms': 0.22602081298828125, 'utc_offset_seconds': 3600, 'timezone': 'Europe/London', 'timezone_abbreviation': 'BST', 'elevation': 8.0, 'daily_units': {'time': 'iso8601', 'temperature_2m_max': '°C', 'precipitation_sum': 'mm', 'weather_code': 'wmo code', 'wind_speed_10m_max': 'm/s'}, 'daily': {'time': ['2024-05-29', '2024-05-30', '2024-05-31', '2024-06-01', '2024-06-02', '2024-06-03', '2024-06-04', '2024-06-05', '2024-06-06', '2024-06-07', '2024-06-08', '2024-06-09', '2024-06-10', '2024-06-11'], 'temperature_2m_max': [15.8, 15.8, 16.0, 16.9, 15.3, 13.4, 12.7, 13.3, 11.8, 12.7, 15.5, 15.5, 14.6, 15.3], 'precipitation_sum': [2.2, 0.1, 0.0, 0.0, 0.0, 0.2, 1.9, 0.9, 1.3, 0.2, 0.0, 0.0, 0.0, 0.0], 'weather_code': [80, 61, 3, 3, 3, 61, 80, 3, 51, 51, 3, 3, 3, 3], 'wind_speed_10m_max': [4.24, 6.63, 4.49, 5.2, 7.38, 9.18, 8.82, 4.87, 5.72, 6.31, 5.41, 3.19, 4.09, 3.93]}}\n",
      "Dornoch {'latitude': 57.8125, 'longitude': -3.9375, 'generationtime_ms': 0.4169940948486328, 'utc_offset_seconds': 3600, 'timezone': 'Europe/London', 'timezone_abbreviation': 'BST', 'elevation': 9.0, 'daily_units': {'time': 'iso8601', 'temperature_2m_max': '°C', 'precipitation_sum': 'mm', 'weather_code': 'wmo code', 'wind_speed_10m_max': 'm/s'}, 'daily': {'time': ['2024-05-29', '2024-05-30', '2024-05-31', '2024-06-01', '2024-06-02', '2024-06-03', '2024-06-04', '2024-06-05', '2024-06-06', '2024-06-07', '2024-06-08', '2024-06-09', '2024-06-10', '2024-06-11'], 'temperature_2m_max': [14.4, 15.4, 15.6, 16.7, 16.1, 13.6, 12.3, 14.1, 10.7, 11.2, 14.4, 13.3, 12.6, 12.4], 'precipitation_sum': [9.3, 0.2, 0.1, 0.0, 0.1, 0.4, 0.7, 0.0, 1.6, 0.2, 0.0, 0.0, 0.0, 0.0], 'weather_code': [80, 3, 61, 3, 3, 61, 61, 3, 51, 51, 3, 3, 3, 3], 'wind_speed_10m_max': [3.91, 6.15, 6.95, 5.83, 7.53, 8.14, 8.7, 4.63, 8.35, 8.74, 6.16, 6.82, 3.92, 4.0]}}\n",
      "Dumfries {'latitude': 55.07, 'longitude': -3.6100006, 'generationtime_ms': 2.1799802780151367, 'utc_offset_seconds': 3600, 'timezone': 'Europe/London', 'timezone_abbreviation': 'BST', 'elevation': 21.0, 'daily_units': {'time': 'iso8601', 'temperature_2m_max': '°C', 'precipitation_sum': 'mm', 'weather_code': 'wmo code', 'wind_speed_10m_max': 'm/s'}, 'daily': {'time': ['2024-05-29', '2024-05-30', '2024-05-31', '2024-06-01', '2024-06-02', '2024-06-03', '2024-06-04', '2024-06-05', '2024-06-06', '2024-06-07', '2024-06-08', '2024-06-09', '2024-06-10', '2024-06-11'], 'temperature_2m_max': [17.9, 18.3, 18.7, 19.1, 19.4, 15.3, 13.4, 11.5, 15.9, 13.4, 15.7, 17.8, 18.6, 19.5], 'precipitation_sum': [2.0, 1.9, 0.0, 0.0, 0.0, 0.0, 0.0, 4.2, 0.6, 0.0, 0.0, 0.0, 0.0, 0.0], 'weather_code': [61, 61, 2, 3, 3, 3, 3, 61, 61, 3, 3, 3, 2, 2], 'wind_speed_10m_max': [6.23, 6.13, 5.52, 6.04, 5.55, 7.31, 7.11, 4.91, 5.52, 5.63, 4.53, 2.14, 3.27, 3.42]}}\n",
      "Dundee {'latitude': 56.46, 'longitude': -2.96, 'generationtime_ms': 0.1729726791381836, 'utc_offset_seconds': 3600, 'timezone': 'Europe/London', 'timezone_abbreviation': 'BST', 'elevation': 20.0, 'daily_units': {'time': 'iso8601', 'temperature_2m_max': '°C', 'precipitation_sum': 'mm', 'weather_code': 'wmo code', 'wind_speed_10m_max': 'm/s'}, 'daily': {'time': ['2024-05-29', '2024-05-30', '2024-05-31', '2024-06-01', '2024-06-02', '2024-06-03', '2024-06-04', '2024-06-05', '2024-06-06', '2024-06-07', '2024-06-08', '2024-06-09', '2024-06-10', '2024-06-11'], 'temperature_2m_max': [15.8, 17.7, 16.9, 17.7, 17.0, 15.2, 14.5, 13.7, 12.5, 13.0, 16.1, 16.6, 13.3, 15.4], 'precipitation_sum': [2.1, 0.0, 0.2, 0.0, 0.0, 0.0, 0.0, 0.7, 1.7, 0.0, 0.0, 0.0, 0.0, 0.0], 'weather_code': [80, 3, 3, 45, 45, 3, 61, 61, 61, 3, 3, 3, 3, 3], 'wind_speed_10m_max': [3.81, 5.9, 4.22, 3.64, 6.91, 8.16, 8.58, 5.16, 5.6, 7.0, 3.25, 4.26, 4.03, 3.9]}}\n",
      "Dunkeld {'latitude': 56.56, 'longitude': -3.5800002, 'generationtime_ms': 0.3889799118041992, 'utc_offset_seconds': 3600, 'timezone': 'Europe/London', 'timezone_abbreviation': 'BST', 'elevation': 54.0, 'daily_units': {'time': 'iso8601', 'temperature_2m_max': '°C', 'precipitation_sum': 'mm', 'weather_code': 'wmo code', 'wind_speed_10m_max': 'm/s'}, 'daily': {'time': ['2024-05-29', '2024-05-30', '2024-05-31', '2024-06-01', '2024-06-02', '2024-06-03', '2024-06-04', '2024-06-05', '2024-06-06', '2024-06-07', '2024-06-08', '2024-06-09', '2024-06-10', '2024-06-11'], 'temperature_2m_max': [18.0, 17.2, 19.4, 19.8, 17.0, 14.9, 14.2, 13.3, 14.8, 12.6, 15.9, 17.4, 15.1, 18.5], 'precipitation_sum': [0.6, 0.1, 0.0, 0.0, 0.0, 0.0, 0.3, 0.7, 1.1, 0.0, 0.0, 0.0, 0.0, 0.0], 'weather_code': [80, 80, 3, 3, 3, 3, 61, 61, 61, 3, 3, 3, 3, 3], 'wind_speed_10m_max': [4.33, 6.71, 4.75, 3.42, 3.83, 8.21, 8.49, 5.08, 5.91, 7.01, 4.31, 3.61, 2.98, 4.18]}}\n",
      "Dunfermline {'latitude': 56.08, 'longitude': -3.46, 'generationtime_ms': 0.24199485778808594, 'utc_offset_seconds': 3600, 'timezone': 'Europe/London', 'timezone_abbreviation': 'BST', 'elevation': 104.0, 'daily_units': {'time': 'iso8601', 'temperature_2m_max': '°C', 'precipitation_sum': 'mm', 'weather_code': 'wmo code', 'wind_speed_10m_max': 'm/s'}, 'daily': {'time': ['2024-05-29', '2024-05-30', '2024-05-31', '2024-06-01', '2024-06-02', '2024-06-03', '2024-06-04', '2024-06-05', '2024-06-06', '2024-06-07', '2024-06-08', '2024-06-09', '2024-06-10', '2024-06-11'], 'temperature_2m_max': [17.2, 17.8, 18.3, 18.6, 15.7, 13.9, 13.7, 11.9, 12.3, 12.2, 15.2, 17.5, 14.4, 18.8], 'precipitation_sum': [1.4, 1.2, 0.0, 0.0, 0.0, 0.0, 0.6, 1.4, 1.6, 0.0, 0.0, 0.0, 0.0, 0.0], 'weather_code': [80, 61, 3, 3, 3, 3, 3, 61, 61, 3, 3, 3, 3, 3], 'wind_speed_10m_max': [4.6, 6.38, 3.71, 4.44, 7.12, 9.23, 9.41, 5.67, 7.77, 6.66, 4.0, 4.22, 3.76, 4.03]}}\n",
      "Dunoon {'latitude': 55.875, 'longitude': -4.875, 'generationtime_ms': 0.20396709442138672, 'utc_offset_seconds': 3600, 'timezone': 'Europe/London', 'timezone_abbreviation': 'BST', 'elevation': 19.0, 'daily_units': {'time': 'iso8601', 'temperature_2m_max': '°C', 'precipitation_sum': 'mm', 'weather_code': 'wmo code', 'wind_speed_10m_max': 'm/s'}, 'daily': {'time': ['2024-05-29', '2024-05-30', '2024-05-31', '2024-06-01', '2024-06-02', '2024-06-03', '2024-06-04', '2024-06-05', '2024-06-06', '2024-06-07', '2024-06-08', '2024-06-09', '2024-06-10', '2024-06-11'], 'temperature_2m_max': [15.7, 16.4, 16.3, 16.3, 14.5, 14.0, 13.3, 12.0, 14.9, 13.0, 14.6, 16.2, 16.1, 16.7], 'precipitation_sum': [0.0, 0.2, 0.0, 0.0, 0.0, 0.0, 0.0, 1.4, 1.6, 0.0, 0.0, 0.0, 0.0, 0.0], 'weather_code': [3, 3, 3, 3, 3, 3, 3, 61, 61, 3, 3, 1, 1, 3], 'wind_speed_10m_max': [7.26, 7.29, 5.78, 6.31, 6.38, 8.55, 9.38, 4.92, 8.19, 6.76, 6.22, 5.0, 2.37, 2.62]}}\n",
      "East Kilbride {'latitude': 55.75, 'longitude': -4.1875, 'generationtime_ms': 0.20110607147216797, 'utc_offset_seconds': 3600, 'timezone': 'Europe/London', 'timezone_abbreviation': 'BST', 'elevation': 171.0, 'daily_units': {'time': 'iso8601', 'temperature_2m_max': '°C', 'precipitation_sum': 'mm', 'weather_code': 'wmo code', 'wind_speed_10m_max': 'm/s'}, 'daily': {'time': ['2024-05-29', '2024-05-30', '2024-05-31', '2024-06-01', '2024-06-02', '2024-06-03', '2024-06-04', '2024-06-05', '2024-06-06', '2024-06-07', '2024-06-08', '2024-06-09', '2024-06-10', '2024-06-11'], 'temperature_2m_max': [15.8, 16.4, 17.2, 17.1, 14.7, 14.1, 13.1, 10.4, 13.5, 13.5, 15.1, 16.7, 19.7, 20.0], 'precipitation_sum': [2.7, 3.1, 0.0, 0.0, 0.0, 0.0, 0.6, 3.2, 1.6, 0.0, 0.0, 0.0, 0.3, 0.0], 'weather_code': [80, 61, 3, 3, 3, 3, 80, 61, 61, 3, 45, 1, 51, 3], 'wind_speed_10m_max': [6.09, 4.66, 4.21, 5.03, 6.8, 7.11, 6.69, 4.17, 5.46, 5.73, 4.95, 4.25, 1.88, 3.4]}}\n",
      "Edinburgh {'latitude': 55.96, 'longitude': -3.18, 'generationtime_ms': 0.23996829986572266, 'utc_offset_seconds': 3600, 'timezone': 'Europe/London', 'timezone_abbreviation': 'BST', 'elevation': 74.0, 'daily_units': {'time': 'iso8601', 'temperature_2m_max': '°C', 'precipitation_sum': 'mm', 'weather_code': 'wmo code', 'wind_speed_10m_max': 'm/s'}, 'daily': {'time': ['2024-05-29', '2024-05-30', '2024-05-31', '2024-06-01', '2024-06-02', '2024-06-03', '2024-06-04', '2024-06-05', '2024-06-06', '2024-06-07', '2024-06-08', '2024-06-09', '2024-06-10', '2024-06-11'], 'temperature_2m_max': [17.7, 18.2, 18.7, 19.3, 16.9, 15.1, 14.2, 12.2, 12.5, 12.8, 16.1, 18.4, 15.6, 18.2], 'precipitation_sum': [2.2, 1.3, 0.0, 0.0, 0.0, 0.0, 0.0, 1.6, 1.4, 0.0, 0.0, 0.0, 0.0, 0.0], 'weather_code': [80, 61, 3, 3, 3, 3, 3, 61, 61, 3, 3, 3, 3, 3], 'wind_speed_10m_max': [4.31, 4.32, 2.06, 3.85, 5.83, 7.83, 7.74, 4.9, 7.79, 5.83, 3.14, 2.98, 3.89, 3.89]}}\n",
      "Elgin {'latitude': 57.625, 'longitude': -3.3125, 'generationtime_ms': 0.1990795135498047, 'utc_offset_seconds': 3600, 'timezone': 'Europe/London', 'timezone_abbreviation': 'BST', 'elevation': 26.0, 'daily_units': {'time': 'iso8601', 'temperature_2m_max': '°C', 'precipitation_sum': 'mm', 'weather_code': 'wmo code', 'wind_speed_10m_max': 'm/s'}, 'daily': {'time': ['2024-05-29', '2024-05-30', '2024-05-31', '2024-06-01', '2024-06-02', '2024-06-03', '2024-06-04', '2024-06-05', '2024-06-06', '2024-06-07', '2024-06-08', '2024-06-09', '2024-06-10', '2024-06-11'], 'temperature_2m_max': [14.0, 14.7, 15.2, 16.1, 16.7, 13.4, 12.4, 13.2, 10.6, 10.9, 14.5, 12.6, 15.0, 17.3], 'precipitation_sum': [13.1, 1.1, 0.0, 0.0, 0.0, 0.5, 7.5, 0.4, 2.6, 2.5, 0.0, 0.0, 0.0, 0.0], 'weather_code': [80, 80, 3, 3, 3, 61, 80, 3, 51, 51, 3, 3, 3, 3], 'wind_speed_10m_max': [2.9, 5.87, 5.24, 3.76, 7.63, 8.41, 8.98, 4.88, 7.16, 7.1, 4.83, 4.11, 3.57, 3.37]}}\n",
      "Erskine {'latitude': 55.875, 'longitude': -4.4375, 'generationtime_ms': 0.20003318786621094, 'utc_offset_seconds': 3600, 'timezone': 'Europe/London', 'timezone_abbreviation': 'BST', 'elevation': 18.0, 'daily_units': {'time': 'iso8601', 'temperature_2m_max': '°C', 'precipitation_sum': 'mm', 'weather_code': 'wmo code', 'wind_speed_10m_max': 'm/s'}, 'daily': {'time': ['2024-05-29', '2024-05-30', '2024-05-31', '2024-06-01', '2024-06-02', '2024-06-03', '2024-06-04', '2024-06-05', '2024-06-06', '2024-06-07', '2024-06-08', '2024-06-09', '2024-06-10', '2024-06-11'], 'temperature_2m_max': [16.7, 17.0, 17.8, 17.9, 15.5, 14.6, 13.5, 12.0, 14.5, 14.5, 17.3, 20.0, 19.0, 20.9], 'precipitation_sum': [0.7, 0.1, 0.0, 0.0, 0.0, 0.0, 0.6, 1.4, 1.6, 0.0, 0.0, 0.0, 0.0, 0.0], 'weather_code': [61, 61, 3, 3, 3, 3, 3, 61, 61, 3, 3, 1, 3, 3], 'wind_speed_10m_max': [6.44, 4.53, 4.52, 5.44, 5.72, 8.91, 9.42, 4.95, 4.88, 5.62, 4.49, 3.22, 2.61, 3.45]}}\n",
      "Falkirk {'latitude': 56.0, 'longitude': -3.8125, 'generationtime_ms': 0.13399124145507812, 'utc_offset_seconds': 3600, 'timezone': 'Europe/London', 'timezone_abbreviation': 'BST', 'elevation': 43.0, 'daily_units': {'time': 'iso8601', 'temperature_2m_max': '°C', 'precipitation_sum': 'mm', 'weather_code': 'wmo code', 'wind_speed_10m_max': 'm/s'}, 'daily': {'time': ['2024-05-29', '2024-05-30', '2024-05-31', '2024-06-01', '2024-06-02', '2024-06-03', '2024-06-04', '2024-06-05', '2024-06-06', '2024-06-07', '2024-06-08', '2024-06-09', '2024-06-10', '2024-06-11'], 'temperature_2m_max': [17.2, 17.7, 18.7, 19.1, 16.0, 15.1, 14.1, 12.2, 13.2, 12.9, 16.2, 18.7, 15.0, 20.1], 'precipitation_sum': [4.9, 3.3, 0.0, 0.0, 0.0, 0.0, 0.3, 1.7, 1.6, 0.0, 0.0, 0.0, 0.0, 0.0], 'weather_code': [80, 61, 3, 3, 3, 3, 3, 61, 61, 3, 3, 3, 3, 3], 'wind_speed_10m_max': [4.51, 5.52, 4.2, 4.62, 6.14, 7.83, 7.93, 4.62, 6.58, 6.47, 4.37, 3.72, 3.93, 2.5]}}\n",
      "Fort Augustus {'latitude': 57.1875, 'longitude': -4.6875, 'generationtime_ms': 0.7179975509643555, 'utc_offset_seconds': 3600, 'timezone': 'Europe/London', 'timezone_abbreviation': 'BST', 'elevation': 20.0, 'daily_units': {'time': 'iso8601', 'temperature_2m_max': '°C', 'precipitation_sum': 'mm', 'weather_code': 'wmo code', 'wind_speed_10m_max': 'm/s'}, 'daily': {'time': ['2024-05-29', '2024-05-30', '2024-05-31', '2024-06-01', '2024-06-02', '2024-06-03', '2024-06-04', '2024-06-05', '2024-06-06', '2024-06-07', '2024-06-08', '2024-06-09', '2024-06-10', '2024-06-11'], 'temperature_2m_max': [15.8, 15.9, 16.4, 17.2, 14.5, 12.8, 12.7, 12.6, 12.0, 11.9, 14.8, 15.7, 19.1, 21.2], 'precipitation_sum': [3.3, 1.0, 0.0, 0.1, 0.0, 0.0, 2.7, 0.2, 1.8, 0.7, 0.0, 0.0, 0.0, 0.0], 'weather_code': [80, 61, 3, 61, 3, 61, 80, 61, 61, 51, 3, 3, 3, 3], 'wind_speed_10m_max': [3.42, 5.24, 3.45, 3.74, 7.29, 8.14, 8.63, 6.02, 6.65, 7.62, 5.85, 3.33, 5.39, 3.48]}}\n",
      "Fort William {'latitude': 56.75, 'longitude': -5.1875, 'generationtime_ms': 0.1690387725830078, 'utc_offset_seconds': 3600, 'timezone': 'Europe/London', 'timezone_abbreviation': 'BST', 'elevation': 7.0, 'daily_units': {'time': 'iso8601', 'temperature_2m_max': '°C', 'precipitation_sum': 'mm', 'weather_code': 'wmo code', 'wind_speed_10m_max': 'm/s'}, 'daily': {'time': ['2024-05-29', '2024-05-30', '2024-05-31', '2024-06-01', '2024-06-02', '2024-06-03', '2024-06-04', '2024-06-05', '2024-06-06', '2024-06-07', '2024-06-08', '2024-06-09', '2024-06-10', '2024-06-11'], 'temperature_2m_max': [15.6, 16.2, 15.5, 15.9, 13.9, 12.8, 12.4, 12.6, 13.9, 12.0, 15.3, 18.7, 18.4, 20.9], 'precipitation_sum': [2.4, 0.1, 0.0, 0.0, 1.6, 1.2, 1.7, 1.1, 1.7, 0.2, 0.0, 0.0, 0.0, 0.0], 'weather_code': [80, 61, 3, 3, 61, 80, 3, 61, 61, 51, 2, 3, 3, 3], 'wind_speed_10m_max': [3.52, 7.13, 3.67, 4.14, 3.75, 8.5, 8.14, 5.94, 6.38, 5.86, 4.74, 2.06, 1.77, 2.51]}}\n",
      "Fortrose {'latitude': 57.5, 'longitude': -4.1875, 'generationtime_ms': 0.2009868621826172, 'utc_offset_seconds': 3600, 'timezone': 'Europe/London', 'timezone_abbreviation': 'BST', 'elevation': 29.0, 'daily_units': {'time': 'iso8601', 'temperature_2m_max': '°C', 'precipitation_sum': 'mm', 'weather_code': 'wmo code', 'wind_speed_10m_max': 'm/s'}, 'daily': {'time': ['2024-05-29', '2024-05-30', '2024-05-31', '2024-06-01', '2024-06-02', '2024-06-03', '2024-06-04', '2024-06-05', '2024-06-06', '2024-06-07', '2024-06-08', '2024-06-09', '2024-06-10', '2024-06-11'], 'temperature_2m_max': [15.0, 15.3, 16.4, 17.0, 16.3, 13.5, 12.9, 13.2, 11.0, 11.3, 14.0, 14.2, 11.9, 12.0], 'precipitation_sum': [10.6, 0.9, 0.0, 0.0, 0.1, 0.9, 4.7, 0.3, 1.3, 0.8, 0.0, 0.0, 0.0, 0.0], 'weather_code': [80, 61, 3, 3, 3, 80, 80, 3, 51, 51, 3, 3, 2, 3], 'wind_speed_10m_max': [2.9, 4.88, 4.65, 4.9, 8.7, 9.52, 9.45, 5.26, 8.08, 8.19, 5.79, 6.2, 5.84, 5.7]}}\n",
      "Fraserburgh {'latitude': 57.6875, 'longitude': -2.0, 'generationtime_ms': 0.31507015228271484, 'utc_offset_seconds': 3600, 'timezone': 'Europe/London', 'timezone_abbreviation': 'BST', 'elevation': 13.0, 'daily_units': {'time': 'iso8601', 'temperature_2m_max': '°C', 'precipitation_sum': 'mm', 'weather_code': 'wmo code', 'wind_speed_10m_max': 'm/s'}, 'daily': {'time': ['2024-05-29', '2024-05-30', '2024-05-31', '2024-06-01', '2024-06-02', '2024-06-03', '2024-06-04', '2024-06-05', '2024-06-06', '2024-06-07', '2024-06-08', '2024-06-09', '2024-06-10', '2024-06-11'], 'temperature_2m_max': [13.4, 13.0, 13.4, 14.3, 16.7, 14.0, 12.2, 13.3, 11.3, 10.3, 11.0, 11.1, 11.2, 11.5], 'precipitation_sum': [3.7, 0.7, 0.0, 0.0, 0.6, 0.0, 2.7, 0.9, 1.0, 2.0, 0.0, 0.0, 0.0, 0.0], 'weather_code': [61, 61, 3, 3, 61, 3, 80, 3, 51, 51, 3, 3, 3, 3], 'wind_speed_10m_max': [5.7, 9.17, 7.16, 6.5, 6.71, 8.71, 9.02, 4.8, 12.29, 12.46, 11.25, 9.84, 5.52, 4.44]}}\n",
      "Gairloch {'latitude': 57.8125, 'longitude': -5.6875, 'generationtime_ms': 0.6840229034423828, 'utc_offset_seconds': 3600, 'timezone': 'Europe/London', 'timezone_abbreviation': 'BST', 'elevation': 17.0, 'daily_units': {'time': 'iso8601', 'temperature_2m_max': '°C', 'precipitation_sum': 'mm', 'weather_code': 'wmo code', 'wind_speed_10m_max': 'm/s'}, 'daily': {'time': ['2024-05-29', '2024-05-30', '2024-05-31', '2024-06-01', '2024-06-02', '2024-06-03', '2024-06-04', '2024-06-05', '2024-06-06', '2024-06-07', '2024-06-08', '2024-06-09', '2024-06-10', '2024-06-11'], 'temperature_2m_max': [13.6, 13.1, 13.5, 13.7, 13.4, 12.2, 11.2, 11.1, 10.4, 9.6, 11.8, 12.4, 12.9, 15.0], 'precipitation_sum': [4.9, 2.6, 0.0, 0.0, 2.8, 4.5, 10.4, 0.0, 1.1, 2.8, 0.0, 0.0, 0.0, 0.0], 'weather_code': [80, 80, 3, 3, 61, 80, 80, 3, 51, 51, 3, 3, 1, 3], 'wind_speed_10m_max': [4.87, 6.73, 4.63, 5.92, 8.64, 11.03, 10.02, 5.65, 10.21, 9.06, 7.6, 4.17, 5.51, 2.01]}}\n",
      "Glasgow {'latitude': 55.875, 'longitude': -4.25, 'generationtime_ms': 0.16808509826660156, 'utc_offset_seconds': 3600, 'timezone': 'Europe/London', 'timezone_abbreviation': 'BST', 'elevation': 17.0, 'daily_units': {'time': 'iso8601', 'temperature_2m_max': '°C', 'precipitation_sum': 'mm', 'weather_code': 'wmo code', 'wind_speed_10m_max': 'm/s'}, 'daily': {'time': ['2024-05-29', '2024-05-30', '2024-05-31', '2024-06-01', '2024-06-02', '2024-06-03', '2024-06-04', '2024-06-05', '2024-06-06', '2024-06-07', '2024-06-08', '2024-06-09', '2024-06-10', '2024-06-11'], 'temperature_2m_max': [17.2, 17.5, 18.7, 18.7, 16.0, 15.3, 14.4, 12.1, 14.5, 14.5, 17.3, 20.0, 19.0, 20.9], 'precipitation_sum': [1.8, 1.4, 0.0, 0.0, 0.0, 0.0, 0.3, 2.3, 1.6, 0.0, 0.0, 0.0, 0.0, 0.0], 'weather_code': [80, 61, 3, 3, 3, 3, 3, 61, 61, 3, 3, 1, 3, 3], 'wind_speed_10m_max': [5.47, 4.27, 3.67, 4.63, 5.42, 6.64, 6.5, 4.05, 4.88, 5.62, 4.49, 3.22, 2.61, 3.45]}}\n",
      "Glenrothes {'latitude': 56.2, 'longitude': -3.18, 'generationtime_ms': 0.24902820587158203, 'utc_offset_seconds': 3600, 'timezone': 'Europe/London', 'timezone_abbreviation': 'BST', 'elevation': 91.0, 'daily_units': {'time': 'iso8601', 'temperature_2m_max': '°C', 'precipitation_sum': 'mm', 'weather_code': 'wmo code', 'wind_speed_10m_max': 'm/s'}, 'daily': {'time': ['2024-05-29', '2024-05-30', '2024-05-31', '2024-06-01', '2024-06-02', '2024-06-03', '2024-06-04', '2024-06-05', '2024-06-06', '2024-06-07', '2024-06-08', '2024-06-09', '2024-06-10', '2024-06-11'], 'temperature_2m_max': [17.3, 17.9, 18.6, 19.3, 16.4, 14.7, 14.1, 12.5, 11.8, 12.4, 15.5, 17.0, 13.6, 16.0], 'precipitation_sum': [4.9, 0.5, 0.0, 0.0, 0.0, 0.0, 0.6, 1.0, 1.4, 0.0, 0.0, 0.0, 0.0, 0.0], 'weather_code': [80, 61, 3, 3, 3, 3, 3, 61, 61, 3, 3, 3, 3, 3], 'wind_speed_10m_max': [3.14, 5.91, 3.27, 2.6, 6.91, 8.22, 9.21, 5.87, 6.53, 8.49, 4.05, 4.24, 3.94, 4.59]}}\n",
      "Grangemouth {'latitude': 56.0, 'longitude': -3.75, 'generationtime_ms': 0.2149343490600586, 'utc_offset_seconds': 3600, 'timezone': 'Europe/London', 'timezone_abbreviation': 'BST', 'elevation': 6.0, 'daily_units': {'time': 'iso8601', 'temperature_2m_max': '°C', 'precipitation_sum': 'mm', 'weather_code': 'wmo code', 'wind_speed_10m_max': 'm/s'}, 'daily': {'time': ['2024-05-29', '2024-05-30', '2024-05-31', '2024-06-01', '2024-06-02', '2024-06-03', '2024-06-04', '2024-06-05', '2024-06-06', '2024-06-07', '2024-06-08', '2024-06-09', '2024-06-10', '2024-06-11'], 'temperature_2m_max': [17.4, 17.9, 18.8, 19.3, 16.3, 15.2, 14.4, 12.4, 12.9, 12.8, 16.1, 18.5, 15.2, 19.8], 'precipitation_sum': [5.5, 3.7, 0.0, 0.0, 0.0, 0.0, 0.3, 1.7, 1.6, 0.0, 0.0, 0.0, 0.0, 0.0], 'weather_code': [80, 61, 3, 3, 3, 3, 3, 61, 61, 3, 3, 3, 3, 3], 'wind_speed_10m_max': [4.57, 5.48, 4.12, 4.51, 6.24, 7.83, 7.93, 4.62, 7.27, 6.64, 4.21, 4.02, 3.8, 3.16]}}\n",
      "Grantown-on-Spey {'latitude': 57.32, 'longitude': -3.6200001, 'generationtime_ms': 0.5660057067871094, 'utc_offset_seconds': 3600, 'timezone': 'Europe/London', 'timezone_abbreviation': 'BST', 'elevation': 217.0, 'daily_units': {'time': 'iso8601', 'temperature_2m_max': '°C', 'precipitation_sum': 'mm', 'weather_code': 'wmo code', 'wind_speed_10m_max': 'm/s'}, 'daily': {'time': ['2024-05-29', '2024-05-30', '2024-05-31', '2024-06-01', '2024-06-02', '2024-06-03', '2024-06-04', '2024-06-05', '2024-06-06', '2024-06-07', '2024-06-08', '2024-06-09', '2024-06-10', '2024-06-11'], 'temperature_2m_max': [14.7, 14.4, 15.3, 16.3, 15.0, 11.7, 11.5, 11.8, 10.1, 9.8, 13.9, 13.2, 15.1, 18.0], 'precipitation_sum': [0.7, 0.0, 0.1, 0.0, 0.3, 0.0, 4.8, 1.0, 2.1, 0.8, 0.0, 0.0, 0.0, 0.0], 'weather_code': [80, 3, 3, 3, 61, 61, 61, 61, 61, 51, 3, 3, 2, 3], 'wind_speed_10m_max': [3.83, 5.73, 4.08, 3.45, 6.75, 8.1, 8.6, 4.49, 7.47, 6.52, 5.08, 4.1, 3.75, 3.83]}}\n",
      "Greenock {'latitude': 56.0, 'longitude': -4.6875, 'generationtime_ms': 0.20599365234375, 'utc_offset_seconds': 3600, 'timezone': 'Europe/London', 'timezone_abbreviation': 'BST', 'elevation': 12.0, 'daily_units': {'time': 'iso8601', 'temperature_2m_max': '°C', 'precipitation_sum': 'mm', 'weather_code': 'wmo code', 'wind_speed_10m_max': 'm/s'}, 'daily': {'time': ['2024-05-29', '2024-05-30', '2024-05-31', '2024-06-01', '2024-06-02', '2024-06-03', '2024-06-04', '2024-06-05', '2024-06-06', '2024-06-07', '2024-06-08', '2024-06-09', '2024-06-10', '2024-06-11'], 'temperature_2m_max': [16.0, 16.8, 16.6, 16.7, 14.6, 14.0, 13.4, 12.0, 14.9, 13.0, 14.6, 16.3, 16.1, 16.7], 'precipitation_sum': [0.2, 0.0, 0.0, 0.0, 0.0, 0.0, 0.0, 1.4, 1.6, 0.0, 0.0, 0.0, 0.0, 0.0], 'weather_code': [3, 3, 3, 3, 3, 3, 3, 61, 61, 3, 3, 1, 1, 3], 'wind_speed_10m_max': [8.22, 7.26, 5.39, 7.3, 6.3, 8.55, 9.38, 4.92, 8.19, 6.76, 6.22, 5.0, 2.37, 2.62]}}\n",
      "Hamilton {'latitude': 55.75, 'longitude': -4.0625, 'generationtime_ms': 0.19693374633789062, 'utc_offset_seconds': 3600, 'timezone': 'Europe/London', 'timezone_abbreviation': 'BST', 'elevation': 41.0, 'daily_units': {'time': 'iso8601', 'temperature_2m_max': '°C', 'precipitation_sum': 'mm', 'weather_code': 'wmo code', 'wind_speed_10m_max': 'm/s'}, 'daily': {'time': ['2024-05-29', '2024-05-30', '2024-05-31', '2024-06-01', '2024-06-02', '2024-06-03', '2024-06-04', '2024-06-05', '2024-06-06', '2024-06-07', '2024-06-08', '2024-06-09', '2024-06-10', '2024-06-11'], 'temperature_2m_max': [17.0, 17.3, 18.3, 18.3, 15.9, 15.0, 14.0, 11.3, 14.2, 13.9, 16.8, 19.5, 18.1, 21.2], 'precipitation_sum': [2.3, 4.0, 0.0, 0.0, 0.0, 0.0, 0.6, 3.2, 1.9, 0.0, 0.0, 0.0, 0.0, 0.0], 'weather_code': [80, 61, 3, 3, 3, 3, 80, 61, 61, 3, 3, 3, 3, 3], 'wind_speed_10m_max': [6.24, 5.05, 4.3, 5.0, 6.9, 6.95, 6.69, 4.17, 5.32, 5.17, 4.13, 2.86, 3.62, 3.26]}}\n",
      "Hawick {'latitude': 55.42, 'longitude': -2.7800002, 'generationtime_ms': 0.31495094299316406, 'utc_offset_seconds': 3600, 'timezone': 'Europe/London', 'timezone_abbreviation': 'BST', 'elevation': 102.0, 'daily_units': {'time': 'iso8601', 'temperature_2m_max': '°C', 'precipitation_sum': 'mm', 'weather_code': 'wmo code', 'wind_speed_10m_max': 'm/s'}, 'daily': {'time': ['2024-05-29', '2024-05-30', '2024-05-31', '2024-06-01', '2024-06-02', '2024-06-03', '2024-06-04', '2024-06-05', '2024-06-06', '2024-06-07', '2024-06-08', '2024-06-09', '2024-06-10', '2024-06-11'], 'temperature_2m_max': [17.7, 17.2, 17.6, 18.7, 16.7, 15.3, 13.3, 10.8, 13.6, 12.5, 15.5, 17.4, 14.1, 18.7], 'precipitation_sum': [0.3, 8.3, 0.0, 0.0, 0.0, 0.0, 0.0, 1.8, 0.3, 0.0, 0.0, 0.0, 0.0, 0.3], 'weather_code': [80, 80, 3, 3, 3, 3, 3, 61, 51, 45, 45, 45, 3, 51], 'wind_speed_10m_max': [5.23, 6.45, 4.65, 3.77, 6.31, 6.96, 7.52, 5.02, 8.13, 7.66, 4.11, 3.01, 3.88, 3.08]}}\n",
      "Helensburgh {'latitude': 56.0, 'longitude': -4.6875, 'generationtime_ms': 0.3139972686767578, 'utc_offset_seconds': 3600, 'timezone': 'Europe/London', 'timezone_abbreviation': 'BST', 'elevation': 7.0, 'daily_units': {'time': 'iso8601', 'temperature_2m_max': '°C', 'precipitation_sum': 'mm', 'weather_code': 'wmo code', 'wind_speed_10m_max': 'm/s'}, 'daily': {'time': ['2024-05-29', '2024-05-30', '2024-05-31', '2024-06-01', '2024-06-02', '2024-06-03', '2024-06-04', '2024-06-05', '2024-06-06', '2024-06-07', '2024-06-08', '2024-06-09', '2024-06-10', '2024-06-11'], 'temperature_2m_max': [16.0, 16.9, 16.6, 16.8, 14.7, 14.0, 13.4, 12.0, 14.9, 13.5, 16.2, 19.3, 18.6, 19.8], 'precipitation_sum': [0.2, 0.0, 0.0, 0.0, 0.0, 0.0, 0.0, 1.4, 1.3, 0.0, 0.0, 0.0, 0.0, 0.0], 'weather_code': [3, 3, 3, 3, 3, 3, 3, 61, 61, 3, 3, 1, 3, 3], 'wind_speed_10m_max': [8.22, 7.26, 5.39, 7.3, 6.3, 8.55, 9.38, 4.92, 5.82, 5.95, 5.22, 3.0, 2.38, 3.13]}}\n",
      "Inverness {'latitude': 57.5, 'longitude': -4.25, 'generationtime_ms': 0.1939535140991211, 'utc_offset_seconds': 3600, 'timezone': 'Europe/London', 'timezone_abbreviation': 'BST', 'elevation': 15.0, 'daily_units': {'time': 'iso8601', 'temperature_2m_max': '°C', 'precipitation_sum': 'mm', 'weather_code': 'wmo code', 'wind_speed_10m_max': 'm/s'}, 'daily': {'time': ['2024-05-29', '2024-05-30', '2024-05-31', '2024-06-01', '2024-06-02', '2024-06-03', '2024-06-04', '2024-06-05', '2024-06-06', '2024-06-07', '2024-06-08', '2024-06-09', '2024-06-10', '2024-06-11'], 'temperature_2m_max': [15.3, 15.5, 16.4, 17.2, 16.2, 13.5, 13.0, 13.5, 11.8, 12.7, 15.5, 15.5, 14.6, 15.3], 'precipitation_sum': [9.0, 0.6, 0.0, 0.0, 0.0, 0.2, 3.1, 0.0, 1.3, 0.2, 0.0, 0.0, 0.0, 0.0], 'weather_code': [95, 61, 3, 3, 3, 61, 80, 3, 51, 51, 3, 3, 3, 3], 'wind_speed_10m_max': [2.7, 5.06, 4.74, 4.9, 7.55, 9.26, 9.32, 5.22, 5.72, 6.31, 5.41, 3.19, 4.09, 3.93]}}\n",
      "Irvine {'latitude': 55.625, 'longitude': -4.6875, 'generationtime_ms': 0.14603137969970703, 'utc_offset_seconds': 3600, 'timezone': 'Europe/London', 'timezone_abbreviation': 'BST', 'elevation': 15.0, 'daily_units': {'time': 'iso8601', 'temperature_2m_max': '°C', 'precipitation_sum': 'mm', 'weather_code': 'wmo code', 'wind_speed_10m_max': 'm/s'}, 'daily': {'time': ['2024-05-29', '2024-05-30', '2024-05-31', '2024-06-01', '2024-06-02', '2024-06-03', '2024-06-04', '2024-06-05', '2024-06-06', '2024-06-07', '2024-06-08', '2024-06-09', '2024-06-10', '2024-06-11'], 'temperature_2m_max': [15.5, 16.6, 16.3, 16.1, 15.1, 14.6, 13.5, 11.1, 14.0, 12.4, 13.5, 15.6, 15.6, 15.6], 'precipitation_sum': [1.0, 1.0, 0.0, 0.0, 0.0, 0.0, 0.6, 3.1, 2.0, 0.0, 0.0, 0.0, 0.0, 0.0], 'weather_code': [80, 80, 3, 3, 3, 3, 80, 61, 61, 3, 3, 2, 0, 3], 'wind_speed_10m_max': [8.41, 7.12, 6.8, 6.66, 4.42, 7.94, 8.6, 4.39, 8.89, 9.27, 7.22, 2.31, 3.69, 2.92]}}\n",
      "Johnstone {'latitude': 55.8125, 'longitude': -4.5, 'generationtime_ms': 0.1659393310546875, 'utc_offset_seconds': 3600, 'timezone': 'Europe/London', 'timezone_abbreviation': 'BST', 'elevation': 21.0, 'daily_units': {'time': 'iso8601', 'temperature_2m_max': '°C', 'precipitation_sum': 'mm', 'weather_code': 'wmo code', 'wind_speed_10m_max': 'm/s'}, 'daily': {'time': ['2024-05-29', '2024-05-30', '2024-05-31', '2024-06-01', '2024-06-02', '2024-06-03', '2024-06-04', '2024-06-05', '2024-06-06', '2024-06-07', '2024-06-08', '2024-06-09', '2024-06-10', '2024-06-11'], 'temperature_2m_max': [16.4, 16.9, 17.6, 17.8, 15.5, 14.8, 13.5, 12.0, 14.7, 13.2, 13.9, 15.5, 18.3, 18.4], 'precipitation_sum': [0.9, 0.3, 0.0, 0.0, 0.0, 0.0, 0.6, 1.4, 1.3, 0.0, 0.0, 0.0, 0.0, 0.0], 'weather_code': [80, 61, 3, 3, 3, 3, 3, 61, 61, 3, 3, 2, 0, 3], 'wind_speed_10m_max': [6.96, 5.86, 4.96, 5.73, 6.54, 8.91, 9.42, 4.95, 7.5, 7.74, 6.69, 5.46, 2.2, 2.69]}}\n",
      "Kilmarnock {'latitude': 55.625, 'longitude': -4.5, 'generationtime_ms': 0.19502639770507812, 'utc_offset_seconds': 3600, 'timezone': 'Europe/London', 'timezone_abbreviation': 'BST', 'elevation': 37.0, 'daily_units': {'time': 'iso8601', 'temperature_2m_max': '°C', 'precipitation_sum': 'mm', 'weather_code': 'wmo code', 'wind_speed_10m_max': 'm/s'}, 'daily': {'time': ['2024-05-29', '2024-05-30', '2024-05-31', '2024-06-01', '2024-06-02', '2024-06-03', '2024-06-04', '2024-06-05', '2024-06-06', '2024-06-07', '2024-06-08', '2024-06-09', '2024-06-10', '2024-06-11'], 'temperature_2m_max': [15.0, 15.9, 16.7, 16.2, 14.9, 14.4, 13.3, 11.0, 14.6, 13.0, 13.7, 15.2, 18.0, 18.3], 'precipitation_sum': [2.1, 1.6, 0.0, 0.0, 0.0, 0.0, 0.6, 3.1, 1.7, 0.0, 0.0, 0.0, 0.0, 0.0], 'weather_code': [80, 80, 3, 45, 3, 3, 80, 61, 61, 3, 3, 2, 2, 3], 'wind_speed_10m_max': [6.89, 5.74, 5.25, 5.55, 5.59, 7.94, 8.6, 4.39, 6.65, 6.81, 6.21, 5.0, 3.04, 3.06]}}\n",
      "Kilwinning {'latitude': 55.625, 'longitude': -4.6875, 'generationtime_ms': 0.2570152282714844, 'utc_offset_seconds': 3600, 'timezone': 'Europe/London', 'timezone_abbreviation': 'BST', 'elevation': 19.0, 'daily_units': {'time': 'iso8601', 'temperature_2m_max': '°C', 'precipitation_sum': 'mm', 'weather_code': 'wmo code', 'wind_speed_10m_max': 'm/s'}, 'daily': {'time': ['2024-05-29', '2024-05-30', '2024-05-31', '2024-06-01', '2024-06-02', '2024-06-03', '2024-06-04', '2024-06-05', '2024-06-06', '2024-06-07', '2024-06-08', '2024-06-09', '2024-06-10', '2024-06-11'], 'temperature_2m_max': [15.5, 16.6, 16.3, 16.1, 15.1, 14.5, 13.5, 11.1, 14.7, 13.2, 13.9, 15.5, 18.3, 18.4], 'precipitation_sum': [1.0, 1.0, 0.0, 0.0, 0.0, 0.0, 0.3, 2.7, 1.5, 0.0, 0.0, 0.0, 0.0, 0.0], 'weather_code': [80, 80, 3, 3, 3, 3, 61, 61, 61, 3, 3, 2, 0, 3], 'wind_speed_10m_max': [8.41, 7.12, 6.8, 6.66, 4.42, 8.32, 9.05, 5.04, 7.5, 7.74, 6.69, 5.46, 2.2, 2.69]}}\n",
      "Kirkcaldy {'latitude': 56.12, 'longitude': -3.16, 'generationtime_ms': 0.24998188018798828, 'utc_offset_seconds': 3600, 'timezone': 'Europe/London', 'timezone_abbreviation': 'BST', 'elevation': 18.0, 'daily_units': {'time': 'iso8601', 'temperature_2m_max': '°C', 'precipitation_sum': 'mm', 'weather_code': 'wmo code', 'wind_speed_10m_max': 'm/s'}, 'daily': {'time': ['2024-05-29', '2024-05-30', '2024-05-31', '2024-06-01', '2024-06-02', '2024-06-03', '2024-06-04', '2024-06-05', '2024-06-06', '2024-06-07', '2024-06-08', '2024-06-09', '2024-06-10', '2024-06-11'], 'temperature_2m_max': [17.5, 18.4, 18.1, 19.4, 17.0, 15.0, 14.6, 12.7, 12.3, 12.8, 15.5, 16.4, 12.9, 14.8], 'precipitation_sum': [3.7, 1.2, 0.0, 0.0, 0.0, 0.0, 0.3, 1.1, 1.3, 0.0, 0.0, 0.0, 0.0, 0.0], 'weather_code': [80, 61, 3, 3, 3, 3, 3, 61, 61, 3, 3, 3, 3, 3], 'wind_speed_10m_max': [4.3, 6.25, 3.13, 4.54, 7.1, 8.63, 8.99, 5.53, 8.56, 8.7, 4.41, 5.22, 5.06, 5.02]}}\n",
      "Kirkintilloch {'latitude': 55.9375, 'longitude': -4.125, 'generationtime_ms': 0.21600723266601562, 'utc_offset_seconds': 3600, 'timezone': 'Europe/London', 'timezone_abbreviation': 'BST', 'elevation': 52.0, 'daily_units': {'time': 'iso8601', 'temperature_2m_max': '°C', 'precipitation_sum': 'mm', 'weather_code': 'wmo code', 'wind_speed_10m_max': 'm/s'}, 'daily': {'time': ['2024-05-29', '2024-05-30', '2024-05-31', '2024-06-01', '2024-06-02', '2024-06-03', '2024-06-04', '2024-06-05', '2024-06-06', '2024-06-07', '2024-06-08', '2024-06-09', '2024-06-10', '2024-06-11'], 'temperature_2m_max': [16.5, 16.8, 18.2, 18.1, 15.3, 15.1, 14.2, 11.9, 14.2, 13.8, 16.8, 19.5, 18.1, 21.2], 'precipitation_sum': [2.1, 1.6, 0.0, 0.0, 0.0, 0.0, 0.3, 2.3, 1.9, 0.0, 0.0, 0.0, 0.0, 0.0], 'weather_code': [80, 61, 3, 3, 3, 3, 3, 61, 61, 3, 3, 3, 3, 3], 'wind_speed_10m_max': [5.79, 5.03, 3.62, 5.04, 6.36, 7.98, 6.5, 4.05, 5.32, 5.17, 4.13, 2.86, 3.62, 3.26]}}\n",
      "Kirkwall {'latitude': 58.9375, 'longitude': -2.9375, 'generationtime_ms': 0.13196468353271484, 'utc_offset_seconds': 3600, 'timezone': 'Europe/London', 'timezone_abbreviation': 'BST', 'elevation': 6.0, 'daily_units': {'time': 'iso8601', 'temperature_2m_max': '°C', 'precipitation_sum': 'mm', 'weather_code': 'wmo code', 'wind_speed_10m_max': 'm/s'}, 'daily': {'time': ['2024-05-29', '2024-05-30', '2024-05-31', '2024-06-01', '2024-06-02', '2024-06-03', '2024-06-04', '2024-06-05', '2024-06-06', '2024-06-07', '2024-06-08', '2024-06-09', '2024-06-10', '2024-06-11'], 'temperature_2m_max': [12.9, 13.3, 13.5, 13.7, 14.1, 12.7, 10.4, 11.3, 9.2, 9.5, 10.6, 10.5, 10.0, 10.4], 'precipitation_sum': [4.1, 0.0, 0.1, 0.0, 1.6, 6.2, 3.6, 0.0, 1.0, 1.1, 0.3, 0.0, 0.0, 0.0], 'weather_code': [80, 3, 61, 3, 61, 61, 61, 3, 85, 51, 51, 3, 3, 3], 'wind_speed_10m_max': [5.78, 7.72, 6.5, 7.03, 9.83, 11.68, 9.49, 6.55, 15.09, 12.89, 10.84, 8.81, 6.45, 3.81]}}\n",
      "Kyle of Lochalsh {'latitude': 57.3125, 'longitude': -5.6875, 'generationtime_ms': 0.13005733489990234, 'utc_offset_seconds': 3600, 'timezone': 'Europe/London', 'timezone_abbreviation': 'BST', 'elevation': 13.0, 'daily_units': {'time': 'iso8601', 'temperature_2m_max': '°C', 'precipitation_sum': 'mm', 'weather_code': 'wmo code', 'wind_speed_10m_max': 'm/s'}, 'daily': {'time': ['2024-05-29', '2024-05-30', '2024-05-31', '2024-06-01', '2024-06-02', '2024-06-03', '2024-06-04', '2024-06-05', '2024-06-06', '2024-06-07', '2024-06-08', '2024-06-09', '2024-06-10', '2024-06-11'], 'temperature_2m_max': [14.5, 14.7, 14.5, 15.0, 13.9, 12.1, 12.2, 11.7, 11.6, 10.9, 11.7, 14.1, 14.2, 14.3], 'precipitation_sum': [1.5, 1.2, 0.0, 0.0, 1.0, 1.2, 7.4, 0.0, 1.3, 0.2, 0.0, 0.0, 0.0, 0.0], 'weather_code': [80, 80, 3, 3, 61, 80, 80, 3, 51, 51, 3, 3, 0, 3], 'wind_speed_10m_max': [5.25, 5.85, 4.02, 4.41, 5.73, 9.46, 9.72, 5.14, 8.66, 7.5, 4.51, 3.21, 4.06, 3.0]}}\n",
      "Largs {'latitude': 55.875, 'longitude': -4.875, 'generationtime_ms': 0.19299983978271484, 'utc_offset_seconds': 3600, 'timezone': 'Europe/London', 'timezone_abbreviation': 'BST', 'elevation': 6.0, 'daily_units': {'time': 'iso8601', 'temperature_2m_max': '°C', 'precipitation_sum': 'mm', 'weather_code': 'wmo code', 'wind_speed_10m_max': 'm/s'}, 'daily': {'time': ['2024-05-29', '2024-05-30', '2024-05-31', '2024-06-01', '2024-06-02', '2024-06-03', '2024-06-04', '2024-06-05', '2024-06-06', '2024-06-07', '2024-06-08', '2024-06-09', '2024-06-10', '2024-06-11'], 'temperature_2m_max': [15.8, 16.5, 16.3, 16.3, 14.6, 14.5, 13.5, 11.1, 14.0, 12.7, 13.2, 14.7, 16.7, 16.9], 'precipitation_sum': [0.0, 0.2, 0.0, 0.0, 0.0, 0.0, 0.3, 2.7, 1.8, 0.0, 0.0, 0.0, 0.0, 0.0], 'weather_code': [3, 3, 3, 3, 3, 3, 61, 61, 61, 3, 3, 2, 0, 3], 'wind_speed_10m_max': [7.26, 7.29, 5.78, 6.31, 6.38, 8.32, 9.05, 5.04, 8.77, 9.19, 7.48, 6.77, 2.2, 2.72]}}\n",
      "Larkhall {'latitude': 55.75, 'longitude': -4.0, 'generationtime_ms': 0.21195411682128906, 'utc_offset_seconds': 3600, 'timezone': 'Europe/London', 'timezone_abbreviation': 'BST', 'elevation': 108.0, 'daily_units': {'time': 'iso8601', 'temperature_2m_max': '°C', 'precipitation_sum': 'mm', 'weather_code': 'wmo code', 'wind_speed_10m_max': 'm/s'}, 'daily': {'time': ['2024-05-29', '2024-05-30', '2024-05-31', '2024-06-01', '2024-06-02', '2024-06-03', '2024-06-04', '2024-06-05', '2024-06-06', '2024-06-07', '2024-06-08', '2024-06-09', '2024-06-10', '2024-06-11'], 'temperature_2m_max': [16.4, 16.6, 17.8, 17.8, 15.3, 14.5, 13.5, 10.8, 13.0, 12.8, 14.9, 16.6, 17.6, 19.4], 'precipitation_sum': [2.3, 4.5, 0.0, 0.0, 0.0, 0.0, 0.6, 3.2, 1.6, 0.0, 0.0, 0.0, 0.0, 0.0], 'weather_code': [80, 61, 3, 3, 3, 3, 80, 61, 61, 3, 45, 2, 3, 3], 'wind_speed_10m_max': [6.02, 5.06, 4.12, 4.78, 6.41, 6.94, 6.69, 4.17, 6.94, 6.23, 5.11, 4.22, 2.86, 3.52]}}\n",
      "Lerwick {'latitude': 60.149666, 'longitude': -1.148407, 'generationtime_ms': 0.6139278411865234, 'utc_offset_seconds': 3600, 'timezone': 'Europe/London', 'timezone_abbreviation': 'BST', 'elevation': 10.0, 'daily_units': {'time': 'iso8601', 'temperature_2m_max': '°C', 'precipitation_sum': 'mm', 'weather_code': 'wmo code', 'wind_speed_10m_max': 'm/s'}, 'daily': {'time': ['2024-05-29', '2024-05-30', '2024-05-31', '2024-06-01', '2024-06-02', '2024-06-03', '2024-06-04', '2024-06-05', '2024-06-06', '2024-06-07', '2024-06-08', '2024-06-09', '2024-06-10', '2024-06-11'], 'temperature_2m_max': [13.4, 13.6, 13.8, 13.8, 12.7, 12.5, 9.0, 10.2, 10.0, 10.9, 10.4, 11.0, 10.7, 12.6], 'precipitation_sum': [0.0, 0.0, 0.0, 0.0, 3.6, 2.7, 6.9, 0.3, 0.6, 0.9, 0.0, 0.0, 0.0, 0.0], 'weather_code': [3, 3, 3, 3, 61, 63, 80, 3, 51, 51, 3, 45, 3, 3], 'wind_speed_10m_max': [4.4, 6.5, 4.5, 5.87, 8.42, 8.1, 7.39, 7.74, 10.48, 8.86, 9.05, 8.08, 6.23, 3.98]}}\n",
      "Livingston {'latitude': 55.875, 'longitude': -3.5, 'generationtime_ms': 0.2130270004272461, 'utc_offset_seconds': 3600, 'timezone': 'Europe/London', 'timezone_abbreviation': 'BST', 'elevation': 117.0, 'daily_units': {'time': 'iso8601', 'temperature_2m_max': '°C', 'precipitation_sum': 'mm', 'weather_code': 'wmo code', 'wind_speed_10m_max': 'm/s'}, 'daily': {'time': ['2024-05-29', '2024-05-30', '2024-05-31', '2024-06-01', '2024-06-02', '2024-06-03', '2024-06-04', '2024-06-05', '2024-06-06', '2024-06-07', '2024-06-08', '2024-06-09', '2024-06-10', '2024-06-11'], 'temperature_2m_max': [16.4, 16.9, 17.6, 18.0, 15.5, 14.3, 13.2, 10.7, 12.6, 12.0, 15.7, 18.1, 14.3, 18.8], 'precipitation_sum': [9.5, 8.9, 0.0, 0.0, 0.0, 0.0, 0.6, 3.9, 1.8, 0.0, 0.0, 0.0, 0.0, 0.0], 'weather_code': [95, 80, 3, 3, 3, 3, 80, 61, 61, 3, 3, 3, 3, 3], 'wind_speed_10m_max': [4.91, 5.6, 3.41, 4.4, 6.96, 8.61, 8.68, 5.01, 7.32, 6.12, 3.35, 2.77, 4.33, 5.17]}}\n",
      "Lochboisdale {'latitude': 57.125, 'longitude': -7.3125, 'generationtime_ms': 0.2269744873046875, 'utc_offset_seconds': 3600, 'timezone': 'Europe/London', 'timezone_abbreviation': 'BST', 'elevation': 13.0, 'daily_units': {'time': 'iso8601', 'temperature_2m_max': '°C', 'precipitation_sum': 'mm', 'weather_code': 'wmo code', 'wind_speed_10m_max': 'm/s'}, 'daily': {'time': ['2024-05-29', '2024-05-30', '2024-05-31', '2024-06-01', '2024-06-02', '2024-06-03', '2024-06-04', '2024-06-05', '2024-06-06', '2024-06-07', '2024-06-08', '2024-06-09', '2024-06-10', '2024-06-11'], 'temperature_2m_max': [13.5, 13.3, 13.2, 13.1, 13.5, 12.9, 11.6, 11.6, 11.6, 10.4, 11.4, 11.9, 11.8, 13.8], 'precipitation_sum': [0.6, 0.0, 0.0, 0.0, 0.6, 0.3, 1.8, 0.0, 0.3, 0.0, 0.0, 0.0, 0.0, 0.0], 'weather_code': [80, 3, 3, 3, 61, 80, 80, 3, 51, 3, 3, 3, 0, 3], 'wind_speed_10m_max': [6.54, 8.32, 5.35, 5.56, 8.76, 10.94, 10.62, 5.23, 13.6, 13.69, 5.98, 5.65, 8.15, 3.55]}}\n",
      "Lochgilphead {'latitude': 56.0625, 'longitude': -5.4375, 'generationtime_ms': 0.22399425506591797, 'utc_offset_seconds': 3600, 'timezone': 'Europe/London', 'timezone_abbreviation': 'BST', 'elevation': 7.0, 'daily_units': {'time': 'iso8601', 'temperature_2m_max': '°C', 'precipitation_sum': 'mm', 'weather_code': 'wmo code', 'wind_speed_10m_max': 'm/s'}, 'daily': {'time': ['2024-05-29', '2024-05-30', '2024-05-31', '2024-06-01', '2024-06-02', '2024-06-03', '2024-06-04', '2024-06-05', '2024-06-06', '2024-06-07', '2024-06-08', '2024-06-09', '2024-06-10', '2024-06-11'], 'temperature_2m_max': [15.0, 16.6, 15.3, 15.4, 14.5, 14.0, 13.1, 12.0, 13.7, 11.9, 12.4, 13.7, 15.1, 17.2], 'precipitation_sum': [0.3, 0.0, 0.0, 0.0, 0.0, 0.0, 0.6, 2.3, 1.7, 0.2, 0.0, 0.0, 0.0, 0.0], 'weather_code': [45, 3, 3, 3, 3, 3, 3, 61, 61, 51, 3, 3, 3, 3], 'wind_speed_10m_max': [7.08, 7.26, 5.47, 5.86, 5.41, 7.47, 8.2, 3.91, 8.11, 7.53, 6.82, 5.4, 2.88, 2.16]}}\n",
      "Lochmaddy {'latitude': 57.625, 'longitude': -7.1875, 'generationtime_ms': 0.21600723266601562, 'utc_offset_seconds': 3600, 'timezone': 'Europe/London', 'timezone_abbreviation': 'BST', 'elevation': 9.0, 'daily_units': {'time': 'iso8601', 'temperature_2m_max': '°C', 'precipitation_sum': 'mm', 'weather_code': 'wmo code', 'wind_speed_10m_max': 'm/s'}, 'daily': {'time': ['2024-05-29', '2024-05-30', '2024-05-31', '2024-06-01', '2024-06-02', '2024-06-03', '2024-06-04', '2024-06-05', '2024-06-06', '2024-06-07', '2024-06-08', '2024-06-09', '2024-06-10', '2024-06-11'], 'temperature_2m_max': [13.5, 13.4, 13.4, 13.4, 13.8, 12.9, 11.7, 11.5, 11.1, 10.1, 11.4, 11.8, 11.1, 13.3], 'precipitation_sum': [0.0, 0.0, 0.0, 0.0, 1.8, 1.5, 1.8, 0.0, 0.7, 0.2, 0.0, 0.0, 0.0, 0.0], 'weather_code': [3, 3, 3, 3, 61, 80, 80, 3, 51, 51, 3, 3, 1, 3], 'wind_speed_10m_max': [5.59, 6.67, 5.16, 5.43, 7.61, 9.67, 8.22, 4.79, 14.99, 13.95, 6.28, 7.07, 7.56, 7.21]}}\n",
      "Mallaig {'latitude': 56.9375, 'longitude': -5.8125, 'generationtime_ms': 0.17404556274414062, 'utc_offset_seconds': 3600, 'timezone': 'Europe/London', 'timezone_abbreviation': 'BST', 'elevation': 6.0, 'daily_units': {'time': 'iso8601', 'temperature_2m_max': '°C', 'precipitation_sum': 'mm', 'weather_code': 'wmo code', 'wind_speed_10m_max': 'm/s'}, 'daily': {'time': ['2024-05-29', '2024-05-30', '2024-05-31', '2024-06-01', '2024-06-02', '2024-06-03', '2024-06-04', '2024-06-05', '2024-06-06', '2024-06-07', '2024-06-08', '2024-06-09', '2024-06-10', '2024-06-11'], 'temperature_2m_max': [13.3, 14.5, 13.1, 13.9, 13.4, 12.2, 12.3, 11.6, 11.7, 10.9, 11.7, 14.1, 14.2, 14.3], 'precipitation_sum': [4.1, 2.8, 0.0, 0.0, 2.2, 2.1, 5.0, 0.0, 1.3, 0.2, 0.0, 0.0, 0.0, 0.0], 'weather_code': [80, 80, 3, 3, 3, 80, 80, 3, 51, 51, 3, 3, 0, 3], 'wind_speed_10m_max': [4.83, 7.22, 3.94, 4.5, 5.6, 10.0, 10.33, 4.96, 8.66, 7.5, 4.51, 3.21, 4.06, 3.0]}}\n",
      "Motherwell {'latitude': 55.8125, 'longitude': -4.0, 'generationtime_ms': 0.2040863037109375, 'utc_offset_seconds': 3600, 'timezone': 'Europe/London', 'timezone_abbreviation': 'BST', 'elevation': 86.0, 'daily_units': {'time': 'iso8601', 'temperature_2m_max': '°C', 'precipitation_sum': 'mm', 'weather_code': 'wmo code', 'wind_speed_10m_max': 'm/s'}, 'daily': {'time': ['2024-05-29', '2024-05-30', '2024-05-31', '2024-06-01', '2024-06-02', '2024-06-03', '2024-06-04', '2024-06-05', '2024-06-06', '2024-06-07', '2024-06-08', '2024-06-09', '2024-06-10', '2024-06-11'], 'temperature_2m_max': [16.6, 16.9, 18.0, 18.2, 15.4, 14.7, 13.7, 11.0, 13.7, 13.8, 16.6, 18.7, 18.3, 21.2], 'precipitation_sum': [2.6, 3.8, 0.0, 0.0, 0.0, 0.0, 0.6, 3.2, 1.9, 0.0, 0.0, 0.0, 0.0, 0.0], 'weather_code': [80, 61, 3, 3, 3, 3, 80, 61, 61, 3, 45, 3, 3, 3], 'wind_speed_10m_max': [5.28, 4.48, 3.71, 4.41, 5.46, 6.94, 6.69, 4.17, 5.73, 4.74, 4.47, 3.69, 2.83, 2.79]}}\n",
      "Musselburgh {'latitude': 55.94, 'longitude': -3.06, 'generationtime_ms': 0.24402141571044922, 'utc_offset_seconds': 3600, 'timezone': 'Europe/London', 'timezone_abbreviation': 'BST', 'elevation': 5.0, 'daily_units': {'time': 'iso8601', 'temperature_2m_max': '°C', 'precipitation_sum': 'mm', 'weather_code': 'wmo code', 'wind_speed_10m_max': 'm/s'}, 'daily': {'time': ['2024-05-29', '2024-05-30', '2024-05-31', '2024-06-01', '2024-06-02', '2024-06-03', '2024-06-04', '2024-06-05', '2024-06-06', '2024-06-07', '2024-06-08', '2024-06-09', '2024-06-10', '2024-06-11'], 'temperature_2m_max': [17.9, 18.1, 18.7, 19.3, 17.2, 15.5, 14.5, 12.3, 12.7, 12.7, 16.2, 17.5, 15.9, 17.8], 'precipitation_sum': [2.9, 1.7, 0.0, 0.0, 0.0, 0.0, 0.0, 1.5, 1.2, 0.0, 0.0, 0.0, 0.0, 0.0], 'weather_code': [80, 61, 3, 45, 3, 3, 3, 61, 61, 3, 3, 3, 3, 3], 'wind_speed_10m_max': [4.31, 4.47, 3.18, 4.02, 6.71, 9.13, 9.62, 6.28, 8.32, 6.81, 3.36, 3.19, 3.64, 4.1]}}\n",
      "Nairn {'latitude': 57.5625, 'longitude': -3.875, 'generationtime_ms': 0.20802021026611328, 'utc_offset_seconds': 3600, 'timezone': 'Europe/London', 'timezone_abbreviation': 'BST', 'elevation': 15.0, 'daily_units': {'time': 'iso8601', 'temperature_2m_max': '°C', 'precipitation_sum': 'mm', 'weather_code': 'wmo code', 'wind_speed_10m_max': 'm/s'}, 'daily': {'time': ['2024-05-29', '2024-05-30', '2024-05-31', '2024-06-01', '2024-06-02', '2024-06-03', '2024-06-04', '2024-06-05', '2024-06-06', '2024-06-07', '2024-06-08', '2024-06-09', '2024-06-10', '2024-06-11'], 'temperature_2m_max': [14.9, 15.1, 15.8, 17.4, 16.6, 13.8, 13.0, 13.3, 11.0, 10.9, 13.7, 13.8, 12.8, 13.6], 'precipitation_sum': [7.7, 0.5, 0.0, 0.0, 0.4, 0.9, 4.7, 0.3, 2.2, 0.8, 0.0, 0.0, 0.0, 0.0], 'weather_code': [80, 61, 3, 3, 3, 80, 80, 3, 51, 51, 3, 3, 2, 3], 'wind_speed_10m_max': [3.61, 5.25, 4.38, 4.43, 8.8, 9.52, 9.45, 5.26, 8.48, 8.41, 5.74, 5.85, 5.44, 5.28]}}\n",
      "Newton Mearns {'latitude': 55.75, 'longitude': -4.3125, 'generationtime_ms': 0.20194053649902344, 'utc_offset_seconds': 3600, 'timezone': 'Europe/London', 'timezone_abbreviation': 'BST', 'elevation': 135.0, 'daily_units': {'time': 'iso8601', 'temperature_2m_max': '°C', 'precipitation_sum': 'mm', 'weather_code': 'wmo code', 'wind_speed_10m_max': 'm/s'}, 'daily': {'time': ['2024-05-29', '2024-05-30', '2024-05-31', '2024-06-01', '2024-06-02', '2024-06-03', '2024-06-04', '2024-06-05', '2024-06-06', '2024-06-07', '2024-06-08', '2024-06-09', '2024-06-10', '2024-06-11'], 'temperature_2m_max': [15.4, 15.8, 17.0, 16.9, 14.5, 13.6, 12.6, 10.2, 13.6, 13.7, 16.1, 17.7, 19.6, 20.3], 'precipitation_sum': [2.5, 1.8, 0.0, 0.0, 0.0, 0.0, 0.6, 2.7, 1.8, 0.0, 0.0, 0.0, 0.0, 0.0], 'weather_code': [80, 61, 3, 3, 3, 3, 3, 61, 61, 3, 45, 1, 3, 3], 'wind_speed_10m_max': [6.37, 5.08, 4.66, 5.44, 6.93, 7.74, 8.3, 5.04, 5.33, 5.66, 4.59, 4.31, 2.16, 3.54]}}\n",
      "Oban {'latitude': 56.4375, 'longitude': -5.4375, 'generationtime_ms': 5.280017852783203, 'utc_offset_seconds': 3600, 'timezone': 'Europe/London', 'timezone_abbreviation': 'BST', 'elevation': 8.0, 'daily_units': {'time': 'iso8601', 'temperature_2m_max': '°C', 'precipitation_sum': 'mm', 'weather_code': 'wmo code', 'wind_speed_10m_max': 'm/s'}, 'daily': {'time': ['2024-05-29', '2024-05-30', '2024-05-31', '2024-06-01', '2024-06-02', '2024-06-03', '2024-06-04', '2024-06-05', '2024-06-06', '2024-06-07', '2024-06-08', '2024-06-09', '2024-06-10', '2024-06-11'], 'temperature_2m_max': [14.8, 15.9, 14.7, 15.5, 13.5, 13.8, 12.6, 11.9, 13.3, 11.8, 13.3, 15.0, 14.7, 16.0], 'precipitation_sum': [0.4, 0.0, 0.0, 0.0, 0.6, 0.3, 0.9, 1.7, 1.4, 0.2, 0.0, 0.0, 0.0, 0.0], 'weather_code': [45, 3, 3, 3, 61, 3, 80, 61, 61, 51, 3, 3, 3, 3], 'wind_speed_10m_max': [6.52, 7.29, 4.96, 5.01, 4.46, 8.04, 8.13, 4.8, 7.74, 7.34, 6.2, 3.79, 2.92, 2.15]}}\n",
      "Paisley {'latitude': 55.875, 'longitude': -4.4375, 'generationtime_ms': 0.19299983978271484, 'utc_offset_seconds': 3600, 'timezone': 'Europe/London', 'timezone_abbreviation': 'BST', 'elevation': 23.0, 'daily_units': {'time': 'iso8601', 'temperature_2m_max': '°C', 'precipitation_sum': 'mm', 'weather_code': 'wmo code', 'wind_speed_10m_max': 'm/s'}, 'daily': {'time': ['2024-05-29', '2024-05-30', '2024-05-31', '2024-06-01', '2024-06-02', '2024-06-03', '2024-06-04', '2024-06-05', '2024-06-06', '2024-06-07', '2024-06-08', '2024-06-09', '2024-06-10', '2024-06-11'], 'temperature_2m_max': [16.7, 17.0, 17.8, 17.9, 15.5, 15.3, 14.4, 12.1, 15.0, 13.4, 14.5, 15.9, 18.5, 19.0], 'precipitation_sum': [0.7, 0.1, 0.0, 0.0, 0.0, 0.0, 0.3, 2.3, 1.3, 0.0, 0.0, 0.0, 0.0, 0.0], 'weather_code': [61, 61, 3, 3, 3, 3, 3, 61, 61, 3, 3, 2, 0, 3], 'wind_speed_10m_max': [6.44, 4.53, 4.52, 5.44, 5.72, 6.66, 6.5, 4.05, 6.93, 6.79, 6.14, 5.2, 2.2, 3.16]}}\n",
      "Penicuik {'latitude': 55.82, 'longitude': -3.22, 'generationtime_ms': 0.30493736267089844, 'utc_offset_seconds': 3600, 'timezone': 'Europe/London', 'timezone_abbreviation': 'BST', 'elevation': 190.0, 'daily_units': {'time': 'iso8601', 'temperature_2m_max': '°C', 'precipitation_sum': 'mm', 'weather_code': 'wmo code', 'wind_speed_10m_max': 'm/s'}, 'daily': {'time': ['2024-05-29', '2024-05-30', '2024-05-31', '2024-06-01', '2024-06-02', '2024-06-03', '2024-06-04', '2024-06-05', '2024-06-06', '2024-06-07', '2024-06-08', '2024-06-09', '2024-06-10', '2024-06-11'], 'temperature_2m_max': [16.6, 16.7, 17.2, 17.5, 15.0, 14.0, 13.0, 10.8, 11.5, 11.3, 14.9, 17.4, 14.6, 18.6], 'precipitation_sum': [2.1, 1.5, 0.0, 0.0, 0.0, 0.0, 0.0, 2.9, 1.6, 0.0, 0.0, 0.0, 0.0, 0.3], 'weather_code': [80, 80, 3, 45, 3, 3, 3, 61, 61, 3, 3, 3, 3, 51], 'wind_speed_10m_max': [5.38, 6.31, 3.75, 4.21, 7.45, 8.82, 9.11, 5.32, 7.79, 6.97, 3.98, 3.41, 2.33, 2.88]}}\n",
      "Perth {'latitude': 56.4, 'longitude': -3.44, 'generationtime_ms': 0.3600120544433594, 'utc_offset_seconds': 3600, 'timezone': 'Europe/London', 'timezone_abbreviation': 'BST', 'elevation': 7.0, 'daily_units': {'time': 'iso8601', 'temperature_2m_max': '°C', 'precipitation_sum': 'mm', 'weather_code': 'wmo code', 'wind_speed_10m_max': 'm/s'}, 'daily': {'time': ['2024-05-29', '2024-05-30', '2024-05-31', '2024-06-01', '2024-06-02', '2024-06-03', '2024-06-04', '2024-06-05', '2024-06-06', '2024-06-07', '2024-06-08', '2024-06-09', '2024-06-10', '2024-06-11'], 'temperature_2m_max': [18.1, 18.1, 19.5, 20.1, 16.4, 15.1, 14.6, 14.1, 14.6, 12.9, 16.0, 17.6, 15.3, 18.2], 'precipitation_sum': [0.9, 0.1, 0.0, 0.0, 0.0, 0.0, 0.3, 0.7, 1.1, 0.0, 0.0, 0.0, 0.0, 0.0], 'weather_code': [80, 80, 3, 3, 3, 3, 61, 61, 61, 3, 3, 3, 3, 3], 'wind_speed_10m_max': [3.12, 5.74, 4.32, 2.92, 6.81, 7.92, 8.37, 5.38, 5.99, 7.39, 4.53, 3.45, 3.05, 4.33]}}\n",
      "Peterhead {'latitude': 57.52, 'longitude': -1.8000002, 'generationtime_ms': 0.2620220184326172, 'utc_offset_seconds': 3600, 'timezone': 'Europe/London', 'timezone_abbreviation': 'BST', 'elevation': 12.0, 'daily_units': {'time': 'iso8601', 'temperature_2m_max': '°C', 'precipitation_sum': 'mm', 'weather_code': 'wmo code', 'wind_speed_10m_max': 'm/s'}, 'daily': {'time': ['2024-05-29', '2024-05-30', '2024-05-31', '2024-06-01', '2024-06-02', '2024-06-03', '2024-06-04', '2024-06-05', '2024-06-06', '2024-06-07', '2024-06-08', '2024-06-09', '2024-06-10', '2024-06-11'], 'temperature_2m_max': [13.4, 13.1, 14.2, 15.3, 17.0, 14.4, 12.7, 11.5, 11.4, 10.6, 11.4, 11.4, 11.4, 11.7], 'precipitation_sum': [5.3, 0.5, 0.0, 0.0, 0.0, 0.0, 2.1, 0.0, 1.0, 1.7, 0.0, 0.0, 0.0, 0.0], 'weather_code': [61, 80, 3, 3, 3, 3, 80, 61, 61, 51, 3, 3, 3, 3], 'wind_speed_10m_max': [6.17, 9.9, 6.53, 5.28, 4.39, 6.82, 7.69, 6.38, 10.36, 11.52, 9.9, 8.96, 5.26, 3.69]}}\n",
      "Port Ellen {'latitude': 55.625, 'longitude': -6.1875, 'generationtime_ms': 0.1990795135498047, 'utc_offset_seconds': 3600, 'timezone': 'Europe/London', 'timezone_abbreviation': 'BST', 'elevation': 5.0, 'daily_units': {'time': 'iso8601', 'temperature_2m_max': '°C', 'precipitation_sum': 'mm', 'weather_code': 'wmo code', 'wind_speed_10m_max': 'm/s'}, 'daily': {'time': ['2024-05-29', '2024-05-30', '2024-05-31', '2024-06-01', '2024-06-02', '2024-06-03', '2024-06-04', '2024-06-05', '2024-06-06', '2024-06-07', '2024-06-08', '2024-06-09', '2024-06-10', '2024-06-11'], 'temperature_2m_max': [13.5, 13.8, 13.7, 14.0, 13.7, 13.8, 12.9, 10.9, 12.1, 10.9, 12.2, 13.3, 15.1, 15.0], 'precipitation_sum': [0.6, 0.0, 0.0, 0.0, 0.0, 0.0, 1.5, 3.9, 1.5, 0.0, 0.0, 0.0, 0.0, 0.0], 'weather_code': [3, 3, 3, 3, 3, 3, 80, 61, 61, 3, 3, 2, 1, 3], 'wind_speed_10m_max': [8.31, 10.32, 7.53, 6.02, 6.81, 8.31, 8.68, 4.43, 8.83, 9.46, 5.84, 5.87, 3.69, 4.06]}}\n",
      "Port Glasgow {'latitude': 55.9375, 'longitude': -4.6875, 'generationtime_ms': 0.14197826385498047, 'utc_offset_seconds': 3600, 'timezone': 'Europe/London', 'timezone_abbreviation': 'BST', 'elevation': 8.0, 'daily_units': {'time': 'iso8601', 'temperature_2m_max': '°C', 'precipitation_sum': 'mm', 'weather_code': 'wmo code', 'wind_speed_10m_max': 'm/s'}, 'daily': {'time': ['2024-05-29', '2024-05-30', '2024-05-31', '2024-06-01', '2024-06-02', '2024-06-03', '2024-06-04', '2024-06-05', '2024-06-06', '2024-06-07', '2024-06-08', '2024-06-09', '2024-06-10', '2024-06-11'], 'temperature_2m_max': [16.1, 16.6, 16.6, 16.9, 14.8, 14.3, 13.6, 12.1, 14.9, 13.0, 14.6, 16.3, 16.1, 16.7], 'precipitation_sum': [0.6, 0.0, 0.0, 0.0, 0.0, 0.0, 0.6, 1.4, 1.6, 0.0, 0.0, 0.0, 0.0, 0.0], 'weather_code': [3, 3, 3, 3, 3, 3, 3, 61, 61, 3, 3, 1, 1, 3], 'wind_speed_10m_max': [7.98, 7.26, 5.73, 7.48, 7.1, 8.91, 9.42, 4.95, 8.19, 6.76, 6.22, 5.0, 2.37, 2.62]}}\n",
      "Portree {'latitude': 57.4375, 'longitude': -6.125, 'generationtime_ms': 0.1360177993774414, 'utc_offset_seconds': 3600, 'timezone': 'Europe/London', 'timezone_abbreviation': 'BST', 'elevation': 17.0, 'daily_units': {'time': 'iso8601', 'temperature_2m_max': '°C', 'precipitation_sum': 'mm', 'weather_code': 'wmo code', 'wind_speed_10m_max': 'm/s'}, 'daily': {'time': ['2024-05-29', '2024-05-30', '2024-05-31', '2024-06-01', '2024-06-02', '2024-06-03', '2024-06-04', '2024-06-05', '2024-06-06', '2024-06-07', '2024-06-08', '2024-06-09', '2024-06-10', '2024-06-11'], 'temperature_2m_max': [14.0, 13.5, 14.0, 14.5, 13.9, 12.1, 11.6, 11.8, 11.2, 10.6, 12.8, 14.7, 17.1, 16.7], 'precipitation_sum': [4.9, 1.5, 0.0, 0.0, 2.1, 1.4, 4.3, 0.0, 0.6, 0.0, 0.0, 0.0, 0.0, 0.0], 'weather_code': [80, 80, 3, 3, 61, 80, 80, 3, 51, 3, 3, 3, 2, 3], 'wind_speed_10m_max': [5.05, 7.4, 5.02, 5.24, 8.77, 8.68, 8.08, 5.1, 6.75, 6.26, 5.01, 2.61, 3.05, 2.73]}}\n",
      "Renfrew {'latitude': 55.875, 'longitude': -4.375, 'generationtime_ms': 0.1919269561767578, 'utc_offset_seconds': 3600, 'timezone': 'Europe/London', 'timezone_abbreviation': 'BST', 'elevation': 9.0, 'daily_units': {'time': 'iso8601', 'temperature_2m_max': '°C', 'precipitation_sum': 'mm', 'weather_code': 'wmo code', 'wind_speed_10m_max': 'm/s'}, 'daily': {'time': ['2024-05-29', '2024-05-30', '2024-05-31', '2024-06-01', '2024-06-02', '2024-06-03', '2024-06-04', '2024-06-05', '2024-06-06', '2024-06-07', '2024-06-08', '2024-06-09', '2024-06-10', '2024-06-11'], 'temperature_2m_max': [17.1, 17.5, 18.4, 18.5, 15.9, 15.4, 14.5, 12.2, 14.5, 14.5, 17.3, 20.0, 19.0, 21.0], 'precipitation_sum': [0.7, 0.3, 0.0, 0.0, 0.0, 0.0, 0.3, 2.3, 1.6, 0.0, 0.0, 0.0, 0.0, 0.0], 'weather_code': [61, 61, 3, 3, 3, 3, 3, 61, 61, 3, 3, 1, 3, 3], 'wind_speed_10m_max': [5.82, 4.22, 4.05, 5.0, 5.46, 6.64, 6.5, 4.05, 4.88, 5.62, 4.49, 3.22, 2.61, 3.45]}}\n",
      "Rothesay {'latitude': 55.8125, 'longitude': -5.0625, 'generationtime_ms': 0.30803680419921875, 'utc_offset_seconds': 3600, 'timezone': 'Europe/London', 'timezone_abbreviation': 'BST', 'elevation': 5.0, 'daily_units': {'time': 'iso8601', 'temperature_2m_max': '°C', 'precipitation_sum': 'mm', 'weather_code': 'wmo code', 'wind_speed_10m_max': 'm/s'}, 'daily': {'time': ['2024-05-29', '2024-05-30', '2024-05-31', '2024-06-01', '2024-06-02', '2024-06-03', '2024-06-04', '2024-06-05', '2024-06-06', '2024-06-07', '2024-06-08', '2024-06-09', '2024-06-10', '2024-06-11'], 'temperature_2m_max': [15.4, 16.6, 15.6, 15.8, 14.5, 14.1, 13.4, 12.1, 16.9, 12.6, 15.5, 18.1, 19.2, 20.4], 'precipitation_sum': [0.5, 0.8, 0.0, 0.0, 0.0, 0.0, 0.0, 1.4, 1.3, 0.0, 0.0, 0.0, 0.0, 0.0], 'weather_code': [80, 80, 3, 3, 3, 3, 3, 61, 61, 3, 3, 2, 2, 3], 'wind_speed_10m_max': [7.79, 7.98, 6.51, 6.66, 5.63, 8.55, 9.38, 4.92, 6.2, 5.47, 5.41, 4.39, 2.72, 2.6]}}\n",
      "Stranraer {'latitude': 54.9, 'longitude': -5.03, 'generationtime_ms': 0.6389617919921875, 'utc_offset_seconds': 3600, 'timezone': 'Europe/London', 'timezone_abbreviation': 'BST', 'elevation': 6.0, 'daily_units': {'time': 'iso8601', 'temperature_2m_max': '°C', 'precipitation_sum': 'mm', 'weather_code': 'wmo code', 'wind_speed_10m_max': 'm/s'}, 'daily': {'time': ['2024-05-29', '2024-05-30', '2024-05-31', '2024-06-01', '2024-06-02', '2024-06-03', '2024-06-04', '2024-06-05', '2024-06-06', '2024-06-07', '2024-06-08', '2024-06-09', '2024-06-10', '2024-06-11'], 'temperature_2m_max': [14.0, 14.7, 15.1, 13.9, 13.7, 14.9, 13.8, 11.5, 12.6, 11.7, 12.3, 13.3, 15.0, 15.3], 'precipitation_sum': [1.2, 0.0, 0.0, 0.0, 0.0, 0.1, 2.1, 4.5, 1.2, 0.0, 0.0, 0.0, 0.0, 0.0], 'weather_code': [53, 3, 3, 3, 3, 51, 80, 61, 61, 3, 3, 2, 0, 3], 'wind_speed_10m_max': [7.87, 9.18, 8.2, 7.79, 7.08, 6.86, 9.5, 5.59, 10.93, 10.34, 7.53, 6.01, 4.33, 3.64]}}\n",
      "St Andrews {'latitude': 56.34, 'longitude': -2.8000002, 'generationtime_ms': 0.2830028533935547, 'utc_offset_seconds': 3600, 'timezone': 'Europe/London', 'timezone_abbreviation': 'BST', 'elevation': 22.0, 'daily_units': {'time': 'iso8601', 'temperature_2m_max': '°C', 'precipitation_sum': 'mm', 'weather_code': 'wmo code', 'wind_speed_10m_max': 'm/s'}, 'daily': {'time': ['2024-05-29', '2024-05-30', '2024-05-31', '2024-06-01', '2024-06-02', '2024-06-03', '2024-06-04', '2024-06-05', '2024-06-06', '2024-06-07', '2024-06-08', '2024-06-09', '2024-06-10', '2024-06-11'], 'temperature_2m_max': [15.2, 17.5, 16.9, 17.4, 17.6, 15.4, 14.3, 13.2, 12.2, 12.8, 14.9, 15.5, 12.2, 13.9], 'precipitation_sum': [3.0, 0.0, 0.0, 0.0, 0.0, 0.0, 0.6, 0.7, 1.4, 0.0, 0.0, 0.0, 0.0, 0.0], 'weather_code': [95, 3, 3, 45, 45, 3, 3, 61, 61, 3, 3, 3, 3, 3], 'wind_speed_10m_max': [3.68, 6.76, 4.1, 4.16, 8.51, 8.32, 9.84, 5.94, 8.14, 7.64, 4.52, 4.98, 4.14, 4.74]}}\n",
      "Stirling {'latitude': 56.125, 'longitude': -3.9375, 'generationtime_ms': 0.2149343490600586, 'utc_offset_seconds': 3600, 'timezone': 'Europe/London', 'timezone_abbreviation': 'BST', 'elevation': 23.0, 'daily_units': {'time': 'iso8601', 'temperature_2m_max': '°C', 'precipitation_sum': 'mm', 'weather_code': 'wmo code', 'wind_speed_10m_max': 'm/s'}, 'daily': {'time': ['2024-05-29', '2024-05-30', '2024-05-31', '2024-06-01', '2024-06-02', '2024-06-03', '2024-06-04', '2024-06-05', '2024-06-06', '2024-06-07', '2024-06-08', '2024-06-09', '2024-06-10', '2024-06-11'], 'temperature_2m_max': [17.0, 17.4, 18.6, 19.0, 15.7, 14.8, 14.2, 12.5, 13.8, 13.2, 16.3, 19.1, 15.8, 20.7], 'precipitation_sum': [4.6, 1.3, 0.0, 0.0, 0.0, 0.0, 0.6, 1.0, 1.7, 0.0, 0.0, 0.0, 0.0, 0.0], 'weather_code': [80, 61, 3, 3, 3, 3, 3, 61, 61, 3, 2, 3, 3, 3], 'wind_speed_10m_max': [4.73, 6.32, 4.3, 4.5, 6.8, 8.91, 9.01, 5.31, 5.48, 6.31, 4.27, 3.22, 4.05, 2.47]}}\n",
      "Stornoway {'latitude': 58.1875, 'longitude': -6.375, 'generationtime_ms': 0.1989603042602539, 'utc_offset_seconds': 3600, 'timezone': 'Europe/London', 'timezone_abbreviation': 'BST', 'elevation': 6.0, 'daily_units': {'time': 'iso8601', 'temperature_2m_max': '°C', 'precipitation_sum': 'mm', 'weather_code': 'wmo code', 'wind_speed_10m_max': 'm/s'}, 'daily': {'time': ['2024-05-29', '2024-05-30', '2024-05-31', '2024-06-01', '2024-06-02', '2024-06-03', '2024-06-04', '2024-06-05', '2024-06-06', '2024-06-07', '2024-06-08', '2024-06-09', '2024-06-10', '2024-06-11'], 'temperature_2m_max': [14.3, 14.2, 13.8, 14.2, 14.1, 12.1, 10.5, 11.8, 10.1, 9.4, 13.5, 13.1, 12.5, 14.1], 'precipitation_sum': [0.2, 0.0, 0.0, 0.0, 3.3, 2.6, 2.8, 0.0, 0.6, 0.0, 0.0, 0.3, 0.0, 0.0], 'weather_code': [3, 3, 3, 3, 61, 80, 80, 3, 51, 3, 3, 51, 3, 3], 'wind_speed_10m_max': [5.72, 7.16, 5.65, 6.2, 7.98, 8.97, 7.91, 6.33, 9.74, 9.35, 6.74, 5.28, 5.37, 3.4]}}\n",
      "Stromness {'latitude': 58.9375, 'longitude': -3.3125, 'generationtime_ms': 0.21600723266601562, 'utc_offset_seconds': 3600, 'timezone': 'Europe/London', 'timezone_abbreviation': 'BST', 'elevation': 12.0, 'daily_units': {'time': 'iso8601', 'temperature_2m_max': '°C', 'precipitation_sum': 'mm', 'weather_code': 'wmo code', 'wind_speed_10m_max': 'm/s'}, 'daily': {'time': ['2024-05-29', '2024-05-30', '2024-05-31', '2024-06-01', '2024-06-02', '2024-06-03', '2024-06-04', '2024-06-05', '2024-06-06', '2024-06-07', '2024-06-08', '2024-06-09', '2024-06-10', '2024-06-11'], 'temperature_2m_max': [12.8, 12.7, 13.0, 13.1, 13.2, 12.6, 10.3, 11.3, 9.1, 9.7, 10.6, 10.6, 10.0, 10.6], 'precipitation_sum': [11.2, 0.0, 0.0, 0.0, 1.5, 6.0, 3.6, 0.0, 1.0, 0.8, 0.0, 0.0, 0.0, 0.0], 'weather_code': [80, 3, 3, 3, 61, 61, 61, 3, 85, 51, 3, 3, 3, 3], 'wind_speed_10m_max': [5.1, 7.94, 7.18, 7.83, 10.77, 11.68, 9.49, 6.55, 14.79, 13.3, 11.05, 8.94, 6.1, 4.92]}}\n",
      "Tain {'latitude': 57.8125, 'longitude': -4.0625, 'generationtime_ms': 0.17404556274414062, 'utc_offset_seconds': 3600, 'timezone': 'Europe/London', 'timezone_abbreviation': 'BST', 'elevation': 25.0, 'daily_units': {'time': 'iso8601', 'temperature_2m_max': '°C', 'precipitation_sum': 'mm', 'weather_code': 'wmo code', 'wind_speed_10m_max': 'm/s'}, 'daily': {'time': ['2024-05-29', '2024-05-30', '2024-05-31', '2024-06-01', '2024-06-02', '2024-06-03', '2024-06-04', '2024-06-05', '2024-06-06', '2024-06-07', '2024-06-08', '2024-06-09', '2024-06-10', '2024-06-11'], 'temperature_2m_max': [14.5, 15.7, 15.5, 16.8, 16.0, 13.6, 12.2, 14.0, 11.6, 12.3, 15.6, 14.9, 14.5, 14.7], 'precipitation_sum': [10.7, 0.1, 0.1, 0.0, 0.1, 0.4, 0.7, 0.0, 1.3, 0.2, 0.0, 0.0, 0.0, 0.0], 'weather_code': [80, 61, 61, 3, 3, 61, 61, 3, 51, 51, 3, 3, 3, 3], 'wind_speed_10m_max': [3.86, 6.13, 6.64, 5.23, 6.19, 8.14, 8.7, 4.63, 5.94, 7.05, 5.34, 4.65, 4.23, 3.71]}}\n",
      "Tarbert {'latitude': 57.875, 'longitude': -6.8125, 'generationtime_ms': 4.354000091552734, 'utc_offset_seconds': 3600, 'timezone': 'Europe/London', 'timezone_abbreviation': 'BST', 'elevation': 24.0, 'daily_units': {'time': 'iso8601', 'temperature_2m_max': '°C', 'precipitation_sum': 'mm', 'weather_code': 'wmo code', 'wind_speed_10m_max': 'm/s'}, 'daily': {'time': ['2024-05-29', '2024-05-30', '2024-05-31', '2024-06-01', '2024-06-02', '2024-06-03', '2024-06-04', '2024-06-05', '2024-06-06', '2024-06-07', '2024-06-08', '2024-06-09', '2024-06-10', '2024-06-11'], 'temperature_2m_max': [14.7, 14.3, 13.5, 13.7, 13.4, 11.8, 10.7, 10.8, 10.9, 10.1, 12.3, 13.9, 14.2, 14.8], 'precipitation_sum': [0.1, 0.0, 0.0, 0.0, 6.3, 4.1, 4.6, 0.0, 0.3, 0.0, 0.0, 0.0, 0.0, 0.0], 'weather_code': [61, 3, 3, 3, 61, 80, 80, 3, 51, 3, 3, 3, 3, 3], 'wind_speed_10m_max': [6.14, 7.62, 5.47, 6.17, 8.06, 10.02, 9.05, 5.82, 9.03, 6.44, 5.91, 3.94, 5.35, 2.83]}}\n",
      "Thurso {'latitude': 58.625, 'longitude': -3.5, 'generationtime_ms': 0.22602081298828125, 'utc_offset_seconds': 3600, 'timezone': 'Europe/London', 'timezone_abbreviation': 'BST', 'elevation': 11.0, 'daily_units': {'time': 'iso8601', 'temperature_2m_max': '°C', 'precipitation_sum': 'mm', 'weather_code': 'wmo code', 'wind_speed_10m_max': 'm/s'}, 'daily': {'time': ['2024-05-29', '2024-05-30', '2024-05-31', '2024-06-01', '2024-06-02', '2024-06-03', '2024-06-04', '2024-06-05', '2024-06-06', '2024-06-07', '2024-06-08', '2024-06-09', '2024-06-10', '2024-06-11'], 'temperature_2m_max': [12.7, 12.3, 12.7, 12.9, 14.6, 12.7, 10.7, 12.0, 9.2, 10.3, 11.8, 12.2, 12.1, 13.6], 'precipitation_sum': [13.3, 0.3, 0.1, 0.0, 0.9, 2.9, 1.9, 0.0, 1.6, 2.3, 0.0, 0.0, 0.0, 0.0], 'weather_code': [80, 3, 3, 3, 61, 80, 80, 3, 51, 51, 3, 3, 3, 3], 'wind_speed_10m_max': [4.38, 7.03, 7.62, 7.45, 10.08, 10.8, 9.63, 5.8, 9.93, 9.4, 8.11, 7.08, 4.24, 5.42]}}\n",
      "Tobermory {'latitude': 56.6875, 'longitude': -6.125, 'generationtime_ms': 0.20802021026611328, 'utc_offset_seconds': 3600, 'timezone': 'Europe/London', 'timezone_abbreviation': 'BST', 'elevation': 23.0, 'daily_units': {'time': 'iso8601', 'temperature_2m_max': '°C', 'precipitation_sum': 'mm', 'weather_code': 'wmo code', 'wind_speed_10m_max': 'm/s'}, 'daily': {'time': ['2024-05-29', '2024-05-30', '2024-05-31', '2024-06-01', '2024-06-02', '2024-06-03', '2024-06-04', '2024-06-05', '2024-06-06', '2024-06-07', '2024-06-08', '2024-06-09', '2024-06-10', '2024-06-11'], 'temperature_2m_max': [13.4, 13.7, 13.0, 13.5, 13.5, 12.7, 12.1, 11.7, 11.4, 10.4, 12.0, 12.9, 14.3, 15.5], 'precipitation_sum': [1.1, 0.1, 0.0, 0.0, 1.3, 0.6, 3.8, 0.7, 1.8, 0.2, 0.0, 0.0, 0.0, 0.0], 'weather_code': [61, 61, 3, 3, 51, 80, 80, 61, 61, 51, 3, 3, 1, 3], 'wind_speed_10m_max': [7.44, 7.85, 5.32, 5.32, 4.92, 8.05, 8.92, 4.25, 9.6, 10.19, 4.75, 4.73, 4.2, 2.66]}}\n",
      "Uig {'latitude': 57.5625, 'longitude': -6.375, 'generationtime_ms': 0.1380443572998047, 'utc_offset_seconds': 3600, 'timezone': 'Europe/London', 'timezone_abbreviation': 'BST', 'elevation': 35.0, 'daily_units': {'time': 'iso8601', 'temperature_2m_max': '°C', 'precipitation_sum': 'mm', 'weather_code': 'wmo code', 'wind_speed_10m_max': 'm/s'}, 'daily': {'time': ['2024-05-29', '2024-05-30', '2024-05-31', '2024-06-01', '2024-06-02', '2024-06-03', '2024-06-04', '2024-06-05', '2024-06-06', '2024-06-07', '2024-06-08', '2024-06-09', '2024-06-10', '2024-06-11'], 'temperature_2m_max': [13.3, 13.1, 13.0, 13.3, 13.4, 12.0, 11.5, 11.7, 11.6, 10.4, 13.1, 14.5, 17.3, 17.6], 'precipitation_sum': [6.1, 0.4, 0.0, 0.0, 3.0, 2.0, 4.3, 0.0, 0.9, 0.0, 0.0, 0.0, 0.0, 0.0], 'weather_code': [80, 3, 3, 3, 55, 80, 80, 3, 51, 3, 3, 3, 1, 3], 'wind_speed_10m_max': [5.22, 6.89, 5.24, 5.81, 7.77, 8.68, 8.08, 5.1, 7.3, 5.95, 4.85, 3.84, 3.47, 2.84]}}\n",
      "Ullapool {'latitude': 57.9375, 'longitude': -5.1875, 'generationtime_ms': 0.2410411834716797, 'utc_offset_seconds': 3600, 'timezone': 'Europe/London', 'timezone_abbreviation': 'BST', 'elevation': 15.0, 'daily_units': {'time': 'iso8601', 'temperature_2m_max': '°C', 'precipitation_sum': 'mm', 'weather_code': 'wmo code', 'wind_speed_10m_max': 'm/s'}, 'daily': {'time': ['2024-05-29', '2024-05-30', '2024-05-31', '2024-06-01', '2024-06-02', '2024-06-03', '2024-06-04', '2024-06-05', '2024-06-06', '2024-06-07', '2024-06-08', '2024-06-09', '2024-06-10', '2024-06-11'], 'temperature_2m_max': [13.5, 13.7, 13.0, 13.8, 15.1, 11.7, 11.1, 11.1, 10.8, 9.8, 12.8, 11.9, 13.6, 16.6], 'precipitation_sum': [1.5, 0.1, 0.0, 0.0, 4.7, 7.4, 17.2, 0.4, 1.3, 2.3, 0.0, 0.3, 0.0, 0.0], 'weather_code': [80, 3, 3, 3, 80, 80, 80, 3, 51, 51, 3, 51, 2, 3], 'wind_speed_10m_max': [4.88, 5.52, 5.0, 6.71, 9.79, 11.4, 10.28, 6.41, 9.17, 8.54, 6.69, 4.75, 4.61, 2.87]}}\n",
      "Viewpark {'latitude': 55.8125, 'longitude': -4.0625, 'generationtime_ms': 0.2110004425048828, 'utc_offset_seconds': 3600, 'timezone': 'Europe/London', 'timezone_abbreviation': 'BST', 'elevation': 74.0, 'daily_units': {'time': 'iso8601', 'temperature_2m_max': '°C', 'precipitation_sum': 'mm', 'weather_code': 'wmo code', 'wind_speed_10m_max': 'm/s'}, 'daily': {'time': ['2024-05-29', '2024-05-30', '2024-05-31', '2024-06-01', '2024-06-02', '2024-06-03', '2024-06-04', '2024-06-05', '2024-06-06', '2024-06-07', '2024-06-08', '2024-06-09', '2024-06-10', '2024-06-11'], 'temperature_2m_max': [16.9, 17.2, 18.2, 18.4, 15.8, 14.9, 13.7, 11.3, 13.8, 14.1, 16.9, 19.0, 18.9, 21.8], 'precipitation_sum': [2.4, 3.6, 0.0, 0.0, 0.0, 0.0, 0.6, 3.2, 1.9, 0.0, 0.0, 0.0, 0.0, 0.0], 'weather_code': [80, 80, 3, 3, 3, 3, 3, 61, 61, 3, 3, 2, 3, 3], 'wind_speed_10m_max': [5.63, 4.48, 3.83, 4.56, 5.82, 7.22, 7.05, 4.22, 5.5, 5.11, 4.37, 3.75, 2.64, 3.3]}}\n",
      "Wick {'latitude': 58.4375, 'longitude': -3.0625, 'generationtime_ms': 1.139998435974121, 'utc_offset_seconds': 3600, 'timezone': 'Europe/London', 'timezone_abbreviation': 'BST', 'elevation': 13.0, 'daily_units': {'time': 'iso8601', 'temperature_2m_max': '°C', 'precipitation_sum': 'mm', 'weather_code': 'wmo code', 'wind_speed_10m_max': 'm/s'}, 'daily': {'time': ['2024-05-29', '2024-05-30', '2024-05-31', '2024-06-01', '2024-06-02', '2024-06-03', '2024-06-04', '2024-06-05', '2024-06-06', '2024-06-07', '2024-06-08', '2024-06-09', '2024-06-10', '2024-06-11'], 'temperature_2m_max': [12.3, 13.8, 13.9, 14.8, 15.3, 13.7, 10.9, 13.7, 9.4, 9.8, 11.3, 11.0, 10.7, 10.8], 'precipitation_sum': [3.4, 0.0, 0.0, 0.0, 1.8, 2.0, 3.1, 1.8, 1.9, 1.1, 0.0, 0.3, 0.0, 0.0], 'weather_code': [80, 3, 3, 3, 61, 80, 80, 80, 51, 51, 3, 51, 3, 3], 'wind_speed_10m_max': [6.08, 8.44, 7.96, 6.6, 7.18, 7.71, 8.1, 4.51, 12.43, 12.33, 9.97, 8.78, 5.78, 4.52]}}\n",
      "Wishaw {'latitude': 55.75, 'longitude': -3.9375, 'generationtime_ms': 0.20503997802734375, 'utc_offset_seconds': 3600, 'timezone': 'Europe/London', 'timezone_abbreviation': 'BST', 'elevation': 146.0, 'daily_units': {'time': 'iso8601', 'temperature_2m_max': '°C', 'precipitation_sum': 'mm', 'weather_code': 'wmo code', 'wind_speed_10m_max': 'm/s'}, 'daily': {'time': ['2024-05-29', '2024-05-30', '2024-05-31', '2024-06-01', '2024-06-02', '2024-06-03', '2024-06-04', '2024-06-05', '2024-06-06', '2024-06-07', '2024-06-08', '2024-06-09', '2024-06-10', '2024-06-11'], 'temperature_2m_max': [16.1, 16.0, 17.3, 17.3, 14.9, 14.1, 12.7, 10.0, 13.3, 13.2, 16.0, 18.5, 17.2, 20.6], 'precipitation_sum': [2.6, 5.2, 0.0, 0.0, 0.0, 0.0, 0.9, 4.5, 2.1, 0.0, 0.0, 0.0, 0.0, 0.0], 'weather_code': [80, 61, 3, 3, 3, 3, 80, 61, 61, 3, 45, 3, 3, 3], 'wind_speed_10m_max': [6.04, 5.19, 4.18, 4.85, 6.24, 8.24, 8.13, 4.72, 5.72, 5.11, 4.37, 3.4, 3.18, 1.89]}}\n"
     ]
    }
   ],
   "source": [
    "forecast = {}\n",
    "dates = []\n",
    "for p in cities_w_coords:\n",
    "    #r=requests.get(f'https://api.openweathermap.org/data/2.5/onecall?lat={p[1]}&lon={p[2]}&exclude=hourly,alert,current,minutely&units=metric&appid={key}')\n",
    "    r=requests.get(f'https://api.open-meteo.com/v1/forecast?latitude={p[1]}&longitude={p[2]}&daily=temperature_2m_max,precipitation_sum,weather_code,wind_speed_10m_max&wind_speed_unit=ms&timezone=Europe%2FLondon&forecast_days=14')\n",
    "    data = json.loads(r.text)\n",
    "    print(p[0], data)\n",
    "    forecast[p[0]] = {}\n",
    "    forecast[p[0]]['daily'] = data['daily']\n",
    "\n",
    "    if not dates: dates = data['daily']['time']\n"
   ]
  },
  {
   "cell_type": "code",
   "execution_count": 16,
   "metadata": {},
   "outputs": [],
   "source": [
    "with open('weather/forecast.json', 'w') as json_file:\n",
    "    json.dump(forecast, json_file, indent=4) \n"
   ]
  },
  {
   "cell_type": "code",
   "execution_count": 11,
   "metadata": {},
   "outputs": [],
   "source": [
    "data = json.loads(r.text)"
   ]
  },
  {
   "cell_type": "code",
   "execution_count": 45,
   "metadata": {},
   "outputs": [
    {
     "data": {
      "text/plain": [
       "{'daily': {'time': ['2024-05-29',\n",
       "   '2024-05-30',\n",
       "   '2024-05-31',\n",
       "   '2024-06-01',\n",
       "   '2024-06-02',\n",
       "   '2024-06-03',\n",
       "   '2024-06-04',\n",
       "   '2024-06-05',\n",
       "   '2024-06-06',\n",
       "   '2024-06-07',\n",
       "   '2024-06-08',\n",
       "   '2024-06-09',\n",
       "   '2024-06-10',\n",
       "   '2024-06-11'],\n",
       "  'temperature_2m_max': [14.6,\n",
       "   17.2,\n",
       "   16.5,\n",
       "   14.1,\n",
       "   17.7,\n",
       "   15.5,\n",
       "   14.4,\n",
       "   13.5,\n",
       "   12.8,\n",
       "   12.5,\n",
       "   12.6,\n",
       "   13.9,\n",
       "   11.9,\n",
       "   13.0],\n",
       "  'precipitation_sum': [4.8,\n",
       "   0.0,\n",
       "   0.0,\n",
       "   0.0,\n",
       "   0.0,\n",
       "   0.0,\n",
       "   0.0,\n",
       "   0.3,\n",
       "   1.2,\n",
       "   0.0,\n",
       "   0.0,\n",
       "   0.0,\n",
       "   0.0,\n",
       "   0.0],\n",
       "  'weather_code': [80, 3, 3, 45, 3, 3, 3, 61, 61, 3, 3, 3, 3, 3],\n",
       "  'wind_speed_10m_max': [4.39,\n",
       "   7.6,\n",
       "   3.8,\n",
       "   3.62,\n",
       "   6.82,\n",
       "   7.86,\n",
       "   9.18,\n",
       "   5.39,\n",
       "   9.17,\n",
       "   8.99,\n",
       "   6.26,\n",
       "   5.28,\n",
       "   3.18,\n",
       "   4.05]}}"
      ]
     },
     "execution_count": 45,
     "metadata": {},
     "output_type": "execute_result"
    }
   ],
   "source": [
    "forecast['Arbroath']"
   ]
  },
  {
   "cell_type": "code",
   "execution_count": 14,
   "metadata": {},
   "outputs": [
    {
     "data": {
      "text/plain": [
       "[80, 80, 80, 3, 3, 3, 3, 3, 51, 51, 3, 51, 53, 61]"
      ]
     },
     "execution_count": 14,
     "metadata": {},
     "output_type": "execute_result"
    }
   ],
   "source": [
    "data['daily']['weather_code']"
   ]
  },
  {
   "cell_type": "code",
   "execution_count": 49,
   "metadata": {},
   "outputs": [
    {
     "name": "stdout",
     "output_type": "stream",
     "text": [
      "Aberdeen\n",
      "Airdrie\n",
      "Alloa\n",
      "Arbroath\n",
      "Aviemore\n",
      "Ayr\n",
      "Barrhead\n",
      "Bathgate\n",
      "Bellshill\n",
      "Benbecula\n",
      "Bishopbriggs\n",
      "Blantyre\n",
      "Bowmore\n",
      "Broadford\n",
      "Broxburn\n",
      "Campbeltown\n",
      "Castlebay\n",
      "Clydebank\n",
      "Coatbridge\n",
      "Cowdenbeath\n",
      "Cumbernauld\n",
      "Dingwall\n",
      "Dornoch\n",
      "Dumfries\n",
      "Dundee\n",
      "Dunkeld\n",
      "Dunfermline\n",
      "Dunoon\n",
      "East Kilbride\n",
      "Edinburgh\n",
      "Elgin\n",
      "Erskine\n",
      "Falkirk\n",
      "Fort Augustus\n",
      "Fort William\n",
      "Fortrose\n",
      "Fraserburgh\n",
      "Gairloch\n",
      "Glasgow\n",
      "Glenrothes\n",
      "Grangemouth\n",
      "Grantown-on-Spey\n",
      "Greenock\n",
      "Hamilton\n",
      "Hawick\n",
      "Helensburgh\n",
      "Inverness\n",
      "Irvine\n",
      "Johnstone\n",
      "Kilmarnock\n",
      "Kilwinning\n",
      "Kirkcaldy\n",
      "Kirkintilloch\n",
      "Kirkwall\n",
      "Kyle of Lochalsh\n",
      "Largs\n",
      "Larkhall\n",
      "Lerwick\n",
      "Livingston\n",
      "Lochboisdale\n",
      "Lochgilphead\n",
      "Lochmaddy\n",
      "Mallaig\n",
      "Motherwell\n",
      "Musselburgh\n",
      "Nairn\n",
      "Newton Mearns\n",
      "Oban\n",
      "Paisley\n",
      "Penicuik\n",
      "Perth\n",
      "Peterhead\n",
      "Port Ellen\n",
      "Port Glasgow\n",
      "Portree\n",
      "Renfrew\n",
      "Rothesay\n",
      "Stranraer\n",
      "St Andrews\n",
      "Stirling\n",
      "Stornoway\n",
      "Stromness\n",
      "Tain\n",
      "Tarbert\n",
      "Thurso\n",
      "Tobermory\n",
      "Uig\n",
      "Ullapool\n",
      "Viewpark\n",
      "Wick\n",
      "Wishaw\n"
     ]
    },
    {
     "ename": "",
     "evalue": "",
     "output_type": "error",
     "traceback": [
      "\u001b[1;31mThe Kernel crashed while executing code in the current cell or a previous cell. \n",
      "\u001b[1;31mPlease review the code in the cell(s) to identify a possible cause of the failure. \n",
      "\u001b[1;31mClick <a href='https://aka.ms/vscodeJupyterKernelCrash'>here</a> for more info. \n",
      "\u001b[1;31mView Jupyter <a href='command:jupyter.viewOutput'>log</a> for further details."
     ]
    }
   ],
   "source": [
    "good_forecast = {\n",
    "    'dates':dates,\n",
    "    'forecast':{}}\n",
    "\n",
    "for city,f in forecast.items():\n",
    "    print(city)\n",
    "    good_periods = []\n",
    "    good = 0\n",
    "    temp_max=0\n",
    "    wind_max=0\n",
    "    ix = 0\n",
    "    for i,w in enumerate(f['daily']['weather_code']):\n",
    "        good_periods.append({})\n",
    "        if good:\n",
    "            if w>=10:\n",
    "                good_periods[i] = {'good':0}\n",
    "                if good>1: good_periods[ix]= {'good':1,'date':start,'length':good,'temp_max':temp_max,'wind_max':wind_max}\n",
    "                else: good_periods[ix] = {'good':0,'length':1}\n",
    "                good = 0\n",
    "            else:\n",
    "                good_periods[i] = {'good':2}\n",
    "                good += 1\n",
    "                if f['daily']['temperature_2m_max'][i]>temp_max: temp_max = f['daily']['temperature_2m_max'][i]\n",
    "                if f['daily']['wind_speed_10m_max'][i]>wind_max: wind_max = f['daily']['wind_speed_10m_max'][i]\n",
    "\n",
    "                if i==len(f['daily']['weather_code'])-1: good_periods[ix]= {'good':1,'date':start,'length':good,'temp_max':temp_max,'wind_max':wind_max}\n",
    "        else:\n",
    "            good_periods[i] = {'good':0,'length':1}\n",
    "            if w<10:\n",
    "                good = 1\n",
    "                ix = i\n",
    "                start = f['daily']['time'][i]\n",
    "                temp_max = f['daily']['temperature_2m_max'][i]\n",
    "                wind_max = f['daily']['wind_speed_10m_max'][i]\n",
    "\n",
    "        #print(i,w)\n",
    "\n",
    "    good_forecast['forecast'][city] = good_periods\n",
    "\n",
    "    #print(good_periods)    \n",
    "\n",
    "with open('weather/good_forecast.json', 'w') as json_file:\n",
    "    json.dump(good_forecast, json_file, indent=4)    "
   ]
  },
  {
   "cell_type": "code",
   "execution_count": 30,
   "metadata": {},
   "outputs": [],
   "source": [
    "with open('weather/good_forecast.json', 'w') as json_file:\n",
    "    json.dump(good_forecast, json_file, indent=4)"
   ]
  },
  {
   "cell_type": "code",
   "execution_count": null,
   "metadata": {},
   "outputs": [],
   "source": [
    "from datetime import datetime"
   ]
  },
  {
   "cell_type": "code",
   "execution_count": null,
   "metadata": {},
   "outputs": [],
   "source": [
    "datetime.fromtimestamp(data['daily'][1]['dt']).strftime(\"%d/%m\")"
   ]
  },
  {
   "cell_type": "code",
   "execution_count": null,
   "metadata": {},
   "outputs": [],
   "source": [
    "round(data['daily'][0]['temp']['day'])"
   ]
  },
  {
   "cell_type": "code",
   "execution_count": null,
   "metadata": {},
   "outputs": [],
   "source": [
    "data['daily'][0]['pressure']"
   ]
  },
  {
   "cell_type": "code",
   "execution_count": null,
   "metadata": {},
   "outputs": [],
   "source": [
    "round(data['daily'][0]['wind_speed'])"
   ]
  },
  {
   "cell_type": "code",
   "execution_count": null,
   "metadata": {},
   "outputs": [],
   "source": [
    "data['daily'][0]['clouds']"
   ]
  },
  {
   "cell_type": "code",
   "execution_count": null,
   "metadata": {},
   "outputs": [],
   "source": [
    "data['daily'][0]['pop']"
   ]
  },
  {
   "cell_type": "code",
   "execution_count": null,
   "metadata": {},
   "outputs": [],
   "source": [
    "for f in forecast:\n",
    "    for d in data['daily']:\n",
    "        print(datetime.fromtimestamp(d['dt']).strftime(\"%d/%m\"), round(d['temp']['day']), d['pressure'], round(d['wind_speed']), d['clouds'], d['pop'],d.get('rain',0))"
   ]
  },
  {
   "cell_type": "code",
   "execution_count": null,
   "metadata": {},
   "outputs": [],
   "source": [
    "for f,daily in forecast.items():\n",
    "    print (f)\n",
    "    for d in daily['daily']:\n",
    "        print(datetime.fromtimestamp(d['dt']).strftime(\"%d/%m\"), round(d['temp']['day']), d['pressure'], \n",
    "            round(d['wind_speed']), \n",
    "            d['clouds'], \n",
    "            d.get('rain',0))"
   ]
  },
  {
   "cell_type": "code",
   "execution_count": null,
   "metadata": {},
   "outputs": [],
   "source": [
    "forecast['Glasgow']['daily']"
   ]
  }
 ],
 "metadata": {
  "kernelspec": {
   "display_name": "Python 3.8.5 ('.venv': pipenv)",
   "language": "python",
   "name": "python3"
  },
  "language_info": {
   "codemirror_mode": {
    "name": "ipython",
    "version": 3
   },
   "file_extension": ".py",
   "mimetype": "text/x-python",
   "name": "python",
   "nbconvert_exporter": "python",
   "pygments_lexer": "ipython3",
   "version": "3.8.5"
  },
  "orig_nbformat": 4,
  "vscode": {
   "interpreter": {
    "hash": "10da27bddd3377f40093df844bafe61c564a0568439e5eb1f993e4e158715d8c"
   }
  }
 },
 "nbformat": 4,
 "nbformat_minor": 2
}
